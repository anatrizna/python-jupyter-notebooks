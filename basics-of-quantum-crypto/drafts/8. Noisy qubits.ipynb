{
 "cells": [
  {
   "cell_type": "markdown",
   "metadata": {},
   "source": [
    "<table>\n",
    "    <tr>\n",
    "        <td  style=\"background-color:#ffffff;\" width=\"18%\"><img src=\"..\\images\\qworld.jpg\"  align=\"left\"></td>\n",
    "        <td style=\"background-color:#ffffff;\" width=\"*\"></td>\n",
    "        <td  style=\"background-color:#ffffff;vertical-align:text-top;\" width=\"21%\"><img src=\"..\\images\\qpoland.jpg\" align=\"right\"></td>  \n",
    "        <td  style=\"background-color:#ffffff;vertical-align:text-top;\" width=\"19%\" ><img src=\"..\\images\\qlatvia.jpg\" align=\"right\"></td>  \n",
    "    </tr>\n",
    "    <tr><td colspan=\"4\" align=\"right\" style=\"color:#777777;background-color:#ffffff;font-size:12px;\">\n",
    "        prepared by Anastasija Trizna\n",
    "    </td></tr>\n",
    "    <tr><td colspan=\"4\" align=\"right\" style=\"color:#bbbbbb;background-color:#ffffff;font-size:11px;font-style:italic;\">\n",
    "        This cell contains some macros. If there is a problem with displaying mathematical formulas, please run this cell to load these macros.\n",
    "    </td></tr>\n",
    "</table>\n",
    "$ \\newcommand{\\bra}[1]{\\langle #1|} $\n",
    "$ \\newcommand{\\ket}[1]{|#1\\rangle} $\n",
    "$ \\newcommand{\\braket}[2]{\\langle #1|#2\\rangle} $\n",
    "$ \\newcommand{\\dot}[2]{ #1 \\cdot #2} $\n",
    "$ \\newcommand{\\biginner}[2]{\\left\\langle #1,#2\\right\\rangle} $\n",
    "$ \\newcommand{\\mymatrix}[2]{\\left( \\begin{array}{#1} #2\\end{array} \\right)} $\n",
    "$ \\newcommand{\\myvector}[1]{\\mymatrix{c}{#1}} $\n",
    "$ \\newcommand{\\myrvector}[1]{\\mymatrix{r}{#1}} $\n",
    "$ \\newcommand{\\mypar}[1]{\\left( #1 \\right)} $\n",
    "$ \\newcommand{\\mybigpar}[1]{ \\Big( #1 \\Big)} $\n",
    "$ \\newcommand{\\sqrttwo}{\\frac{1}{\\sqrt{2}}} $\n",
    "$ \\newcommand{\\dsqrttwo}{\\dfrac{1}{\\sqrt{2}}} $\n",
    "$ \\newcommand{\\onehalf}{\\frac{1}{2}} $\n",
    "$ \\newcommand{\\donehalf}{\\dfrac{1}{2}} $\n",
    "$ \\newcommand{\\hadamard}{ \\mymatrix{rr}{ \\sqrttwo & \\sqrttwo \\\\ \\sqrttwo & -\\sqrttwo }} $\n",
    "$ \\newcommand{\\vzero}{\\myvector{1\\\\0}} $\n",
    "$ \\newcommand{\\vone}{\\myvector{0\\\\1}} $\n",
    "$ \\newcommand{\\vhadamardzero}{\\myvector{ \\sqrttwo \\\\  \\sqrttwo } } $\n",
    "$ \\newcommand{\\vhadamardone}{ \\myrvector{ \\sqrttwo \\\\ -\\sqrttwo } } $\n",
    "$ \\newcommand{\\myarray}[2]{ \\begin{array}{#1}#2\\end{array}} $\n",
    "$ \\newcommand{\\X}{ \\mymatrix{cc}{0 & 1 \\\\ 1 & 0}  } $\n",
    "$ \\newcommand{\\Z}{ \\mymatrix{rr}{1 & 0 \\\\ 0 & -1}  } $\n",
    "$ \\newcommand{\\Htwo}{ \\mymatrix{rrrr}{ \\frac{1}{2} & \\frac{1}{2} & \\frac{1}{2} & \\frac{1}{2} \\\\ \\frac{1}{2} & -\\frac{1}{2} & \\frac{1}{2} & -\\frac{1}{2} \\\\ \\frac{1}{2} & \\frac{1}{2} & -\\frac{1}{2} & -\\frac{1}{2} \\\\ \\frac{1}{2} & -\\frac{1}{2} & -\\frac{1}{2} & \\frac{1}{2} } } $\n",
    "$ \\newcommand{\\CNOT}{ \\mymatrix{cccc}{1 & 0 & 0 & 0 \\\\ 0 & 1 & 0 & 0 \\\\ 0 & 0 & 0 & 1 \\\\ 0 & 0 & 1 & 0} } $\n",
    "$ \\newcommand{\\norm}[1]{ \\left\\lVert #1 \\right\\rVert } $"
   ]
  },
  {
   "cell_type": "markdown",
   "metadata": {},
   "source": [
    "So far we assumed that our quantum communication channel is noise-free.\n",
    "\n",
    "But errors are unavoidable in real-world implementation. "
   ]
  },
  {
   "cell_type": "markdown",
   "metadata": {},
   "source": [
    "<b>NoisyChannel</b> function will help us to consider more real-world QKD implementation case.\n",
    "\n",
    "Below funtion will introduce 20% chance that qubit now has an error:"
   ]
  },
  {
   "cell_type": "code",
   "execution_count": 1,
   "metadata": {},
   "outputs": [],
   "source": [
    "# import all necessary objects and methods for quantum circuits\n",
    "from qiskit import QuantumRegister, ClassicalRegister, QuantumCircuit, execute, Aer\n",
    "from random import randrange\n",
    "\n",
    "#Initial source: awards/teach_me_qiskit_2018/cryptography/Cryptography.ipynb\n",
    "#Code modified to introduce noise in communication channel\n",
    "\n",
    "def NoisyChannel(qc1, qc2, qc1_name):\n",
    "    ''' This function takes the output of a circuit qc1 (made up only of x and \n",
    "        h gates, simulate noisy quantum channel, where Pauli errors (X - bit flip; Z - phase flip\n",
    "        will occur in qc2 and then initializes another circuit qc2 with introduce noise.\n",
    "    ''' \n",
    "    \n",
    "    # Quantum state is retrieved from qasm code of qc1\n",
    "    qs = qc1.qasm().split(sep=';')[4:-1]\n",
    "\n",
    "    # Process the code to get the instructions\n",
    "    for index, instruction in enumerate(qs):\n",
    "        qs[index] = instruction.lstrip()\n",
    "\n",
    "    # Parse the instructions and apply to new circuit\n",
    "    for instruction in qs:\n",
    "        if instruction[0] == 'x':\n",
    "            old_qr = int(instruction[5:-1])\n",
    "            qc2.x(qreg[old_qr])\n",
    "        elif instruction[0] == 'h':\n",
    "            old_qr = int(instruction[5:-1])\n",
    "            qc2.h(qreg[old_qr])\n",
    "        elif instruction[0] == 'm': # exclude measuring:\n",
    "            pass\n",
    "        else:\n",
    "            raise Exception('Unable to parse instruction')\n",
    "    \n",
    "    #Introducing noise\n",
    "    for instruction in qs:\n",
    "        if randrange(5)<1: #with probability 0.2\n",
    "            old_qr = int(instruction[5:-1])\n",
    "            qc2.x(qreg[old_qr]) #apply bit-flip error\n",
    "        if randrange(5)<1: #with probability 0.2\n",
    "            old_qr = int(instruction[5:-1])\n",
    "            qc2.z(qreg[old_qr]) #apply phase-flip error"
   ]
  },
  {
   "cell_type": "markdown",
   "metadata": {},
   "source": [
    "<h3>Task 1: Introducing errors</h3>\n",
    "\n",
    "Run again code you developed in 'BB84' notebook to verify calculated QBER rate and final key Asja and Balvis now share.\n",
    "\n",
    "Note: We assume that Eva is not interested in this communication."
   ]
  },
  {
   "cell_type": "code",
   "execution_count": 2,
   "metadata": {},
   "outputs": [],
   "source": [
    "#\n",
    "# your code is here\n",
    "#"
   ]
  },
  {
   "cell_type": "code",
   "execution_count": 3,
   "metadata": {},
   "outputs": [],
   "source": [
    "def split_list(bit_string, parts=1):\n",
    "    length = len(bit_string)\n",
    "    return [ bit_string[i*length // parts: (i+1)*length // parts] \n",
    "             for i in range(parts) ]\n",
    "def print_outcomes_in_reserve(counts): # takes a dictionary variable\n",
    "    for outcome in counts: # for each key-value in dictionary\n",
    "        reverse_outcome = ''\n",
    "        for i in outcome: # each string can be considered as a list of characters\n",
    "            reverse_outcome = i + reverse_outcome # each new symbol comes before the old symbol(s)\n",
    "    return reverse_outcome"
   ]
  },
  {
   "cell_type": "code",
   "execution_count": 4,
   "metadata": {},
   "outputs": [
    {
     "name": "stdout",
     "output_type": "stream",
     "text": [
      "QBER value = 0.1\n",
      "Asjas secret key = [1, 0, 0, 1, 1, 0, 1, 1, 1, 0, 1]\n",
      "Balvis secret key = [1, 1, 0, 1, 0, 0, 0, 1, 1, 0, 1]\n"
     ]
    }
   ],
   "source": [
    "#Solution\n",
    "qreg = QuantumRegister(36) # quantum register with 8 qubits\n",
    "creg = ClassicalRegister(36) # classical register with 8 bits\n",
    "\n",
    "send=[] #Initial bit string ot send\n",
    "asja_basis=[] #Register to save information about encoding basis\n",
    "balvis_basis=[] #Register to save information about decoding basis\n",
    "\n",
    "#Asja\n",
    "asja = QuantumCircuit(qreg, creg, name='Asja')\n",
    "\n",
    "for i in range(36):\n",
    "    bit = randrange(2)\n",
    "    send.append(bit)\n",
    "for i, n in enumerate(send):\n",
    "    if n==1: asja.x(qreg[i]) # apply x-gate\n",
    "for i in range(36):\n",
    "    r=randrange(2) #Asja randomly pick a basis\n",
    "    if r==0: #if bit is 0, then she encodes in X basis\n",
    "        asja_basis.append('X')\n",
    "    else: #if bit is 1, then she encodes in Z basis\n",
    "        asja.h(qreg[i])\n",
    "        asja_basis.append('Z')\n",
    "\n",
    "balvis = QuantumCircuit(qreg, creg, name='Balvis') #Defining Balvis circuit\n",
    "NoisyChannel(asja, balvis, 'Asja') #Asja sends noisy states to Balvis\n",
    "\n",
    "#Balvis \n",
    "for i in range(36):\n",
    "    r=randrange(2) #Balvis randomly pick a basis\n",
    "    if r==0: #if bit is 0, then measures in X basis\n",
    "        balvis.measure(qreg[i],creg[i])\n",
    "        balvis_basis.append('X')\n",
    "    else: #if bit is 1, then measures in Z basis\n",
    "        balvis.h(qreg[i])\n",
    "        balvis.measure(qreg[i],creg[i])\n",
    "        balvis_basis.append('Z')\n",
    "\n",
    "job = execute(balvis,Aer.get_backend('qasm_simulator'),shots=1)\n",
    "counts = job.result().get_counts(balvis)\n",
    "counts = print_outcomes_in_reserve(counts)\n",
    "received = list(map(int, counts))\n",
    "\n",
    "#Sifting\n",
    "asja_key=[] #Asjas register for matching rounds\n",
    "balvis_key=[] #Balvis register for matching rounds\n",
    "for j in range(0,len(asja_basis)): #Going through list of bases \n",
    "    if asja_basis[j] == balvis_basis[j]: #Comparing\n",
    "        asja_key.append(send[j])\n",
    "        balvis_key.append(received[j]) #Keeping key bit if bases matched\n",
    "    else:\n",
    "        pass #Discard round if bases mismatched\n",
    "\n",
    "#QBER\n",
    "rounds = len(asja_key)//3\n",
    "errors=0\n",
    "for i in range(rounds):\n",
    "    bit_index = randrange(len(asja_key)) \n",
    "    tested_bit = asja_key[bit_index]\n",
    "    print (\"Asja randomly selected bit index - \", bit_index, \"- and its value is - \", tested_bit)\n",
    "    if asja_key[bit_index]!=balvis_key[bit_index]: #comparing tested rounds\n",
    "        errors=errors+1 #calculating errors\n",
    "    del asja_key[bit_index] #removing tested bits from key strings\n",
    "    del balvis_key[bit_index]\n",
    "QBER=errors/rounds #calculating QBER\n",
    "        \n",
    "print(\"QBER value =\", QBER)\n",
    "print(\"Asjas secret key =\", asja_key)\n",
    "print(\"Balvis secret key =\", balvis_key)"
   ]
  },
  {
   "cell_type": "markdown",
   "metadata": {},
   "source": [
    "When we start to consider a real-world implementation, there will always be some errors and Balvis will always have a noisy version of Asja's bits, even if they measure in the same basis.\n",
    "\n",
    "Noise-free protocol version cannot deal with that, we would abort if we see a single error. That would be extremely wasteful, if Asja and Balvis have exchanged a huge amount of BB84 states, but then they saw a single error and start all-over again.\n",
    "\n",
    "We will need to modify protocol to be resistant to noise.\n",
    "\n",
    "This can be achieved by adding additional step in our BB84 workflow - <b>Information Reconciliation</b>."
   ]
  },
  {
   "cell_type": "markdown",
   "metadata": {},
   "source": [
    "<h3>Parity check</h3>\n",
    "\n",
    "Parity [equvalence, equality] check method is commonly used in classical information processing and can be very useful for our quantum case as well!\n",
    "\n",
    "The basic idea is as follow:\n",
    "\n",
    "Suppose you want to send a 7 bits of information: $1101100$.\n",
    "\n",
    "But some interference came in during communication and your string become $1111100$.\n",
    "\n",
    "How can we tell if the received information is correct or wrong?\n",
    "\n",
    "<b>Parity check</b> technique can be applied to ensure the correctness of received string by verifying parity bit.\n",
    "\n",
    "<b>Parity bit</b> is one additional bit that add at the end of our initial string before sending to the recepient. \n",
    "\n",
    "For a given set of bits we will count how many bits we have with value '1':\n",
    "<center><li>If count is even - we add parity bit $0$ at the end of our string</center>\n",
    "<center><li>If count is odd - we add parity bit $1$</center>"
   ]
  },
  {
   "cell_type": "markdown",
   "metadata": {},
   "source": [
    "<b>Back to our example:</b>\n",
    "<li> Initial bit string: $1101100$\n",
    "<li> Parity bit: $1+1+0+1+1+0+0+(mod2)=0$\n",
    "<li> Additing parity bit and send: $11011000$\n",
    "    \n",
    "Successful transmission:\n",
    "<li> Asja sends $11011000$ to Balvis.\n",
    "<li> Balvis receives $11011000$ and verifies correctness by computing parity for first 8 bits: $1+1+0+1+1+0+0(mod2)=0$\n",
    "<li> Balvis compare result with parity bit $0=0$.\n",
    "\n",
    "Failed transmission:\n",
    "<li> Asja sends $11011000$ to Balvis.\n",
    "<li> Some interference occurs in the channel and Balvis receives $11111000$. \n",
    "<li> Balvis verifies correctness by computing parity for first 8 bits: $1+1+1+1+1+0+0(mod2)=1$ and comparing with parity bit $1≠0$. \n",
    "<li> Calculated result does not match the parity bit, thus Balvis knows that received bit string contains an error."
   ]
  },
  {
   "cell_type": "markdown",
   "metadata": {},
   "source": [
    "<h3>Task 1: Parity check game</h3>\n",
    "    \n",
    "Create a $ (5 \\times 5) $-dimensional matrix with random binary input: $(i,j)$<sup>n</sup> $→$ {0, 1}<sup>m</sup>.\n",
    "\n",
    "The $ (i,j) $-th entry of matrix refers to the entry in $ i $-th row and $ j $-th column.\n",
    "\n",
    "Add a parity bit to each row and column by adding additional column (to the right) and row (at the bottom) of your matrix.\n",
    "\n",
    "Example, \n",
    "initial matrix:\n",
    "\n",
    "$$\n",
    "    M = \\mymatrix{rrrrr}{0 & 0 & 1 & 1 & 0 \\\\ 0 & 1 & 1 & 1 & 0 \\\\ 1 & 0 & 1 & 1 & 1 \\\\ 0 & 1 & 0 & 0 & 0 \\\\ 1 & 1 & 0 & 1 & 0}\n",
    "$$\n",
    "\n",
    "\n",
    "Matrix with parity bit:\n",
    "\n",
    "$$\n",
    "    M = \\mymatrix{rrrrrr}{0 & 0 & 1 & 1 & 0 & 0 \\\\ 0 & 1 & 1 & 1 & 0 & 1 \\\\ 1 & 0 & 1 & 1 & 1 & 0 \\\\ 0 & 1 & 0 & 0 & 0 & 1\\\\ 1 & 1 & 0 & 1 & 0 & 1 \\\\ 0 & 1 & 1 & 0 & 1 & 1}\n",
    "$$\n",
    "\n",
    "\n",
    "<li> Flip one random bit and see if you can correct the error by looking at parity column and row. \n",
    "<li> What if you flip two random bits?\n",
    "<li> And three?"
   ]
  },
  {
   "cell_type": "code",
   "execution_count": 5,
   "metadata": {},
   "outputs": [],
   "source": [
    "#\n",
    "# your code is here\n",
    "#"
   ]
  },
  {
   "cell_type": "markdown",
   "metadata": {},
   "source": [
    "Answer: The parity trick is always able to detect and correct errors if one bit has been flipped, but it is important to evaluate this algorithm for different kinds of errors as well. If more than one bit is flipped (i.e. more than one error occurs) then we can tell something is wrong with the data, but our algorithm can’t tell us how to fix this! Even worse, if more than two bits are flipped then sometimes we might not even be able to detect the error! It’s important that we evaluate this algorithm, because if it is going to fail sometimes we need to know."
   ]
  },
  {
   "cell_type": "markdown",
   "metadata": {},
   "source": [
    "<h3>BB84 to handle the noise</h3>\n",
    "\n",
    "Information reconciliation is form of error correction carried between Asja and Balvis over the classical channel. \n",
    "\n",
    "The goal is to correct errors in their final key strings to ensure both keys are identical. \n",
    "\n",
    "<b>Cascade protocol</b> implements the idea of parity check and is commonly used in information reconciliation.\n",
    "\n",
    "\n",
    "<h3>Cascade protocol</h3>\n",
    "\n",
    "Errors in physical transmission media are typically not uniformly distributed. For example, they often exhibit burst structures, i.e., a sequence of constructive errors is more likely to occur.\n",
    "\n",
    "The cascade protocol idea is to perform several rounds, with both keys divided into blocks in each round and the parity of those blocks compared.\n",
    "\n",
    "A popular method is to randomize the location of errors first, so Asja and Balvis agree on a random permutation and re-order their bit string. "
   ]
  },
  {
   "cell_type": "code",
   "execution_count": 6,
   "metadata": {},
   "outputs": [
    {
     "name": "stdout",
     "output_type": "stream",
     "text": [
      "('a', 'c', 'b')\n",
      "(1, 3, 2)\n"
     ]
    }
   ],
   "source": [
    "#Performing random permutation\n",
    "import random #importing randomizing library\n",
    "\n",
    "list1=['a', 'b', 'c']\n",
    "list2=[1, 2, 3]\n",
    "\n",
    "permutation = list(zip(list1, list2)) #map the index of multiple lists\n",
    "random.shuffle(permutation) #performing permutation\n",
    "list1, list2 = zip(*permutation) #unpacking values\n",
    "\n",
    "print(list1)\n",
    "print(list2)"
   ]
  },
  {
   "cell_type": "markdown",
   "metadata": {},
   "source": [
    "Cascade protocol consist several passes. Before <b>each</b> pass Asja and Balvis perform random permutation and re-order their bits. \n",
    "\n",
    "1st PASS - Subdividing blocks:\n",
    "1. Asja and Balvis shuffle their bits by applying random permitation they agreed on.\n",
    "2. Asja and Balvis subdivide their key strings into blocks of equal lenght and calculate parity bit for each block.\n",
    "3. Asja and Balvis compare parity bits.\n",
    "* If parity matched - they accept block as correct.\n",
    "* If parity dismatched - they continue with next pass because this block contains an error.\n",
    "\n",
    "2nd PASS - Bisective search:\n",
    "1. Asja and Balvis shuffle their bits by applying random permitation they agreed on.\n",
    "2. Asja and Balvis devide bad blocks and calculate parity bit for each half.\n",
    "3. Asja and Balvis compare parity bits.\n",
    "* If parity matched - they accept block as correct.\n",
    "* If parity dismatched - they continue with next pass because this block contains an error.\n",
    "\n",
    "3rd PASS = repeating 2nd PASS\n",
    "\n",
    "Asja and Balvis repeate 2nd PASS untill they find and correct an error. "
   ]
  },
  {
   "cell_type": "markdown",
   "metadata": {},
   "source": [
    "<h4>Threshold</h4>\n",
    "Cascade protocol has a certain <b>threshold</b>. \n",
    "If the QBER ≥ 0.25, then Cascade discloses more than $n$ bits and hence potentially the complete raw key.\n",
    "\n",
    "<h4>Block size</h4>\n",
    "The subblock size $w$ depends on iteration. \n",
    "The initial block size should be chosen such that we expect to have one error in the block. \n",
    "Therefore, we can use our QBER value again to estimate $w$ value!\n",
    "\n",
    "In the first pass, $w$<sub>1</sub>$=\\frac{0.73}{QBER}$.\n",
    "\n",
    "In the next passes, $w$<sub>i</sub>$=2w$<sub>i-1</sub>\n",
    "\n",
    "Now we have all knowledge we need to update our BB84 protocol workflow!"
   ]
  },
  {
   "cell_type": "markdown",
   "metadata": {},
   "source": [
    "<td style=\"background-color:#ffffff;\"><img src=\"..\\images\\BB84_noise.jpg\" width=\"70%\" align=\"middle\"></td> "
   ]
  },
  {
   "cell_type": "code",
   "execution_count": null,
   "metadata": {},
   "outputs": [],
   "source": []
  }
 ],
 "metadata": {
  "kernelspec": {
   "display_name": "Python 3",
   "language": "python",
   "name": "python3"
  },
  "language_info": {
   "codemirror_mode": {
    "name": "ipython",
    "version": 3
   },
   "file_extension": ".py",
   "mimetype": "text/x-python",
   "name": "python",
   "nbconvert_exporter": "python",
   "pygments_lexer": "ipython3",
   "version": "3.7.3"
  }
 },
 "nbformat": 4,
 "nbformat_minor": 2
}
