{
 "cells": [
  {
   "cell_type": "markdown",
   "metadata": {},
   "source": [
    "<table>\n",
    "    <tr>\n",
    "        <td  style=\"background-color:#ffffff;\" width=\"18%\"><img src=\"..\\images\\qworld.jpg\"  align=\"left\"></td>\n",
    "        <td style=\"background-color:#ffffff;\" width=\"*\"></td>\n",
    "        <td  style=\"background-color:#ffffff;vertical-align:text-top;\" width=\"21%\"><img src=\"..\\images\\qpoland.jpg\" align=\"right\"></td>  \n",
    "        <td  style=\"background-color:#ffffff;vertical-align:text-top;\" width=\"19%\" ><img src=\"..\\images\\qlatvia.jpg\" align=\"right\"></td>  \n",
    "    </tr>\n",
    "    <tr><td colspan=\"4\" align=\"right\" style=\"color:#777777;background-color:#ffffff;font-size:12px;\">\n",
    "        prepared by Anastasija Trizna\n",
    "    </td></tr>\n",
    "    <tr><td colspan=\"4\" align=\"right\" style=\"color:#bbbbbb;background-color:#ffffff;font-size:11px;font-style:italic;\">\n",
    "        This cell contains some macros. If there is a problem with displaying mathematical formulas, please run this cell to load these macros.\n",
    "    </td></tr>\n",
    "</table>\n",
    "$ \\newcommand{\\bra}[1]{\\langle #1|} $\n",
    "$ \\newcommand{\\ket}[1]{|#1\\rangle} $\n",
    "$ \\newcommand{\\braket}[2]{\\langle #1|#2\\rangle} $\n",
    "$ \\newcommand{\\dot}[2]{ #1 \\cdot #2} $\n",
    "$ \\newcommand{\\biginner}[2]{\\left\\langle #1,#2\\right\\rangle} $\n",
    "$ \\newcommand{\\mymatrix}[2]{\\left( \\begin{array}{#1} #2\\end{array} \\right)} $\n",
    "$ \\newcommand{\\myvector}[1]{\\mymatrix{c}{#1}} $\n",
    "$ \\newcommand{\\myrvector}[1]{\\mymatrix{r}{#1}} $\n",
    "$ \\newcommand{\\mypar}[1]{\\left( #1 \\right)} $\n",
    "$ \\newcommand{\\mybigpar}[1]{ \\Big( #1 \\Big)} $\n",
    "$ \\newcommand{\\sqrttwo}{\\frac{1}{\\sqrt{2}}} $\n",
    "$ \\newcommand{\\dsqrttwo}{\\dfrac{1}{\\sqrt{2}}} $\n",
    "$ \\newcommand{\\onehalf}{\\frac{1}{2}} $\n",
    "$ \\newcommand{\\donehalf}{\\dfrac{1}{2}} $\n",
    "$ \\newcommand{\\hadamard}{ \\mymatrix{rr}{ \\sqrttwo & \\sqrttwo \\\\ \\sqrttwo & -\\sqrttwo }} $\n",
    "$ \\newcommand{\\vzero}{\\myvector{1\\\\0}} $\n",
    "$ \\newcommand{\\vone}{\\myvector{0\\\\1}} $\n",
    "$ \\newcommand{\\vhadamardzero}{\\myvector{ \\sqrttwo \\\\  \\sqrttwo } } $\n",
    "$ \\newcommand{\\vhadamardone}{ \\myrvector{ \\sqrttwo \\\\ -\\sqrttwo } } $\n",
    "$ \\newcommand{\\myarray}[2]{ \\begin{array}{#1}#2\\end{array}} $\n",
    "$ \\newcommand{\\X}{ \\mymatrix{cc}{0 & 1 \\\\ 1 & 0}  } $\n",
    "$ \\newcommand{\\Z}{ \\mymatrix{rr}{1 & 0 \\\\ 0 & -1}  } $\n",
    "$ \\newcommand{\\Htwo}{ \\mymatrix{rrrr}{ \\frac{1}{2} & \\frac{1}{2} & \\frac{1}{2} & \\frac{1}{2} \\\\ \\frac{1}{2} & -\\frac{1}{2} & \\frac{1}{2} & -\\frac{1}{2} \\\\ \\frac{1}{2} & \\frac{1}{2} & -\\frac{1}{2} & -\\frac{1}{2} \\\\ \\frac{1}{2} & -\\frac{1}{2} & -\\frac{1}{2} & \\frac{1}{2} } } $\n",
    "$ \\newcommand{\\CNOT}{ \\mymatrix{cccc}{1 & 0 & 0 & 0 \\\\ 0 & 1 & 0 & 0 \\\\ 0 & 0 & 0 & 1 \\\\ 0 & 0 & 1 & 0} } $\n",
    "$ \\newcommand{\\norm}[1]{ \\left\\lVert #1 \\right\\rVert } $"
   ]
  },
  {
   "cell_type": "markdown",
   "metadata": {},
   "source": [
    "Quantum Key Distribution (<b>QKD</b>) is the best-known application of quantum cryptography.\n",
    "\n",
    "QKD promises to achieve unconditional security in communication! \n",
    "\n",
    "The security of QKD is measured with respect to a perfect key distribution scheme where two or more legitimate users share a randomly generated secret key. And as we discussed previously, key material is a very valuable commodity even though it conveys no useful information itself."
   ]
  },
  {
   "cell_type": "markdown",
   "metadata": {},
   "source": [
    "<b>BB84</b>, is the first in the history QKD protocol in history, published in 1984 by Charles H. Bennett and Gilles Brassard.\n",
    "\n",
    "Besides a <b>quantum channel</b> to distribute qubits, users need to share an <b>authenticated classical channel</b>, so that everyone who listens to this channel can acquire a copy of the information but cannot meddle and modify messages which are transmitted during the communication session.\n",
    "    \n",
    "<h3>BB84 noise-free protocol version workflow</h3>  "
   ]
  },
  {
   "cell_type": "markdown",
   "metadata": {},
   "source": [
    "<b>BB84</b>, is the first in the history QKD protocol in history, published in 1984 by Charles H. Bennett and Gilles Brassard.\n",
    "\n",
    "Protocol workflow is the following:\n",
    "\n",
    "<td style=\"background-color:#ffffff;\"><img src=\"..\\images\\BB84.jpg\" width=\"70%\" align=\"middle\"></td> "
   ]
  },
  {
   "cell_type": "markdown",
   "metadata": {},
   "source": [
    "<h3>Task 1: Distributing quantum states</h3>\n",
    "\n",
    "At this stage Asja chooses a random bit string and random sequence of encoding bases (X or Z) and prepares qubits:\n",
    "<center>states $\\ket{0}$ and $\\ket{1}$ forms Standart basis - $X$ </center>\n",
    "<center>states $\\ket{+}$ and $\\ket{-}$ forms Hadamard basis - $Z$ </center>\n",
    "\n",
    "She then sends qubits Balvis, each representing one bit of the string in the basis chosen for that bit position:\n",
    "<center>$\\ket0$ or $\\ket+$ for a binary $0$ </center>\n",
    "<center>$\\ket1$ or $\\ket-$ standing for a binary $1$ </center>\n",
    "\n",
    "Once Balvis receives the photons, he decides, <b>randomly for each photon and independently from Asja</b>, whether to measure it on X or Z basis and interprets the result of the measurement as a binary $0$ or $1$.\n",
    "\n",
    "Create a programm that runs the following protocol:<ul>\n",
    "    <li>Asja creates 16-bit long random bit string and prepares qubits\n",
    "    <li>Asja encodes qubits in randomly picked basis (X or Z) - do nothing if she chosed X basis, apply H gate if she chosed Z basis.\n",
    "    <li>Asja save information about initial bit value and basis she used to encode\n",
    "    <li>Asja sends qubits to Balvis\n",
    "    <li>Balvis randomly and independently from Asja chooses in which basis he will measure each received qubit\n",
    "    <li>Balvis measures qubits on chosed basis (X or Z) - do nothing if he chosed X basis, apply H gate before measurement if he chosed Z basis.\n",
    "    <li>Balvis saves information about basis he used and measurement result</ul>"
   ]
  },
  {
   "cell_type": "code",
   "execution_count": 1,
   "metadata": {},
   "outputs": [],
   "source": [
    "# import all necessary objects and methods for quantum circuits\n",
    "from qiskit import QuantumRegister, ClassicalRegister, QuantumCircuit, execute, Aer\n",
    "from random import randrange\n",
    "\n",
    "#Source: awards/teach_me_qiskit_2018/cryptography/Cryptography.ipynb\n",
    "\n",
    "def SendState(qc1, qc2, qc1_name):\n",
    "    ''' This function takes the output of a circuit qc1 (made up only of x and \n",
    "        h gates and initializes another circuit qc2 with the same state\n",
    "    ''' \n",
    "    \n",
    "    # Quantum state is retrieved from qasm code of qc1\n",
    "    qs = qc1.qasm().split(sep=';')[4:-1]\n",
    "\n",
    "    # Process the code to get the instructions\n",
    "    for index, instruction in enumerate(qs):\n",
    "        qs[index] = instruction.lstrip()\n",
    "\n",
    "    # Parse the instructions and apply to new circuit\n",
    "    for instruction in qs:\n",
    "        if instruction[0] == 'x':\n",
    "            old_qr = int(instruction[5:-1])\n",
    "            qc2.x(qreg[old_qr])\n",
    "        elif instruction[0] == 'h':\n",
    "            old_qr = int(instruction[5:-1])\n",
    "            qc2.h(qreg[old_qr])\n",
    "        elif instruction[0] == 'm': # exclude measuring:\n",
    "            pass\n",
    "        else:\n",
    "            raise Exception('Unable to parse instruction')\n",
    "\n",
    "def print_outcomes_in_reserve(counts): # takes a dictionary variable\n",
    "    for outcome in counts: # for each key-value in dictionary\n",
    "        reverse_outcome = ''\n",
    "        for i in outcome: # each string can be considered as a list of characters\n",
    "            reverse_outcome = i + reverse_outcome # each new symbol comes before the old symbol(s)\n",
    "    return reverse_outcome"
   ]
  },
  {
   "cell_type": "code",
   "execution_count": 2,
   "metadata": {},
   "outputs": [],
   "source": [
    "#\n",
    "# your code is here\n",
    "#"
   ]
  },
  {
   "cell_type": "code",
   "execution_count": 3,
   "metadata": {},
   "outputs": [
    {
     "name": "stdout",
     "output_type": "stream",
     "text": [
      "Asja sent: [0, 1, 0, 1, 0, 0, 0, 1, 0, 0, 1, 1, 0, 0, 1, 0]\n",
      "Asja encoding basis: ['X', 'X', 'Z', 'Z', 'X', 'X', 'X', 'X', 'Z', 'X', 'X', 'Z', 'Z', 'Z', 'X', 'X']\n",
      "Balvis received: [0, 1, 0, 0, 0, 0, 0, 1, 0, 1, 1, 1, 1, 0, 1, 0]\n",
      "Balvis decoding basis: ['Z', 'Z', 'Z', 'X', 'X', 'Z', 'X', 'X', 'Z', 'Z', 'X', 'Z', 'X', 'Z', 'Z', 'X']\n"
     ]
    }
   ],
   "source": [
    "#Solution\n",
    "\n",
    "qreg = QuantumRegister(16) # quantum register with 8 qubits\n",
    "creg = ClassicalRegister(16) # classical register with 8 bits\n",
    "\n",
    "# Quantum circuit for Asja state\n",
    "asja = QuantumCircuit(qreg, creg, name='Asja')\n",
    "\n",
    "send=[] #Initial bit string ot send\n",
    "asja_basis=[] #Register to save information about encoding basis\n",
    "balvis_basis=[] #Register to save information about decoding basis\n",
    "\n",
    "#Creating random bit string\n",
    "for i in range(16):\n",
    "    bit = randrange(2)\n",
    "    send.append(bit)\n",
    "    \n",
    "#Preparing qubits, apply X gate if bit is equal 1\n",
    "for i, n in enumerate(send):\n",
    "    if n==1:\n",
    "        asja.x(qreg[i]) # apply x-gate\n",
    "\n",
    "#send_str = ''.join(str(e) for e in send)\n",
    "\n",
    "#Encoding\n",
    "for i in range(16):\n",
    "    r=randrange(2) #Asja randomly pick a basis\n",
    "    if r==0: #if bit is 0, then she encodes in X basis\n",
    "        asja_basis.append('X')\n",
    "    else: #if bit is 1, then she encodes in Z basis\n",
    "        asja.h(qreg[i])\n",
    "        asja_basis.append('Z')\n",
    "\n",
    "balvis = QuantumCircuit(qreg, creg, name='Balvis') #Defining Balvis circuit\n",
    "SendState(asja, balvis, 'Asja') #Asja sends states to Balvis\n",
    "\n",
    "#Balvis measures qubits\n",
    "for i in range(16):\n",
    "    r=randrange(2) #Balvis randomly pick a basis\n",
    "    if r==0: #if bit is 0, then measures in X basis\n",
    "        balvis.measure(qreg[i],creg[i])\n",
    "        balvis_basis.append('X')\n",
    "    else: #if bit is 1, then measures in Z basis\n",
    "        balvis.h(qreg[i])\n",
    "        balvis.measure(qreg[i],creg[i])\n",
    "        balvis_basis.append('Z')\n",
    "\n",
    "job = execute(balvis,Aer.get_backend('qasm_simulator'),shots=1) #Note that Balvis only has one shot to measure qubits\n",
    "counts = job.result().get_counts(balvis) # counts is a dictionary object in python\n",
    "counts = print_outcomes_in_reserve(counts)\n",
    "\n",
    "#Saving Balvis received string as a list\n",
    "received = list(map(int, counts))\n",
    "\n",
    "print(\"Asja sent:\", send)\n",
    "print(\"Asja encoding basis:\", asja_basis)\n",
    "print(\"Balvis received:\", received)\n",
    "print(\"Balvis decoding basis:\", balvis_basis)"
   ]
  },
  {
   "cell_type": "markdown",
   "metadata": {},
   "source": [
    "<h3>Task 2: Classical post-processing - sifting</h3>\n",
    "\n",
    "Asja and Balvis then determine, by public exchange of messages, which qubits were successfully received and of these which were received with the correct basis. \n",
    "\n",
    "During this stage, Balvis reveals the number and rounds when he was able receive a qubit from Asja and Asja share the bases she used to prepare each qubit. \n",
    "\n",
    "Both users discard rounds when Balvis didn’t receive a qubit and when he choose measurement basis different from the one Asja used when prepared states. \n",
    "\n",
    "Implement sifting phase:<ul>\n",
    "    <li>Asja and Balvis compare bases they used and keep bits from rounds where bases matched. \n",
    "    <li>Both Asja and Balvis remove from their key string bits where they used different bases.\n",
    "    <li>Print out the keys Asja and Balvis now have. \n",
    "</ul>"
   ]
  },
  {
   "cell_type": "code",
   "execution_count": 4,
   "metadata": {},
   "outputs": [],
   "source": [
    "#\n",
    "# your code is here\n",
    "#"
   ]
  },
  {
   "cell_type": "code",
   "execution_count": 5,
   "metadata": {},
   "outputs": [
    {
     "name": "stdout",
     "output_type": "stream",
     "text": [
      "Asjas key = [0, 0, 0, 1, 0, 1, 1, 0, 0]\n",
      "Balvis key = [0, 0, 0, 1, 0, 1, 1, 0, 0]\n"
     ]
    }
   ],
   "source": [
    "#Classical post-processing: Sifting\n",
    "asja_key=[] #Asjas register for matching rounds\n",
    "balvis_key=[] #Balvis register for matching rounds\n",
    "for j in range(0,len(asja_basis)): #Going through list of bases \n",
    "    if asja_basis[j] == balvis_basis[j]: #Comparing\n",
    "        asja_key.append(send[j])\n",
    "        balvis_key.append(received[j]) #Keeping key bit if bases matched\n",
    "    else:\n",
    "        pass #Discard round if bases mismatched\n",
    "\n",
    "print(\"Asjas key =\", asja_key)\n",
    "print(\"Balvis key =\", balvis_key)"
   ]
  },
  {
   "cell_type": "markdown",
   "metadata": {},
   "source": [
    "<h3>Task 3: Classical post-processing - Quantum Bit Error Rate</h3>\n",
    "\n",
    "At this stage Asja randomly chooses $n$ of remain bits to test and says to Balvis which rounds are tested. Asja and Balvis exchange bits, compare and compute <b>Quantum Bit Error Rate</b> (QBER). Asja and Balvis estimate the information gained by eavesdropper during the quantum transmission stage from the observed QBER. If error rate is not zero - they abort the protocol. If threshold is not reached, they will continue with privacy amplification step.\n",
    "\n",
    "Implement QBER phase:<ul>\n",
    "    <li>Asja and Balvis compare bit-by-bit first half of their final key (if key length is odd they compare: $\\frac{n-1}{2}$)\n",
    "    <li>If their bits does not match - this round is considered as an error.\n",
    "    <li>Calculate error rate as: $QBER=\\frac{error}{compared bits}$\n",
    "    <li>Discard bits used for QBER estimation from their final key strings.\n",
    "    <li>Print keys Asja and Balvis now have and QBER value.\n",
    "</ul>"
   ]
  },
  {
   "cell_type": "code",
   "execution_count": 6,
   "metadata": {},
   "outputs": [],
   "source": [
    "#\n",
    "# your code is here\n",
    "#"
   ]
  },
  {
   "cell_type": "code",
   "execution_count": 8,
   "metadata": {},
   "outputs": [
    {
     "name": "stdout",
     "output_type": "stream",
     "text": [
      "QBER value = 0.0\n",
      "Asjas secret key = [0, 1, 1, 0, 0]\n",
      "Balvis secret key = [0, 1, 1, 0, 0]\n"
     ]
    }
   ],
   "source": [
    "#function to split a bit string list\n",
    "def split_list(bit_string, parts=1):\n",
    "    length = len(bit_string)\n",
    "    return [ bit_string[i*length // parts: (i+1)*length // parts] \n",
    "             for i in range(parts) ]\n",
    "#QBER\n",
    "#Asja splits her key in two parts. First part will be used for check,second part is final key\n",
    "error_check_asja, remain_key_asja= split_list(asja_key, parts=2) \n",
    "\n",
    "#Balvis splits his key in two parts. First part will be used for check,second part is final key\n",
    "error_check_balvis, remain_key_balvis = split_list(balvis_key, parts=2) \n",
    "\n",
    "#Comparing the bits\n",
    "errors=0\n",
    "for j in range(0,len(error_check_asja)): #Going through bits chosen for error correction \n",
    "    if error_check_asja[j] != error_check_balvis[j]: #Comparing bits\n",
    "        errors=errors+1 #Calculating errors\n",
    "\n",
    "#Calculating QBER\n",
    "QBER=errors/len(error_check_asja)\n",
    "\n",
    "print(\"QBER value =\", QBER)\n",
    "print(\"Asjas secret key =\", remain_key_asja)\n",
    "print(\"Balvis secret key =\", remain_key_balvis)"
   ]
  },
  {
   "cell_type": "code",
   "execution_count": null,
   "metadata": {},
   "outputs": [],
   "source": []
  }
 ],
 "metadata": {
  "kernelspec": {
   "display_name": "Python 3",
   "language": "python",
   "name": "python3"
  },
  "language_info": {
   "codemirror_mode": {
    "name": "ipython",
    "version": 3
   },
   "file_extension": ".py",
   "mimetype": "text/x-python",
   "name": "python",
   "nbconvert_exporter": "python",
   "pygments_lexer": "ipython3",
   "version": "3.7.3"
  }
 },
 "nbformat": 4,
 "nbformat_minor": 2
}
