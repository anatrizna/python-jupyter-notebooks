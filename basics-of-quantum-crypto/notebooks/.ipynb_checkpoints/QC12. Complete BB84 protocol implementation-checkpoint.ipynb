{
 "cells": [
  {
   "cell_type": "markdown",
   "metadata": {},
   "source": [
    "<table>\n",
    "    <tr>\n",
    "        <td  style=\"background-color:#ffffff;\" width=\"18%\"><img src=\"..\\images\\qworld.jpg\"  align=\"left\"></td>\n",
    "        <td style=\"background-color:#ffffff;\" width=\"*\"></td>\n",
    "        <td  style=\"background-color:#ffffff;vertical-align:text-top;\" width=\"21%\"><img src=\"..\\images\\qpoland.jpg\" align=\"right\"></td>  \n",
    "        <td  style=\"background-color:#ffffff;vertical-align:text-top;\" width=\"19%\" ><img src=\"..\\images\\qlatvia.jpg\" align=\"right\"></td>  \n",
    "    </tr>\n",
    "    <tr><td colspan=\"4\" align=\"right\" style=\"color:#777777;background-color:#ffffff;font-size:12px;\">\n",
    "        prepared by Anastasija Trizna\n",
    "    </td></tr>\n",
    "    <tr><td colspan=\"4\" align=\"right\" style=\"color:#bbbbbb;background-color:#ffffff;font-size:11px;font-style:italic;\">\n",
    "        This cell contains some macros. If there is a problem with displaying mathematical formulas, please run this cell to load these macros.\n",
    "    </td></tr>\n",
    "</table>\n",
    "$ \\newcommand{\\bra}[1]{\\langle #1|} $\n",
    "$ \\newcommand{\\ket}[1]{|#1\\rangle} $\n",
    "$ \\newcommand{\\braket}[2]{\\langle #1|#2\\rangle} $\n",
    "$ \\newcommand{\\dot}[2]{ #1 \\cdot #2} $\n",
    "$ \\newcommand{\\biginner}[2]{\\left\\langle #1,#2\\right\\rangle} $\n",
    "$ \\newcommand{\\mymatrix}[2]{\\left( \\begin{array}{#1} #2\\end{array} \\right)} $\n",
    "$ \\newcommand{\\myvector}[1]{\\mymatrix{c}{#1}} $\n",
    "$ \\newcommand{\\myrvector}[1]{\\mymatrix{r}{#1}} $\n",
    "$ \\newcommand{\\mypar}[1]{\\left( #1 \\right)} $\n",
    "$ \\newcommand{\\mybigpar}[1]{ \\Big( #1 \\Big)} $\n",
    "$ \\newcommand{\\sqrttwo}{\\frac{1}{\\sqrt{2}}} $\n",
    "$ \\newcommand{\\dsqrttwo}{\\dfrac{1}{\\sqrt{2}}} $\n",
    "$ \\newcommand{\\onehalf}{\\frac{1}{2}} $\n",
    "$ \\newcommand{\\donehalf}{\\dfrac{1}{2}} $\n",
    "$ \\newcommand{\\hadamard}{ \\mymatrix{rr}{ \\sqrttwo & \\sqrttwo \\\\ \\sqrttwo & -\\sqrttwo }} $\n",
    "$ \\newcommand{\\vzero}{\\myvector{1\\\\0}} $\n",
    "$ \\newcommand{\\vone}{\\myvector{0\\\\1}} $\n",
    "$ \\newcommand{\\vhadamardzero}{\\myvector{ \\sqrttwo \\\\  \\sqrttwo } } $\n",
    "$ \\newcommand{\\vhadamardone}{ \\myrvector{ \\sqrttwo \\\\ -\\sqrttwo } } $\n",
    "$ \\newcommand{\\myarray}[2]{ \\begin{array}{#1}#2\\end{array}} $\n",
    "$ \\newcommand{\\X}{ \\mymatrix{cc}{0 & 1 \\\\ 1 & 0}  } $\n",
    "$ \\newcommand{\\Z}{ \\mymatrix{rr}{1 & 0 \\\\ 0 & -1}  } $\n",
    "$ \\newcommand{\\Htwo}{ \\mymatrix{rrrr}{ \\frac{1}{2} & \\frac{1}{2} & \\frac{1}{2} & \\frac{1}{2} \\\\ \\frac{1}{2} & -\\frac{1}{2} & \\frac{1}{2} & -\\frac{1}{2} \\\\ \\frac{1}{2} & \\frac{1}{2} & -\\frac{1}{2} & -\\frac{1}{2} \\\\ \\frac{1}{2} & -\\frac{1}{2} & -\\frac{1}{2} & \\frac{1}{2} } } $\n",
    "$ \\newcommand{\\CNOT}{ \\mymatrix{cccc}{1 & 0 & 0 & 0 \\\\ 0 & 1 & 0 & 0 \\\\ 0 & 0 & 0 & 1 \\\\ 0 & 0 & 1 & 0} } $\n",
    "$ \\newcommand{\\norm}[1]{ \\left\\lVert #1 \\right\\rVert } $"
   ]
  },
  {
   "cell_type": "markdown",
   "metadata": {},
   "source": [
    "<h4>0. Defining NoisyChannel and other helpfull functions<h4>"
   ]
  },
  {
   "cell_type": "code",
   "execution_count": 1,
   "metadata": {},
   "outputs": [],
   "source": [
    "# import all necessary objects and methods for quantum circuits\n",
    "from qiskit import QuantumRegister, ClassicalRegister, QuantumCircuit, execute, Aer\n",
    "import random\n",
    "from random import randrange\n",
    "\n",
    "#Initial source: awards/teach_me_qiskit_2018/cryptography/Cryptography.ipynb\n",
    "#Code modified to introduce noise in communication channel\n",
    "\n",
    "def NoisyChannel(qc1, qc2, qc1_name):\n",
    "    ''' This function takes the output of a circuit qc1 (made up only of x and \n",
    "        h gates, simulate noisy quantum channel, where Pauli errors (X - bit flip; Z - phase flip\n",
    "        will occur in qc2 and then initializes another circuit qc2 with introduce noise.\n",
    "    ''' \n",
    "    \n",
    "    # Quantum state is retrieved from qasm code of qc1\n",
    "    qs = qc1.qasm().split(sep=';')[4:-1]\n",
    "\n",
    "    # Process the code to get the instructions\n",
    "    for index, instruction in enumerate(qs):\n",
    "        qs[index] = instruction.lstrip()\n",
    "\n",
    "    # Parse the instructions and apply to new circuit\n",
    "    for instruction in qs:\n",
    "        if instruction[0] == 'x':\n",
    "            old_qr = int(instruction[5:-1])\n",
    "            qc2.x(qreg[old_qr])\n",
    "        elif instruction[0] == 'h':\n",
    "            old_qr = int(instruction[5:-1])\n",
    "            qc2.h(qreg[old_qr])\n",
    "        elif instruction[0] == 'm': # exclude measuring:\n",
    "            pass\n",
    "        else:\n",
    "            raise Exception('Unable to parse instruction')\n",
    "    \n",
    "    #Introducing noise\n",
    "    for instruction in qs:\n",
    "        if randrange(9)<1:\n",
    "            old_qr = int(instruction[5:-1])\n",
    "            qc2.x(qreg[old_qr]) #apply bit-flip error\n",
    "        if randrange(9)<1:\n",
    "            old_qr = int(instruction[5:-1])\n",
    "            qc2.z(qreg[old_qr]) #apply phase-flip error"
   ]
  },
  {
   "cell_type": "code",
   "execution_count": 2,
   "metadata": {},
   "outputs": [],
   "source": [
    "def print_outcomes_in_reserve(counts): # takes a dictionary variable\n",
    "    for outcome in counts: # for each key-value in dictionary\n",
    "        reverse_outcome = ''\n",
    "        for i in outcome: # each string can be considered as a list of characters\n",
    "            reverse_outcome = i + reverse_outcome # each new symbol comes before the old symbol(s)\n",
    "    return reverse_outcome"
   ]
  },
  {
   "cell_type": "code",
   "execution_count": 3,
   "metadata": {},
   "outputs": [],
   "source": [
    "#\n",
    "# any other functions you developed\n",
    "#"
   ]
  },
  {
   "cell_type": "markdown",
   "metadata": {},
   "source": [
    "<h4>1. Distributing quantum states</h4>"
   ]
  },
  {
   "cell_type": "markdown",
   "metadata": {},
   "source": [
    "Create a circuit with 64 qubits that Asja will send to Balvis."
   ]
  },
  {
   "cell_type": "code",
   "execution_count": 4,
   "metadata": {},
   "outputs": [],
   "source": [
    "#\n",
    "# your code is here\n",
    "#"
   ]
  },
  {
   "cell_type": "code",
   "execution_count": 5,
   "metadata": {},
   "outputs": [],
   "source": [
    "#Solution\n",
    "qreg = QuantumRegister(64) # quantum register with 8 qubits\n",
    "creg = ClassicalRegister(64) # classical register with 8 bits\n",
    "\n",
    "send=[] #Initial bit string ot send\n",
    "asja_basis=[] #Register to save information about encoding basis\n",
    "balvis_basis=[] #Register to save information about decoding basis\n",
    "\n",
    "#Asja\n",
    "asja = QuantumCircuit(qreg, creg, name='Asja')\n",
    "\n",
    "for i in range(64):\n",
    "    bit = randrange(2)\n",
    "    send.append(bit)\n",
    "for i, n in enumerate(send):\n",
    "    if n==1: asja.x(qreg[i]) # apply x-gate\n",
    "for i in range(64):\n",
    "    r=randrange(2) #Asja randomly pick a basis\n",
    "    if r==0: #if bit is 0, then she encodes in Z basis\n",
    "        asja_basis.append('Z')\n",
    "    else: #if bit is 1, then she encodes in X basis\n",
    "        asja.h(qreg[i])\n",
    "        asja_basis.append('X')\n",
    "\n",
    "balvis = QuantumCircuit(qreg, creg, name='Balvis') #Defining Balvis circuit\n",
    "NoisyChannel(asja, balvis, 'Asja') #Asja sends noisy states to Balvis\n",
    "\n",
    "#Balvis \n",
    "for i in range(64):\n",
    "    r=randrange(2) #Balvis randomly pick a basis\n",
    "    if r==0: #if bit is 0, then measures in Z basis\n",
    "        balvis.measure(qreg[i],creg[i])\n",
    "        balvis_basis.append('Z')\n",
    "    else: #if bit is 1, then measures in X basis\n",
    "        balvis.h(qreg[i])\n",
    "        balvis.measure(qreg[i],creg[i])\n",
    "        balvis_basis.append('X')\n",
    "\n",
    "job = execute(balvis,Aer.get_backend('qasm_simulator'),shots=1)\n",
    "counts = job.result().get_counts(balvis)\n",
    "counts = print_outcomes_in_reserve(counts)\n",
    "received = list(map(int, counts))"
   ]
  },
  {
   "cell_type": "markdown",
   "metadata": {},
   "source": [
    "<h4>2. Sifting</h4>"
   ]
  },
  {
   "cell_type": "markdown",
   "metadata": {},
   "source": [
    "Implement sifting phase."
   ]
  },
  {
   "cell_type": "code",
   "execution_count": 6,
   "metadata": {},
   "outputs": [],
   "source": [
    "#\n",
    "# your code is here\n",
    "#"
   ]
  },
  {
   "cell_type": "code",
   "execution_count": 7,
   "metadata": {},
   "outputs": [],
   "source": [
    "#Solution\n",
    "#Sifting\n",
    "asja_key=[] #Asjas register for matching rounds\n",
    "balvis_key=[] #Balvis register for matching rounds\n",
    "for j in range(0,len(asja_basis)): #Going through list of bases \n",
    "    if asja_basis[j] == balvis_basis[j]: #Comparing\n",
    "        asja_key.append(send[j])\n",
    "        balvis_key.append(received[j]) #Keeping key bit if bases matched\n",
    "    else:\n",
    "        pass #Discard round if bases mismatched"
   ]
  },
  {
   "cell_type": "markdown",
   "metadata": {},
   "source": [
    "<h4>3. QBER</h4>"
   ]
  },
  {
   "cell_type": "markdown",
   "metadata": {},
   "source": [
    "Implement QBER phase with threshold value 0.25.\n",
    "\n",
    "If QBER = 0 - Asja and Balvis discard Cascade protocol step.\n",
    "\n",
    "If QBER ≥ 0.25 - Asja and Balvis abort the protocol."
   ]
  },
  {
   "cell_type": "code",
   "execution_count": 8,
   "metadata": {},
   "outputs": [],
   "source": [
    "#\n",
    "# your code is here\n",
    "#"
   ]
  },
  {
   "cell_type": "code",
   "execution_count": 9,
   "metadata": {},
   "outputs": [
    {
     "name": "stdout",
     "output_type": "stream",
     "text": [
      "QBER value = 0.09\n",
      "Asjas secret key = [1, 1, 1, 0, 1, 1, 0, 1, 1, 0, 1, 0, 0, 1, 0, 1, 0, 0, 1, 1, 0, 1, 1, 1]\n",
      "Balvis secret key = [0, 1, 1, 0, 1, 0, 0, 1, 1, 0, 1, 0, 0, 1, 0, 1, 0, 0, 1, 1, 0, 0, 1, 0]\n"
     ]
    }
   ],
   "source": [
    "#Solution\n",
    "#QBER\n",
    "rounds = len(asja_key)//3\n",
    "errors=0\n",
    "for i in range(rounds):\n",
    "    bit_index = randrange(len(asja_key)) \n",
    "    tested_bit = asja_key[bit_index]\n",
    "#    print (\"Asja randomly selected bit index - \", bit_index, \"- and its value is - \", tested_bit)\n",
    "    if asja_key[bit_index]!=balvis_key[bit_index]: #comparing tested rounds\n",
    "        errors=errors+1 #calculating errors\n",
    "    del asja_key[bit_index] #removing tested bits from key strings\n",
    "    del balvis_key[bit_index]\n",
    "QBER=errors/rounds #calculating QBER\n",
    "QBER=round(QBER,2) #saving two numbers after comma\n",
    "   \n",
    "print(\"QBER value =\", QBER)\n",
    "print(\"Asjas secret key =\", asja_key)\n",
    "print(\"Balvis secret key =\", balvis_key)"
   ]
  },
  {
   "cell_type": "markdown",
   "metadata": {},
   "source": [
    "<h4>4. Information reconciliation</h4>"
   ]
  },
  {
   "cell_type": "markdown",
   "metadata": {},
   "source": [
    "Our next action depends on QBER value.\n",
    "\n",
    "If QBER value is too high and threshold reached - we will abort protocol and start all-over again.\n",
    "\n",
    "If QBER is less than threshold value but not 0 - then we will continue and perform Cascade protocol with error correction on remain key bits.\n",
    "\n",
    "If QBER is 0 - we will skip Cascade error correction step.\n",
    "\n",
    "\n"
   ]
  },
  {
   "cell_type": "markdown",
   "metadata": {},
   "source": [
    "But recall parity check problem! \n",
    "\n",
    "Even if we see QBER=0 or we just finished Cascade protocol and corrected errors - it doesn't mean that we can be 100% sure our key strings are identical. Some sneaky error bits can be still hidding there. \n",
    "\n",
    "Thus, it is important to run BICONF strategy for cases where QBER=0 and after we implemented Cascade protocol. To be confident that our keys are identical, of course!"
   ]
  },
  {
   "cell_type": "markdown",
   "metadata": {},
   "source": [
    "<b>Implement Information reconciliation"
   ]
  },
  {
   "cell_type": "markdown",
   "metadata": {},
   "source": [
    "Create a programm that will handle above described QBER value cases. "
   ]
  },
  {
   "cell_type": "markdown",
   "metadata": {},
   "source": [
    "Recalling Cascade protocol:"
   ]
  },
  {
   "cell_type": "markdown",
   "metadata": {},
   "source": [
    "<li>Asja and Balvis shuffle their bits (such that key bit indexes still match).\n",
    "<li>They subdivide their key strings in block. Block size is $w$<sub>1</sub>$=\\frac{0.73}{QBER}$ (round to an integer). Last block can consist of remainder bits. \n",
    "<li>The calculate parity bit to each block and compare. Blocks with matching parity accepted as correct bits and saved in $K$<sub>final</sub> list.\n",
    "<li>If parity does not match - they apply bisective search - second pass."
   ]
  },
  {
   "cell_type": "markdown",
   "metadata": {},
   "source": [
    "Asja and Balvis apply second pass of cascade protocol on blocks where parity bits does not match.\n",
    "<li>They shuffle the bits.\n",
    "<li>Divide block in half and calculate parity.\n",
    "<li>Compare parity bits. Blocks with matching parity accepted as correct bits and saved in $K$<sub>final</sub> list.\n",
    "<li>If parity does not match - they apply bisective search and repeat second pass."
   ]
  },
  {
   "cell_type": "markdown",
   "metadata": {},
   "source": [
    "<b>Cascade protocol"
   ]
  },
  {
   "cell_type": "code",
   "execution_count": 10,
   "metadata": {},
   "outputs": [],
   "source": [
    "def split(list1, n): \n",
    "    out = []\n",
    "    last = 0.0\n",
    "    while last < len(list1):\n",
    "        out.append(list1[int(last):int(last + n)])\n",
    "        last += n\n",
    "    return out\n",
    "\n",
    "def cascade_pass(lA, lB, n): #input key lists A-Asja, B-Balvis and target block size to divide in blocks\n",
    "    #Shuffle\n",
    "    permutation = list(zip(lA, lB)) #map the index of multiple lists\n",
    "    random.shuffle(permutation) #performing permutation\n",
    "    shuffledLA, shuffledLB = zip(*permutation) #unpacking values\n",
    "    #Split\n",
    "    splitLA=split(shuffledLA, n)\n",
    "    splitLB=split(shuffledLB, n)\n",
    "    #Calculate parity\n",
    "    #Creating empty lists, were \"correctA/B\" will include blocks with no error found\n",
    "    #And \"errorA/B\" - list with blocks where parities dismatched\n",
    "    correctA, correctB, errorA, errorB= [], [], [], []\n",
    "    sumBlocksA = [sum(block) for block in splitLA] # calculating parity by first calculating sums of each block in splitA/B\n",
    "    sumBlocksB = [sum(block) for block in splitLB]\n",
    "    parityA = [i %2 for i in sumBlocksA] #then aplying mod(2) operator to our calculated sums and saving results\n",
    "    parityB = [i %2 for i in sumBlocksB] #in parity bit list\n",
    "    for i,value in enumerate(range(len(parityA))): #comparing parities from list1 with list2\n",
    "        if parityA[i]==parityB[i]: #if parities matched - we add corresponding blocks to our list 'correct'\n",
    "            correctA.append(splitLA[i])\n",
    "            correctB.append(splitLB[i])\n",
    "        else:\n",
    "            errorA.append(splitLA[i]) #if parities dismatched - we add corresponding blocks to our list 'errors'\n",
    "            errorB.append(splitLB[i])\n",
    "    keyA = [item for i in correctA for item in i] #Converting our correct blocks into a list\n",
    "    keyB= [item for i in correctB for item in i]\n",
    "    return keyA, keyB, errorA, errorB #returning key that consist of correct blocks (list) and blocks with errors (tuple)"
   ]
  },
  {
   "cell_type": "code",
   "execution_count": 11,
   "metadata": {},
   "outputs": [],
   "source": [
    "#\n",
    "# your code is here\n",
    "#"
   ]
  },
  {
   "cell_type": "code",
   "execution_count": 12,
   "metadata": {},
   "outputs": [
    {
     "name": "stdout",
     "output_type": "stream",
     "text": [
      "Final Key Asja [0, 0, 0, 0, 1, 1, 0, 1, 1, 1, 1, 1, 1, 0, 1, 0, 1, 0, 1, 1, 1, 0, 1, 1]\n",
      "Final Key Balvis [0, 0, 0, 0, 1, 0, 0, 0, 1, 0, 1, 0, 1, 0, 1, 0, 1, 0, 1, 1, 1, 0, 1, 1]\n"
     ]
    }
   ],
   "source": [
    "#Before starting error correction, we check calculated QBER value\n",
    "if QBER==0.0:\n",
    "    print(\"QBER is 0\")\n",
    "    print(\"Final Key Asja\", asja_key)\n",
    "    print(\"Final Key Balvis\", balvis_key)\n",
    "if QBER>=0.25: \n",
    "    print(\"QBER value is\", QBER,\"\\nThreshold value reached!\") #If QBER is above threshold value - we abort protocol\n",
    "if 0<QBER<=0.25: #if 0<QBER<=0.25 we perform Cascade protocol\n",
    "    blockSize=0.73//QBER\n",
    "    kFinalA, kFinalB=[], [] #creating registers for final keys\n",
    "    #Cascade protocol 1st pass\n",
    "    corrBlockA, corrBlockB, errBlockA, errBlockB=cascade_pass(asja_key, balvis_key, blockSize) #cascade function\n",
    "    kFinalA.extend(corrBlockA) #adding block which parities matched to final key string\n",
    "    kFinalB.extend(corrBlockB)\n",
    "#    print(\"---RESULTS AFTER 1ST PASS---\\n\", \"Final key Asja:\", kFinalA, \"\\n\", \"Final key Balvis\", kFinalB)\n",
    "#    print(\" Blocks with errors Asja\", errBlockA, \"\\n\", \"Blocks with errors Balvis\", errBlockB)\n",
    "    \n",
    "#We now aproximately know how many errors we have in intial key string,\n",
    "#because after first pass each block in errorA/B list contains 1 (or other odd number) of errors\n",
    "#We now can determine the final (corrected) key list lenght before we correct that errors (when 1 bit left in each block)\n",
    "#In other words, a key lenght we will have in penultimate pass of our Cascade protocol\n",
    "\n",
    "    penultimatePassLenght=len(asja_key)-len(errBlockA)\n",
    "    while len(kFinalA)!=penultimatePassLenght: #Bisective search at each block until corrected key lenght is not equal lenght of initial key minus error blocks number after first pass\n",
    "        for i, (blockA, blockB) in enumerate(zip(errBlockA, errBlockB)):\n",
    "            if len(blockA)>1:\n",
    "                secondPassA=list(blockA)# we convert block into a lists\n",
    "                secondPassB=list(blockB)\n",
    "                blockSize2=len(blockA)//2 #we change block size, now we will divide each block that contains an error in halfs\n",
    "                corrBlockA2, corrBlockB2,  errBlockA2, errBlockB2=cascade_pass(secondPassA, secondPassB, blockSize2) #and apply cascade\n",
    "                kFinalA.extend(corrBlockA2) #then we will add correct bits to key strings\n",
    "                kFinalB.extend(corrBlockB2)\n",
    "                errBlockA[i]=errBlockA2[0] #updating error block values\n",
    "                errBlockB[i]=errBlockB2[0]\n",
    "            if len(blockA)==1: #Side case if one block in the round will be shorter than the oner thus will require less passes\n",
    "                for bit in blockA:\n",
    "                    if bit==1:\n",
    "                        bitA=errBlockA[0][0]\n",
    "                        kFinalA.append(bitA)#Asja adds corresponding bit to her key string without change\n",
    "                        bitB=errBlockB[0][0]+1 #but Balvis will first correct the error by flipping the bit value \n",
    "                        kFinalB.append(bitB)\n",
    "                    if bit==0:\n",
    "                        bitA=errBlockA[0][0]\n",
    "                        kFinalA.append(bitA) #Asja adds corresponding bit to her key string without change\n",
    "                        bitB=errBlockB[0][0]-1 #but Balvis will first correct the error by flipping the bit value \n",
    "                        kFinalB.append(bitB)\n",
    "                        \n",
    "        #print(\"---PERFORMING NEXT PASS---\\n\", \"Final key Asja:\", kFinalA, \"\\n\", \"Final key Balvis\", kFinalB)\n",
    "        #print(\" Blocks with errors Asja\", errBlockA, \"\\n\", \"Blocks with errors Balvis\", errBlockB)\n",
    "        \n",
    "    #After previous passes we have a nested lists, to convert them:    \n",
    "    errorA=[item for elem in errBlockA for item in elem]\n",
    "    errorB=[item for elem in errBlockB for item in elem]\n",
    "    \n",
    "    #Error correction step, when our error blocks contains just 1 bit (error)\n",
    "    for i, error in enumerate(zip(errorA, errorB)):\n",
    "#        bitA=int(''.join(map(str, errorA))) #Converting tuple to integer\n",
    "#        bitB=int(''.join(map(str, errorB)))\n",
    "        bitA=int(errorA[i])\n",
    "        bitB=int(errorB[i])\n",
    "        if bitA==1:\n",
    "            kFinalA.append(bitA)\n",
    "            correctedBitB=bitB+1\n",
    "            kFinalB.append(correctedBitB)\n",
    "        if bitA==0:\n",
    "            kFinalA.append(bitA)\n",
    "            correctedBitB=bitB-1\n",
    "            kFinalB.append(correctedBitB)\n",
    "            \n",
    "    print(\"Final Key Asja\", kFinalA)\n",
    "    print(\"Final Key Balvis\", kFinalB)"
   ]
  },
  {
   "cell_type": "markdown",
   "metadata": {},
   "source": [
    "<b>BICONF strategy"
   ]
  },
  {
   "cell_type": "markdown",
   "metadata": {},
   "source": [
    "We will run BICONF strategy if QBER is 0 (and we pass Cascade protocol) and if QBER is<0.25 right after we finished Cascade protocol and corrected the errors.\n",
    "\n",
    "For case where QBER is 0 we will use fixed block size value - 8 bits per block.\n",
    "\n",
    "And we will run $8$ rounds before we conclude that our keys are correct. "
   ]
  },
  {
   "cell_type": "code",
   "execution_count": 13,
   "metadata": {},
   "outputs": [],
   "source": [
    "#\n",
    "# your code is here\n",
    "#"
   ]
  },
  {
   "cell_type": "code",
   "execution_count": 14,
   "metadata": {},
   "outputs": [
    {
     "name": "stdout",
     "output_type": "stream",
     "text": [
      "Error found in round: 1\n",
      "Applying bisective search and error correction\n",
      "[(17, (0, 0)), (19, (1, 1)), (3, (0, 0)), (5, (1, 0)), (10, (1, 1)), (2, (0, 0)), (20, (1, 1)), (12, (1, 1)), (16, (1, 1)), (18, (1, 1))]\n",
      "[(17, (0, 0)), (19, (1, 1)), (3, (0, 0)), (5, (1, 0)), (10, (1, 1))]\n",
      "5\n",
      "[(5, (1, 0)), (10, (1, 1))]\n",
      "2\n",
      "[(5, (1, 0))]\n",
      "1\n",
      "Error found in bit: 5\n",
      "Error corrected!\n",
      "\n",
      "Error found in round: 2\n",
      "Applying bisective search and error correction\n",
      "[(5, (1, 1)), (8, (1, 1)), (17, (0, 0)), (11, (1, 0)), (18, (1, 1)), (6, (0, 0)), (3, (0, 0)), (23, (1, 1)), (16, (1, 1)), (19, (1, 1))]\n",
      "[(5, (1, 1)), (8, (1, 1)), (17, (0, 0)), (11, (1, 0)), (18, (1, 1))]\n",
      "5\n",
      "[(11, (1, 0)), (18, (1, 1))]\n",
      "2\n",
      "[(11, (1, 0))]\n",
      "1\n",
      "Error found in bit: 11\n",
      "Error corrected!\n",
      "\n",
      "Error found in round: 3\n",
      "Applying bisective search and error correction\n",
      "[(19, (1, 1)), (4, (1, 1)), (5, (1, 1)), (21, (0, 0)), (7, (1, 0)), (0, (0, 0)), (2, (0, 0)), (12, (1, 1)), (17, (0, 0)), (18, (1, 1))]\n",
      "[(19, (1, 1)), (4, (1, 1)), (5, (1, 1)), (21, (0, 0)), (7, (1, 0))]\n",
      "5\n",
      "[(21, (0, 0)), (7, (1, 0))]\n",
      "2\n",
      "[(7, (1, 0))]\n",
      "1\n",
      "Error found in bit: 7\n",
      "Error corrected!\n",
      "\n",
      "Error found in round: 4\n",
      "Applying bisective search and error correction\n",
      "[(15, (0, 0)), (9, (1, 0)), (19, (1, 1)), (16, (1, 1)), (13, (0, 0)), (10, (1, 1)), (5, (1, 1)), (12, (1, 1)), (20, (1, 1)), (23, (1, 1))]\n",
      "[(15, (0, 0)), (9, (1, 0)), (19, (1, 1)), (16, (1, 1)), (13, (0, 0))]\n",
      "5\n",
      "[(15, (0, 0)), (9, (1, 0)), (19, (1, 1))]\n",
      "3\n",
      "[(15, (0, 0)), (9, (1, 0))]\n",
      "2\n",
      "[(9, (1, 0))]\n",
      "1\n",
      "Error found in bit: 9\n",
      "Error corrected!\n",
      "\n",
      "BICONF strategy completed!\n",
      " 4 errors found!\n",
      "Final key Asja [0, 0, 0, 0, 1, 1, 0, 1, 1, 1, 1, 1, 1, 0, 1, 0, 1, 0, 1, 1, 1, 0, 1, 1]\n",
      "Final key Balvis [0, 0, 0, 0, 1, 1, 0, 1, 1, 1, 1, 1, 1, 0, 1, 0, 1, 0, 1, 1, 1, 0, 1, 1]\n"
     ]
    }
   ],
   "source": [
    "from numpy import log as ln\n",
    "\n",
    "if QBER!=0: #defining size of blocks\n",
    "    biconfBlockSize=(4*ln(2))//(3*QBER)\n",
    "if QBER==0:\n",
    "    biconfBlockSize=8\n",
    "    kFinalA=asja_key\n",
    "    kFinalB=balvis_key\n",
    "#print(QBER)\n",
    "\n",
    "rounds = 0 #counting rounds\n",
    "biconfError=[] #creating register for rounds with an error\n",
    "error=0 #register for found and corrected error\n",
    "\n",
    "while rounds!=8: #we will go through rounds and monitor if blocks with errors will be found \n",
    "    rounds=rounds+1\n",
    "    #Creating random subsets\n",
    "    kFinalZipped=list(zip(kFinalA, kFinalB)) #maping indexes of our two lists\n",
    "    randomBlock=random.sample(list(enumerate(kFinalZipped)), int(biconfBlockSize))\n",
    "    #at this point we will have nested tuple that contains (index of random bit, (bit from Asja string, bit from Balvis string))\n",
    "    #print(randomBitList) #will print out our nested tuple\n",
    "    #print(randomBitList[0]) # will print out one block (index, (bitA, bitB))\n",
    "    #print(randomBitList[0][0]) # will print only first pair index\n",
    "    #print(randomBitList[0][1][0]) #will print only first pair Asjas' bit\n",
    "    \n",
    "    #We will now need to calculate and compare parity bits for both users bits\n",
    "    sumBlockA=0\n",
    "    sumBlockB=0\n",
    "    for i in range(0,int(biconfBlockSize)):\n",
    "        sumBlockA=sumBlockA+randomBlock[i][1][0]\n",
    "        sumBlockB=sumBlockB+randomBlock[i][1][1]\n",
    "    parityA = sumBlockA%2 #then aplying mod(2) operator to our calculated sums and saving results\n",
    "    parityB = sumBlockB%2\n",
    "    \n",
    "    if parityA!=parityB: #if parities of block dismatch - we bisective search to correct error before continue with next round\n",
    "        print(\"Error found in round:\", rounds)\n",
    "        print(\"Applying bisective search and error correction\")\n",
    "        #Applying bisective search to find and correct an error\n",
    "        while len(randomBlock)>1: #We will take our block with error and run besective search till we find bit with error\n",
    "            #Split the block\n",
    "            if len(randomBlock)%2==1: #If block size is odd\n",
    "                half=len(randomBlock)//2+1 #Lenght of our first block should be half+1\n",
    "            else:\n",
    "                half=len(randomBlock)//2\n",
    "            splitBlock=split(randomBlock, half) #spliting our block in two parts\n",
    "            for i, block in enumerate(splitBlock): #For each part\n",
    "                sumA=0\n",
    "                sumB=0\n",
    "                for j in range(0,len(block)): #calculating sums \n",
    "                    sumA=sumA+splitBlock[i][j][1][0]\n",
    "                    sumB=sumB+splitBlock[i][j][1][1]\n",
    "                parA=sumA%2 #then calculate parities\n",
    "                parB=sumB%2\n",
    "                if parA==parB:\n",
    "                    pass\n",
    "                if parA!=parB: #if parities dismatch- we update our block and run while loop again\n",
    "                    randomBlock=splitBlock[i]\n",
    "        if len(randomBlock)==1: #once we isolate the error to 1 bit\n",
    "            error=error+1\n",
    "            print(\"Error found in bit:\", randomBlock[0][0]) #we retrieving the index of bit pair\n",
    "            errorIndex=int(randomBlock[0][0])\n",
    "            #Apply error correction at Balvis' initial key string\n",
    "        if kFinalB[errorIndex]==0:\n",
    "            kFinalB[errorIndex]=1\n",
    "        else:\n",
    "            kFinalB[errorIndex]=0\n",
    "        print(\"Error corrected!\\n\")\n",
    "    else: #If parities matched\n",
    "        pass\n",
    "\n",
    "print(\"BICONF strategy completed!\\n\", error, \"errors found!\")\n",
    "print(\"Final key Asja\", kFinalA)\n",
    "print(\"Final key Balvis\", kFinalB)"
   ]
  },
  {
   "cell_type": "markdown",
   "metadata": {},
   "source": [
    "<h4>Privacy Amplification</h4>"
   ]
  },
  {
   "cell_type": "code",
   "execution_count": 15,
   "metadata": {},
   "outputs": [],
   "source": [
    "#\n",
    "# your code is here\n",
    "#"
   ]
  },
  {
   "cell_type": "code",
   "execution_count": 16,
   "metadata": {},
   "outputs": [
    {
     "name": "stdout",
     "output_type": "stream",
     "text": [
      "Asjas' final key: 110100011101101000001000001010010101000110111000001111011101101110011011100000000000001010000111001110100010000100000011100001010110110111011011000110111101011011100100100101111111100100111001110011110001101101000000101111011110110010001011101010101100011\n",
      "Balvis' final key: 110100011101101000001000001010010101000110111000001111011101101110011011100000000000001010000111001110100010000100000011100001010110110111011011000110111101011011100100100101111111100100111001110011110001101101000000101111011110110010001011101010101100011\n"
     ]
    }
   ],
   "source": [
    "#Solution\n",
    "#Privacy amplification\n",
    "import hashlib\n",
    "\n",
    "#Generating seed (salt)\n",
    "seed=[]\n",
    "for i in kFinalA:\n",
    "    a=randrange(2)\n",
    "    seed.append(a)\n",
    "\n",
    "#Adding seeds to the keys\n",
    "kFinalA.append(seed)\n",
    "kFinalB.append(seed)\n",
    "\n",
    "#Converting lists to strings\n",
    "strKFinalA = ' '.join([str(elem) for elem in kFinalA])\n",
    "strKFinalB = ' '.join([str(elem) for elem in kFinalB])\n",
    "\n",
    "#checking first bit to decide hash function to use\n",
    "if kFinalA[0]==1:\n",
    "    resultA=hashlib.sha256(strKFinalA.encode())\n",
    "    print(\"Asjas' final key:\", bin(int(resultA.hexdigest(), 16))[2:])\n",
    "else:\n",
    "    resultA=hashlib.sha3_256(strKFinalA.encode())\n",
    "    print(\"Asjas' final key:\", bin(int(resultA.hexdigest(), 16))[2:])\n",
    "\n",
    "if kFinalB[0]==1:\n",
    "    resultB=hashlib.sha256(strKFinalB.encode())\n",
    "    print(\"Balvis' final key:\", bin(int(resultB.hexdigest(), 16))[2:])\n",
    "else:\n",
    "    resultB=hashlib.sha3_256(strKFinalB.encode())\n",
    "    print(\"Balvis' final key:\", bin(int(resultB.hexdigest(), 16))[2:])"
   ]
  },
  {
   "cell_type": "code",
   "execution_count": null,
   "metadata": {},
   "outputs": [],
   "source": []
  }
 ],
 "metadata": {
  "kernelspec": {
   "display_name": "Python 3",
   "language": "python",
   "name": "python3"
  },
  "language_info": {
   "codemirror_mode": {
    "name": "ipython",
    "version": 3
   },
   "file_extension": ".py",
   "mimetype": "text/x-python",
   "name": "python",
   "nbconvert_exporter": "python",
   "pygments_lexer": "ipython3",
   "version": "3.7.3"
  }
 },
 "nbformat": 4,
 "nbformat_minor": 2
}
