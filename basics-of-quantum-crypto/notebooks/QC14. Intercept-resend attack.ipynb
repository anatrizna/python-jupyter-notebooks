{
 "cells": [
  {
   "cell_type": "markdown",
   "metadata": {},
   "source": [
    "<table>\n",
    "    <tr>\n",
    "        <td  style=\"background-color:#ffffff;\" width=\"18%\"><img src=\"..\\images\\qworld.jpg\"  align=\"left\"></td>\n",
    "        <td style=\"background-color:#ffffff;\" width=\"*\"></td>\n",
    "        <td  style=\"background-color:#ffffff;vertical-align:text-top;\" width=\"21%\"><img src=\"..\\images\\qpoland.jpg\" align=\"right\"></td>  \n",
    "        <td  style=\"background-color:#ffffff;vertical-align:text-top;\" width=\"19%\" ><img src=\"..\\images\\qlatvia.jpg\" align=\"right\"></td>  \n",
    "    </tr>\n",
    "    <tr><td colspan=\"4\" align=\"right\" style=\"color:#777777;background-color:#ffffff;font-size:12px;\">\n",
    "        prepared by Anastasija Trizna\n",
    "    </td></tr>\n",
    "    <tr><td colspan=\"4\" align=\"right\" style=\"color:#bbbbbb;background-color:#ffffff;font-size:11px;font-style:italic;\">\n",
    "        This cell contains some macros. If there is a problem with displaying mathematical formulas, please run this cell to load these macros.\n",
    "    </td></tr>\n",
    "</table>\n",
    "$ \\newcommand{\\bra}[1]{\\langle #1|} $\n",
    "$ \\newcommand{\\ket}[1]{|#1\\rangle} $\n",
    "$ \\newcommand{\\braket}[2]{\\langle #1|#2\\rangle} $\n",
    "$ \\newcommand{\\dot}[2]{ #1 \\cdot #2} $\n",
    "$ \\newcommand{\\biginner}[2]{\\left\\langle #1,#2\\right\\rangle} $\n",
    "$ \\newcommand{\\mymatrix}[2]{\\left( \\begin{array}{#1} #2\\end{array} \\right)} $\n",
    "$ \\newcommand{\\myvector}[1]{\\mymatrix{c}{#1}} $\n",
    "$ \\newcommand{\\myrvector}[1]{\\mymatrix{r}{#1}} $\n",
    "$ \\newcommand{\\mypar}[1]{\\left( #1 \\right)} $\n",
    "$ \\newcommand{\\mybigpar}[1]{ \\Big( #1 \\Big)} $\n",
    "$ \\newcommand{\\sqrttwo}{\\frac{1}{\\sqrt{2}}} $\n",
    "$ \\newcommand{\\dsqrttwo}{\\dfrac{1}{\\sqrt{2}}} $\n",
    "$ \\newcommand{\\onehalf}{\\frac{1}{2}} $\n",
    "$ \\newcommand{\\donehalf}{\\dfrac{1}{2}} $\n",
    "$ \\newcommand{\\hadamard}{ \\mymatrix{rr}{ \\sqrttwo & \\sqrttwo \\\\ \\sqrttwo & -\\sqrttwo }} $\n",
    "$ \\newcommand{\\vzero}{\\myvector{1\\\\0}} $\n",
    "$ \\newcommand{\\vone}{\\myvector{0\\\\1}} $\n",
    "$ \\newcommand{\\vhadamardzero}{\\myvector{ \\sqrttwo \\\\  \\sqrttwo } } $\n",
    "$ \\newcommand{\\vhadamardone}{ \\myrvector{ \\sqrttwo \\\\ -\\sqrttwo } } $\n",
    "$ \\newcommand{\\myarray}[2]{ \\begin{array}{#1}#2\\end{array}} $\n",
    "$ \\newcommand{\\X}{ \\mymatrix{cc}{0 & 1 \\\\ 1 & 0}  } $\n",
    "$ \\newcommand{\\Z}{ \\mymatrix{rr}{1 & 0 \\\\ 0 & -1}  } $\n",
    "$ \\newcommand{\\Htwo}{ \\mymatrix{rrrr}{ \\frac{1}{2} & \\frac{1}{2} & \\frac{1}{2} & \\frac{1}{2} \\\\ \\frac{1}{2} & -\\frac{1}{2} & \\frac{1}{2} & -\\frac{1}{2} \\\\ \\frac{1}{2} & \\frac{1}{2} & -\\frac{1}{2} & -\\frac{1}{2} \\\\ \\frac{1}{2} & -\\frac{1}{2} & -\\frac{1}{2} & \\frac{1}{2} } } $\n",
    "$ \\newcommand{\\CNOT}{ \\mymatrix{cccc}{1 & 0 & 0 & 0 \\\\ 0 & 1 & 0 & 0 \\\\ 0 & 0 & 0 & 1 \\\\ 0 & 0 & 1 & 0} } $\n",
    "$ \\newcommand{\\norm}[1]{ \\left\\lVert #1 \\right\\rVert } $"
   ]
  },
  {
   "cell_type": "markdown",
   "metadata": {},
   "source": [
    "Our previous example shows how important for BB84 protocol is to have classical authenticated channel to implement sifting phase."
   ]
  },
  {
   "cell_type": "markdown",
   "metadata": {},
   "source": [
    "Classical post-processing stage helps legitimate users to ensure that they are communicating with each other and reduce possibility of MITM attack.\n",
    "\n",
    "One more huge benefit from classical post-processing is QBER calculation.  \n",
    "\n",
    "You may wonder - why do we need QBER even for noise-free BB84 version?"
   ]
  },
  {
   "cell_type": "markdown",
   "metadata": {},
   "source": [
    "In BB84 Eva has no possibility to pretend she is one of the legitimate users and act as MITM. She also cannot tamper classical channel, because it is authenticated. But she can follow another hacking stategy and perform <b>intercept-resend attack</b> on qubits. \n",
    "\n"
   ]
  },
  {
   "cell_type": "markdown",
   "metadata": {},
   "source": [
    "<h3>Intercept-resend attack</h3>\n",
    "\n",
    "<b>STEP 1: Intercepting qubits</b>\n",
    "\n",
    "Eva intercepts qubit Asja sent to Balvis and measures it in randomly picked basis $θ$<sub>E</sub>, because she has no information about $θ$<sub>A</sub>."
   ]
  },
  {
   "cell_type": "markdown",
   "metadata": {},
   "source": [
    "<b>STEP 2: Preparing fake state</b>.\n",
    "\n",
    "Eva cannot just intercept qubits, a big number of lost qubits will revel her presestance or will force users to switch to another channel (for example, if they consider that qubits are lost because the problems in the channel). \n",
    "She needs to send 'fake' states for all rounds she intercepted, so Balvis will receive qubits, thinking those are from Asja.\n",
    "\n",
    "But since $θ$<sub>A</sub> is unknown to Eva, her best stategy is encode 'fake' states on $θ$<sub>E</sub> based on her measurement result and send these qubits to Balvis.\n",
    "\n",
    "For example:\n",
    "\n",
    "<li>If Eva measured qubit on Z basis and got result 1, then she will send state $\\ket{1}$ to Balvis.\n",
    "<li>If Eva measures qubit on X basis and got 0, then she will prepare state $\\ket{+}$ to Balvis."
   ]
  },
  {
   "cell_type": "markdown",
   "metadata": {},
   "source": [
    "<h3>Task 2: Results</h3>\n",
    "\n",
    "Program intercept-resend attack on BB84 noise-free protocol:\n",
    "\n",
    "<li>Asja creates 32-bit long random bit string, picks random bases, prepares qubits and sends those to Eva.\n",
    "<li>Eva measures each qubit on randomly picked basis.\n",
    "<li>Eva prepares 'fake' states and sends those to Balvis.\n",
    "<li>Balvis measures each qubit on randomly picked basis.\n",
    "<li>Sifting: Asja and Balvis compare basis, discard rounds where basis does not match.\n",
    "<li>QBER: Asja and Balvis compare half of their key bits. Asja and Balvis randomly pick rounds and discard those from their final key."
   ]
  },
  {
   "cell_type": "code",
   "execution_count": 1,
   "metadata": {},
   "outputs": [],
   "source": [
    "# import all necessary objects and methods for quantum circuits\n",
    "from qiskit import QuantumRegister, ClassicalRegister, QuantumCircuit, execute, Aer\n",
    "from random import randrange\n",
    "\n",
    "#Source: awards/teach_me_qiskit_2018/cryptography/Cryptography.ipynb\n",
    "\n",
    "def SendState(qc1, qc2, qc1_name):\n",
    "    ''' This function takes the output of a circuit qc1 (made up only of x and \n",
    "        h gates and initializes another circuit qc2 with the same state\n",
    "    ''' \n",
    "    \n",
    "    # Quantum state is retrieved from qasm code of qc1\n",
    "    qs = qc1.qasm().split(sep=';')[4:-1]\n",
    "\n",
    "    # Process the code to get the instructions\n",
    "    for index, instruction in enumerate(qs):\n",
    "        qs[index] = instruction.lstrip()\n",
    "\n",
    "    # Parse the instructions and apply to new circuit\n",
    "    for instruction in qs:\n",
    "        if instruction[0] == 'x':\n",
    "            old_qr = int(instruction[5:-1])\n",
    "            qc2.x(qreg[old_qr])\n",
    "        elif instruction[0] == 'h':\n",
    "            old_qr = int(instruction[5:-1])\n",
    "            qc2.h(qreg[old_qr])\n",
    "        elif instruction[0] == 'm': # exclude measuring:\n",
    "            pass\n",
    "        else:\n",
    "            raise Exception('Unable to parse instruction')\n",
    "\n",
    "def print_outcomes_in_reserve(counts): # takes a dictionary variable\n",
    "    for outcome in counts: # for each key-value in dictionary\n",
    "        reverse_outcome = ''\n",
    "        for i in outcome: # each string can be considered as a list of characters\n",
    "            reverse_outcome = i + reverse_outcome # each new symbol comes before the old symbol(s)\n",
    "    return reverse_outcome\n",
    "\n",
    "def split_list(bit_string, parts=1):\n",
    "    length = len(bit_string)\n",
    "    return [ bit_string[i*length // parts: (i+1)*length // parts] \n",
    "             for i in range(parts) ]"
   ]
  },
  {
   "cell_type": "code",
   "execution_count": 2,
   "metadata": {},
   "outputs": [],
   "source": [
    "#\n",
    "# your code is here\n",
    "#"
   ]
  },
  {
   "cell_type": "code",
   "execution_count": 3,
   "metadata": {},
   "outputs": [],
   "source": [
    "#Solution\n",
    "\n",
    "qreg = QuantumRegister(32)\n",
    "creg = ClassicalRegister(32) \n",
    "asja = QuantumCircuit(qreg, creg, name='Asja')\n",
    "\n",
    "send=[] #Initial bit string ot send\n",
    "asja_basis=[]\n",
    "balvis_basis=[] \n",
    "eva_basis=[]\n",
    "\n",
    "#Creating random bit string\n",
    "for i in range(32):\n",
    "    bit = randrange(2)\n",
    "    send.append(bit)\n",
    "    \n",
    "#Asja preparing qubits\n",
    "for i, n in enumerate(send):\n",
    "    if n==1:\n",
    "        asja.x(qreg[i]) # apply x-gate\n",
    "\n",
    "#Asja encoding\n",
    "for i in range(32):\n",
    "    r=randrange(2) \n",
    "    if r==0: #if bit is 0, then she encodes in Z basis\n",
    "        asja_basis.append('Z')\n",
    "    else: #if bit is 1, then she encodes in X basis\n",
    "        asja.h(qreg[i])\n",
    "        asja_basis.append('X')\n",
    "\n",
    "eva = QuantumCircuit(qreg, creg, name='Eva') #Defining Eva circuit\n",
    "SendState(asja, eva, 'Asja') #Asja sends states to Eva\n",
    "\n",
    "#Eva intercepts and measures qubits\n",
    "for i in range(32):\n",
    "    r=randrange(2) #Randomly pick a basis\n",
    "    if r==0: #if bit is 0, then measures in Z basis\n",
    "        eva.measure(qreg[i],creg[i])\n",
    "        eva_basis.append('Z')\n",
    "    else: #if bit is 1, then measures in X basis\n",
    "        eva.h(qreg[i])\n",
    "        eva.measure(qreg[i],creg[i])\n",
    "        eva_basis.append('X')\n",
    "\n",
    "job = execute(eva,Aer.get_backend('qasm_simulator'),shots=1) #Eva has only has one shot to measure qubits\n",
    "counts = job.result().get_counts(eva) # counts is a dictionary object in python\n",
    "counts = print_outcomes_in_reserve(counts)\n",
    "\n",
    "eva_received = list(map(int, counts)) #Saving Eva received string as a list\n",
    "\n",
    "#Eva preparing fake states\n",
    "eva_fake = QuantumCircuit(qreg, creg, name='Eva_fake')\n",
    "for i, n in enumerate(eva_received): #if measured bit is 1 - apply X gate\n",
    "    if n==1:\n",
    "        eva_fake.x(qreg[i]) # apply x-gate\n",
    "\n",
    "for i, n in enumerate(eva_basis):\n",
    "    if i == 'X': #if Eva used X basis to measure qubit, she applies H gate for same round\n",
    "        eva_fake.h(qreg[i])\n",
    "    else:\n",
    "        pass\n",
    "\n",
    "balvis = QuantumCircuit(qreg, creg, name='Balvis') #Defining Balvis circuit\n",
    "SendState(eva_fake, balvis, 'Eva') #Eva sends states to Balvis\n",
    "\n",
    "#Balvis receives qubits\n",
    "for i in range(32):\n",
    "    r=randrange(2) #Randomly pick a basis\n",
    "    if r==0: #if bit is 0, then measures in Z basis\n",
    "        balvis.measure(qreg[i],creg[i])\n",
    "        balvis_basis.append('Z')\n",
    "    else: #if bit is 1, then measures in X basis\n",
    "        balvis.h(qreg[i])\n",
    "        balvis.measure(qreg[i],creg[i])\n",
    "        balvis_basis.append('X')\n",
    "\n",
    "job_b = execute(balvis,Aer.get_backend('qasm_simulator'),shots=1) #Balvis has only has one shot to measure qubits\n",
    "counts_b = job_b.result().get_counts(balvis) # counts is a dictionary object in python\n",
    "counts_b = print_outcomes_in_reserve(counts_b)\n",
    "\n",
    "received = list(map(int, counts_b)) #Saving Balvis received string as a list"
   ]
  },
  {
   "cell_type": "markdown",
   "metadata": {},
   "source": [
    "Now, our Asja and Balvis will proceed with phase 2 \"Sifting\" and exchange information about bases they used over classical authenticated channel. "
   ]
  },
  {
   "cell_type": "code",
   "execution_count": 4,
   "metadata": {},
   "outputs": [],
   "source": [
    "#Sifting\n",
    "asja_key=[] #Asjas register for matching rounds\n",
    "balvis_key=[] #Balvis register for matching rounds\n",
    "for j in range(0,len(asja_basis)): #Going through list of bases \n",
    "    if asja_basis[j] == balvis_basis[j]: #Comparing\n",
    "        asja_key.append(send[j])\n",
    "        balvis_key.append(received[j]) #Keeping key bit if bases matched\n",
    "    else:\n",
    "        pass #Discard round if bases mismatched"
   ]
  },
  {
   "cell_type": "markdown",
   "metadata": {},
   "source": [
    "It's time for phase 3 \"QBER calculation\". We expect here to have QBER value 0, since we are working with noise-free BB84 version."
   ]
  },
  {
   "cell_type": "code",
   "execution_count": 5,
   "metadata": {},
   "outputs": [
    {
     "name": "stdout",
     "output_type": "stream",
     "text": [
      "QBER value = 0.2222222222222222\n",
      "Asjas secret key = [0, 1, 1, 1, 0, 1, 1, 0, 1]\n",
      "Balvis secret key = [0, 1, 1, 1, 1, 1, 0, 1, 1]\n"
     ]
    }
   ],
   "source": [
    "#QBER\n",
    "error_check_asja, remain_key_asja= split_list(asja_key, parts=2) \n",
    "error_check_balvis, remain_key_balvis = split_list(balvis_key, parts=2) \n",
    "\n",
    "errors=0\n",
    "for j in range(0,len(error_check_asja)): #Going through bits chosen for error correction \n",
    "    if error_check_asja[j] != error_check_balvis[j]: #Comparing bits\n",
    "        errors=errors+1 #Calculating errors\n",
    "\n",
    "#Calculating QBER\n",
    "QBER=errors/len(error_check_asja)\n",
    "\n",
    "print(\"QBER value =\", QBER)\n",
    "print(\"Asjas secret key =\", remain_key_asja)\n",
    "print(\"Balvis secret key =\", remain_key_balvis)"
   ]
  },
  {
   "cell_type": "markdown",
   "metadata": {},
   "source": [
    "As you can see from the result of QBER calculation - Eva introduced errors and revealed her presestance!\n",
    "\n",
    "<b>QBER helps to verify eavesdropper presestance during qubit exchange."
   ]
  }
 ],
 "metadata": {
  "kernelspec": {
   "display_name": "Python 3",
   "language": "python",
   "name": "python3"
  },
  "language_info": {
   "codemirror_mode": {
    "name": "ipython",
    "version": 3
   },
   "file_extension": ".py",
   "mimetype": "text/x-python",
   "name": "python",
   "nbconvert_exporter": "python",
   "pygments_lexer": "ipython3",
   "version": "3.7.3"
  }
 },
 "nbformat": 4,
 "nbformat_minor": 2
}
