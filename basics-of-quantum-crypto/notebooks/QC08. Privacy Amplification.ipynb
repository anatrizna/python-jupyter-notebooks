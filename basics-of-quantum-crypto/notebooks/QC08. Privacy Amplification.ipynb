{
 "cells": [
  {
   "cell_type": "markdown",
   "metadata": {},
   "source": [
    "<table>\n",
    "    <tr>\n",
    "        <td  style=\"background-color:#ffffff;\" width=\"18%\"><img src=\"..\\images\\qworld.jpg\"  align=\"left\"></td>\n",
    "        <td style=\"background-color:#ffffff;\" width=\"*\"></td>\n",
    "        <td  style=\"background-color:#ffffff;vertical-align:text-top;\" width=\"21%\"><img src=\"..\\images\\qpoland.jpg\" align=\"right\"></td>  \n",
    "        <td  style=\"background-color:#ffffff;vertical-align:text-top;\" width=\"19%\" ><img src=\"..\\images\\qlatvia.jpg\" align=\"right\"></td>  \n",
    "    </tr>\n",
    "    <tr><td colspan=\"4\" align=\"right\" style=\"color:#777777;background-color:#ffffff;font-size:12px;\">\n",
    "        prepared by Anastasija Trizna\n",
    "    </td></tr>\n",
    "    <tr><td colspan=\"4\" align=\"right\" style=\"color:#bbbbbb;background-color:#ffffff;font-size:11px;font-style:italic;\">\n",
    "        This cell contains some macros. If there is a problem with displaying mathematical formulas, please run this cell to load these macros.\n",
    "    </td></tr>\n",
    "</table>\n",
    "$ \\newcommand{\\bra}[1]{\\langle #1|} $\n",
    "$ \\newcommand{\\ket}[1]{|#1\\rangle} $\n",
    "$ \\newcommand{\\braket}[2]{\\langle #1|#2\\rangle} $\n",
    "$ \\newcommand{\\dot}[2]{ #1 \\cdot #2} $\n",
    "$ \\newcommand{\\biginner}[2]{\\left\\langle #1,#2\\right\\rangle} $\n",
    "$ \\newcommand{\\mymatrix}[2]{\\left( \\begin{array}{#1} #2\\end{array} \\right)} $\n",
    "$ \\newcommand{\\myvector}[1]{\\mymatrix{c}{#1}} $\n",
    "$ \\newcommand{\\myrvector}[1]{\\mymatrix{r}{#1}} $\n",
    "$ \\newcommand{\\mypar}[1]{\\left( #1 \\right)} $\n",
    "$ \\newcommand{\\mybigpar}[1]{ \\Big( #1 \\Big)} $\n",
    "$ \\newcommand{\\sqrttwo}{\\frac{1}{\\sqrt{2}}} $\n",
    "$ \\newcommand{\\dsqrttwo}{\\dfrac{1}{\\sqrt{2}}} $\n",
    "$ \\newcommand{\\onehalf}{\\frac{1}{2}} $\n",
    "$ \\newcommand{\\donehalf}{\\dfrac{1}{2}} $\n",
    "$ \\newcommand{\\hadamard}{ \\mymatrix{rr}{ \\sqrttwo & \\sqrttwo \\\\ \\sqrttwo & -\\sqrttwo }} $\n",
    "$ \\newcommand{\\vzero}{\\myvector{1\\\\0}} $\n",
    "$ \\newcommand{\\vone}{\\myvector{0\\\\1}} $\n",
    "$ \\newcommand{\\vhadamardzero}{\\myvector{ \\sqrttwo \\\\  \\sqrttwo } } $\n",
    "$ \\newcommand{\\vhadamardone}{ \\myrvector{ \\sqrttwo \\\\ -\\sqrttwo } } $\n",
    "$ \\newcommand{\\myarray}[2]{ \\begin{array}{#1}#2\\end{array}} $\n",
    "$ \\newcommand{\\X}{ \\mymatrix{cc}{0 & 1 \\\\ 1 & 0}  } $\n",
    "$ \\newcommand{\\Z}{ \\mymatrix{rr}{1 & 0 \\\\ 0 & -1}  } $\n",
    "$ \\newcommand{\\Htwo}{ \\mymatrix{rrrr}{ \\frac{1}{2} & \\frac{1}{2} & \\frac{1}{2} & \\frac{1}{2} \\\\ \\frac{1}{2} & -\\frac{1}{2} & \\frac{1}{2} & -\\frac{1}{2} \\\\ \\frac{1}{2} & \\frac{1}{2} & -\\frac{1}{2} & -\\frac{1}{2} \\\\ \\frac{1}{2} & -\\frac{1}{2} & -\\frac{1}{2} & \\frac{1}{2} } } $\n",
    "$ \\newcommand{\\CNOT}{ \\mymatrix{cccc}{1 & 0 & 0 & 0 \\\\ 0 & 1 & 0 & 0 \\\\ 0 & 0 & 0 & 1 \\\\ 0 & 0 & 1 & 0} } $\n",
    "$ \\newcommand{\\norm}[1]{ \\left\\lVert #1 \\right\\rVert } $"
   ]
  },
  {
   "cell_type": "markdown",
   "metadata": {},
   "source": [
    "This last step is called <b>privacy amplification</b>.\n",
    "\n",
    "What if Eva gained some information about key Asja and Balvis generated? And they don't want to use this key directly to encrypt their secret message, but want to extract randomness from their pre-shared key $x$.\n",
    "\n",
    "If the adversary Eva is passive i.e., she is only able to observe the communication but may not alter the messages exchanged, then there is a direct solution based on the use of <b>randomness extractor</b>.\n",
    "\n",
    "The basic idea is that Asja can select uniform seed $y$ for the extractor and send it to Balvis. The they will both compute the key $k=Ext(x,y)$, which is close to be uniformally random and independent of $y$, followed by the strong extractor property. The use of a quantum-proof extractor suffices to protect against adversaries holding quantum side information about their key."
   ]
  },
  {
   "cell_type": "markdown",
   "metadata": {},
   "source": [
    "<h4>Example: Von Neumann extractor</h4>  \n",
    "\n",
    "Von Neumann extractor operates on a Bernoulli bit sequence - a sequence where every bit is independent, and $1$ and $0$ occur with probability $p$ and $1 − p$. If $p = \\frac{1}{2}$ the sequence is uniform.\n",
    "\n",
    "<td style=\"background-color:#ffffff;\"><img src=\"..\\images\\distr.jpg\" width=\"40%\" align=\"middle\"></td> \n",
    "\n",
    "Extractor takes two bit strings {$x; y$} and using the following approach:\n",
    "\n",
    "1. Read two incomming bits {$x; y$}\n",
    "2. If 00 or 11 was read, go back to step 1.\n",
    "3. If 01 was read, return 0.\n",
    "4. if 10 was read, return 1.\n",
    "\n",
    "If there was an adversary who has some partial knowledge about $x$, he will have no knowledge about the extracted value."
   ]
  },
  {
   "cell_type": "markdown",
   "metadata": {},
   "source": [
    "<h3>Strong extractor definition</h3>  \n",
    "\n",
    "The extractor is called <i>strong</i> if the following property holds:\n",
    "\n",
    "Even if the seed is made public, the extracted randomness is still close to the uniform distribution. This enables to <i>reuse</i> the seed and guarantees the safety of the extractor when used in cryptography. \n",
    "\n",
    "“Almost” uniform randomness is sufficient for most applications. It is called $ε$-uniform iff it is $ε$-close to the uniform distribution.\n",
    "\n",
    "\n",
    "<td style=\"background-color:#ffffff;\"><img src=\"..\\images\\eps-distr.jpg\" width=\"20%\" align=\"middle\"></td> \n"
   ]
  },
  {
   "cell_type": "markdown",
   "metadata": {},
   "source": [
    "<h3>Hashing-based extractor</h3>\n",
    "\n",
    "For privacy amplification step, we need a function, that will take as an input our uniform key distributed during the QKD process (partially known by Eva) and ε-uniform extractor seed (public); and produce uniform independent key (secret).\n",
    "\n",
    "This can be achieved by using <b>universal hash functions</b>.\n",
    "\n",
    "<h4>Hash</h4>\n",
    "From classical cryptography, hash is a one-way function <i>H()</i> that operates on an arbitrary-lenght message <i>M</i> and returns a fixed-lenght hash value <i>h</i>. Many functions can take an arbitrary-lenght input and return an output of fixed lenght. But one-way hash functions have additional characteristics that make them one-way:<ul>\n",
    "    <li>Given <i>M</i>, it is easy to compute <i>h</i>\n",
    "    <li>Given <i>h</i>, it is hard to compute <i>M</i> such that <i>H(M)=h</i>\n",
    "    <li>Given <i>M</i>, it is hard to find another message, <i>M'</i>, such that <i>H(M)=H(M')</i></ul>\n",
    "The whole point of one-way hash functions is to provide \"fingerprint\" of M that is unique.\n",
    "Hash functions are very usefull to quickly locate a data record, for example, to store users passwords. \n",
    "\n",
    "<h4>Example: Secure Hash Algorithms (SHA) </h4>"
   ]
  },
  {
   "cell_type": "code",
   "execution_count": 1,
   "metadata": {},
   "outputs": [
    {
     "name": "stdout",
     "output_type": "stream",
     "text": [
      "The available algorithms are : {'sha1', 'shake_128', 'sha384', 'sha3_256', 'shake_256', 'blake2b', 'blake2s', 'md5', 'sha3_224', 'sha3_512', 'sha224', 'sha512', 'sha256', 'sha3_384'}\n"
     ]
    }
   ],
   "source": [
    "import hashlib #importing hash library\n",
    "  \n",
    "# prints all available algorithms \n",
    "print (\"The available algorithms are : \", end =\"\") \n",
    "print (hashlib.algorithms_guaranteed) "
   ]
  },
  {
   "cell_type": "code",
   "execution_count": 2,
   "metadata": {},
   "outputs": [
    {
     "name": "stdout",
     "output_type": "stream",
     "text": [
      "SHA256 is: 3c7994344fa0eadafb0be5638956899e00f5ae00631905546e76ae29c0a5d7d9\n"
     ]
    }
   ],
   "source": [
    "import hashlib \n",
    "\n",
    "message = \"QLatviaSoftware\" # initializing string to encrypt\n",
    "result = hashlib.sha256(message.encode()) # encoding using sha256\n",
    "\n",
    "print(\"SHA256 is:\", result.hexdigest()) # printing result in hexadecimal"
   ]
  },
  {
   "cell_type": "markdown",
   "metadata": {},
   "source": [
    "<h4>Salting hashes</h4>\n",
    "\n",
    "One more property of hashes is that given the same input, the same output is always produced. Which is an issue, because we can know if users have the same password if both share the same hash.\n",
    "As a solution is to add random data (<b>salt</b>) to the input of a hash function to guarantee a unique output, even if the initial input was the same. <ul>\n",
    "    <li>Prepending salt: \n",
    "        Input: QLatviaSoftware\n",
    "        Salt: Community\n",
    "        Salted input: CommunityQLatviaSoftware\n",
    "    <li>Appending salt:\n",
    "        Input: QLatviaSoftware\n",
    "        Salt: Community\n",
    "        Salted input: QLatviaSoftwareCommunity</ul>\n",
    "\n",
    "<h3>Task 1: Salting hash</h3>\n",
    "\n",
    "Verify that changing salt (even few letters) will change the hash output entirely. "
   ]
  },
  {
   "cell_type": "code",
   "execution_count": 3,
   "metadata": {},
   "outputs": [],
   "source": [
    "#\n",
    "# your code is here\n",
    "#"
   ]
  },
  {
   "cell_type": "code",
   "execution_count": 4,
   "metadata": {},
   "outputs": [
    {
     "name": "stdout",
     "output_type": "stream",
     "text": [
      "First string SHA256 is: 0620cb124049d09cada7cb737260409cc32d73da96039d639037e34c1281deb3\n",
      "Second string SHA256 is: 3dcb080ee9eb856e6035ec10c938fe083d7f748009551ab9144f684076a6aef3\n"
     ]
    }
   ],
   "source": [
    "#Solution\n",
    "\n",
    "import hashlib \n",
    "\n",
    "def salting_hash(str, salt):\n",
    "    input=str+salt\n",
    "    result=hashlib.sha256(input.encode())\n",
    "    return result.hexdigest()\n",
    "\n",
    "a = \"QLatviaSoftware\" # initializing first string to encrypt\n",
    "b = \"Community\" #initializing salt\n",
    "\n",
    "c = \"QLatviaSoftware\" # initializing first string to encrypt\n",
    "d = \"C0mmun1ty\" #initializing salt\n",
    "\n",
    "print(\"First string SHA256 is:\", salting_hash(a,b))\n",
    "print(\"Second string SHA256 is:\", salting_hash(c,d))"
   ]
  },
  {
   "cell_type": "markdown",
   "metadata": {},
   "source": [
    "<h4>2-universal hash functions</h4>\n",
    "\n",
    "A family of hash functions is said to be <b>k-universal</b> if selecting a function at random from the family guarantees that the hash codes of any designated $k$ keys are independent random variables.\n",
    "\n",
    "Universal hash functions are good extractors and as a consequence confirms the security in privacy amplification.\n",
    "\n",
    "<b>2-universal hash functions</b> can be used to build quantum-proven randomness extractor. \n",
    "\n",
    "Randomness extractor that is based on 2-universal hash functions can be described as a system that takes a string (<b>QKD key</b>) and salt (<b>generator seed</b>), then decide between 2 hash functions which will be used and encrypt using chosen function.\n",
    "\n",
    "Note: Salt (seed) lenght should be equal string (QKD key) size. \n",
    "\n",
    "Now we have all ingredients to programm last BB84 phase!\n",
    "\n",
    "<h3>Task 2: Privacy Amplification - Randomness extractor</h3>\n",
    "\n",
    "Our 2-universal randomness extractor will be appending salt and use SHA256 and SHA3 256 functions.\n",
    "If first bit of final key  is 0 - it will encrypt usint SHA 256, if it is 1 - then SHA3 256 will be used.\n",
    "Implement Privacy Amplification phase:<ul>\n",
    "    <li>Asja generates seed (or salt) - random bit sequence, which lenght is same as their final key and send it to Balvis.\n",
    "    <li>Asja and Balvis generate final key.\n",
    "</ul>\n",
    "Note: hashlib functions work with strings, so you will need to convert your lists to strings"
   ]
  },
  {
   "cell_type": "code",
   "execution_count": 5,
   "metadata": {},
   "outputs": [],
   "source": [
    "#\n",
    "# your code from previouse notebook is here: Distributing quantum states, Sifting, QBER\n",
    "#"
   ]
  },
  {
   "cell_type": "code",
   "execution_count": null,
   "metadata": {},
   "outputs": [],
   "source": [
    "#\n",
    "# your code is here\n",
    "#"
   ]
  },
  {
   "cell_type": "code",
   "execution_count": 6,
   "metadata": {},
   "outputs": [
    {
     "name": "stdout",
     "output_type": "stream",
     "text": [
      "Encoded using SHA3 256: d371b2b4a000306acbd0a48496a8fc83c516786bb1742bb5bceb5c8c222b606a\n"
     ]
    },
    {
     "data": {
      "text/plain": [
       "'1101001101110001101100101011010010100000000000000011000001101010110010111101000010100100100001001001011010101000111111001000001111000101000101100111100001101011101100010111010000101011101101011011110011101011010111001000110000100010001010110110000001101010'"
      ]
     },
     "execution_count": 6,
     "metadata": {},
     "output_type": "execute_result"
    }
   ],
   "source": [
    "# Solution\n",
    "from random import randrange\n",
    "import hashlib \n",
    "\n",
    "#Key values from previous notebook\n",
    "remain_key_asja = [0, 1, 1, 0, 0]\n",
    "remain_key_balvis = [0, 1, 1, 0, 0]\n",
    "\n",
    "#Generating seed (salt)\n",
    "seed=[]\n",
    "for i in remain_key_asja:\n",
    "    a=randrange(2)\n",
    "    seed.append(a)\n",
    "\n",
    "#Adding seeds to the keys\n",
    "remain_key_asja.append(seed)\n",
    "remain_key_balvis.append(seed)\n",
    "\n",
    "#Converting lists to strings\n",
    "str_key_asja = ' '.join([str(elem) for elem in remain_key_asja])\n",
    "str_key_balvis = ' '.join([str(elem) for elem in remain_key_balvis])\n",
    "\n",
    "#checking first bit to decide hash function to use\n",
    "if remain_key_asja[0]==1:\n",
    "    result=hashlib.sha256(str_key_asja.encode())\n",
    "    print(\"Encoded using SHA256:\", result.hexdigest())\n",
    "else:\n",
    "    result=hashlib.sha3_256(str_key_asja.encode())\n",
    "    print(\"Encoded using SHA3 256:\", result.hexdigest())\n",
    "bin(int(result.hexdigest(), 16))[2:]"
   ]
  }
 ],
 "metadata": {
  "kernelspec": {
   "display_name": "Python 3",
   "language": "python",
   "name": "python3"
  },
  "language_info": {
   "codemirror_mode": {
    "name": "ipython",
    "version": 3
   },
   "file_extension": ".py",
   "mimetype": "text/x-python",
   "name": "python",
   "nbconvert_exporter": "python",
   "pygments_lexer": "ipython3",
   "version": "3.7.3"
  }
 },
 "nbformat": 4,
 "nbformat_minor": 2
}
