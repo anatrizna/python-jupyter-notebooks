{
 "cells": [
  {
   "cell_type": "markdown",
   "metadata": {},
   "source": [
    "<table>\n",
    "    <tr>\n",
    "        <td  style=\"background-color:#ffffff;\" width=\"18%\"><img src=\"..\\images\\qworld.jpg\"  align=\"left\"></td>\n",
    "        <td style=\"background-color:#ffffff;\" width=\"*\"></td>\n",
    "        <td  style=\"background-color:#ffffff;vertical-align:text-top;\" width=\"21%\"><img src=\"..\\images\\qpoland.jpg\" align=\"right\"></td>  \n",
    "        <td  style=\"background-color:#ffffff;vertical-align:text-top;\" width=\"19%\" ><img src=\"..\\images\\qlatvia.jpg\" align=\"right\"></td>  \n",
    "    </tr>\n",
    "    <tr><td colspan=\"4\" align=\"right\" style=\"color:#777777;background-color:#ffffff;font-size:12px;\">\n",
    "        prepared by Anastasija Trizna\n",
    "    </td></tr>\n",
    "    <tr><td colspan=\"4\" align=\"right\" style=\"color:#bbbbbb;background-color:#ffffff;font-size:11px;font-style:italic;\">\n",
    "        This cell contains some macros. If there is a problem with displaying mathematical formulas, please run this cell to load these macros.\n",
    "    </td></tr>\n",
    "</table>\n",
    "$ \\newcommand{\\bra}[1]{\\langle #1|} $\n",
    "$ \\newcommand{\\ket}[1]{|#1\\rangle} $\n",
    "$ \\newcommand{\\braket}[2]{\\langle #1|#2\\rangle} $\n",
    "$ \\newcommand{\\dot}[2]{ #1 \\cdot #2} $\n",
    "$ \\newcommand{\\biginner}[2]{\\left\\langle #1,#2\\right\\rangle} $\n",
    "$ \\newcommand{\\mymatrix}[2]{\\left( \\begin{array}{#1} #2\\end{array} \\right)} $\n",
    "$ \\newcommand{\\myvector}[1]{\\mymatrix{c}{#1}} $\n",
    "$ \\newcommand{\\myrvector}[1]{\\mymatrix{r}{#1}} $\n",
    "$ \\newcommand{\\mypar}[1]{\\left( #1 \\right)} $\n",
    "$ \\newcommand{\\mybigpar}[1]{ \\Big( #1 \\Big)} $\n",
    "$ \\newcommand{\\sqrttwo}{\\frac{1}{\\sqrt{2}}} $\n",
    "$ \\newcommand{\\dsqrttwo}{\\dfrac{1}{\\sqrt{2}}} $\n",
    "$ \\newcommand{\\onehalf}{\\frac{1}{2}} $\n",
    "$ \\newcommand{\\donehalf}{\\dfrac{1}{2}} $\n",
    "$ \\newcommand{\\hadamard}{ \\mymatrix{rr}{ \\sqrttwo & \\sqrttwo \\\\ \\sqrttwo & -\\sqrttwo }} $\n",
    "$ \\newcommand{\\vzero}{\\myvector{1\\\\0}} $\n",
    "$ \\newcommand{\\vone}{\\myvector{0\\\\1}} $\n",
    "$ \\newcommand{\\vhadamardzero}{\\myvector{ \\sqrttwo \\\\  \\sqrttwo } } $\n",
    "$ \\newcommand{\\vhadamardone}{ \\myrvector{ \\sqrttwo \\\\ -\\sqrttwo } } $\n",
    "$ \\newcommand{\\myarray}[2]{ \\begin{array}{#1}#2\\end{array}} $\n",
    "$ \\newcommand{\\X}{ \\mymatrix{cc}{0 & 1 \\\\ 1 & 0}  } $\n",
    "$ \\newcommand{\\Z}{ \\mymatrix{rr}{1 & 0 \\\\ 0 & -1}  } $\n",
    "$ \\newcommand{\\Htwo}{ \\mymatrix{rrrr}{ \\frac{1}{2} & \\frac{1}{2} & \\frac{1}{2} & \\frac{1}{2} \\\\ \\frac{1}{2} & -\\frac{1}{2} & \\frac{1}{2} & -\\frac{1}{2} \\\\ \\frac{1}{2} & \\frac{1}{2} & -\\frac{1}{2} & -\\frac{1}{2} \\\\ \\frac{1}{2} & -\\frac{1}{2} & -\\frac{1}{2} & \\frac{1}{2} } } $\n",
    "$ \\newcommand{\\CNOT}{ \\mymatrix{cccc}{1 & 0 & 0 & 0 \\\\ 0 & 1 & 0 & 0 \\\\ 0 & 0 & 0 & 1 \\\\ 0 & 0 & 1 & 0} } $\n",
    "$ \\newcommand{\\norm}[1]{ \\left\\lVert #1 \\right\\rVert } $"
   ]
  },
  {
   "cell_type": "markdown",
   "metadata": {},
   "source": [
    "Classical information can, of course, be copied. \n",
    "\n",
    "But can we do the same with quantum states? Surprisingly, but the answer to this question is no. \n",
    "\n",
    "The no-cloning theorem states that: <i>Given an unknown quantum state there is no way to produce copies of that state.</i> \n",
    "\n",
    "This is a fundamental property of quantum mechanics and has profound implications in quantum computing and related fields."
   ]
  },
  {
   "cell_type": "markdown",
   "metadata": {},
   "source": [
    "<h4> Classical cirquit to copy a bit </h4>\n",
    "\n",
    "We can use a $CNOT$ to make a copy of classical bit $x$, which takes in the bit to copy and \"scratchpad\" bit initialized to zero:\n",
    "\n",
    "<td style=\"background-color:#ffffff;\"><img src=\"..\\images\\cl_cirquit.jpg\" width=\"15%\" align=\"middle\"></td> \n",
    "\n",
    "The output is two bits, both of which are in the same state $x$."
   ]
  },
  {
   "cell_type": "markdown",
   "metadata": {},
   "source": [
    "<h4> Quantum cirquit to copy a bit </h4>\n",
    "\n",
    "Now suppose we have an unknown quantum state $ \\ket{Ψ} $ = α$\\ket{0}$ + β$\\ket{1}$ and we put it into our copying cirquit.\n",
    "\n",
    "<td style=\"background-color:#ffffff;\"><img src=\"..\\images\\q_cirquit.jpg\" width=\"35%\" align=\"middle\"></td> \n",
    "\n",
    "We can rewrite initial state as and see that ‘copying circuit’ above does not copy the quantum state input. \n",
    "\n",
    "Initial state: $\\ket{Ψ}=(α\\ket{0} + β\\ket{1})\\ket{0}=α\\ket{00} + β\\ket{10}$\n",
    "\n",
    "Final state: $\\ket{φ}=α\\ket{00} + β\\ket{11}$"
   ]
  },
  {
   "cell_type": "markdown",
   "metadata": {},
   "source": [
    "<h4> Mathematical prove </h4>\n",
    "\n",
    "The no-cloning theorem says that there is no such device that will take arbitrary quantum state and map it to two copies of these state:\n",
    "\n",
    "$\\ket{Ψ} → \\ket{Ψ}\\otimes\\ket{Ψ}$ → Not possible\n",
    "\n",
    "But let's suppose we have such tool!\n",
    "\n",
    "We take two states $\\ket{Ψ}$ and $\\ket{Φ}$ and copy those:\n",
    "\n",
    "$\\ket{Ψ} → \\ket{Ψ}\\otimes\\ket{Ψ}$\n",
    "\n",
    "$\\ket{Φ} → \\ket{Φ}\\otimes\\ket{Φ}$\n",
    "\n",
    "Then, it should also work on the superposition of these two states:\n",
    "\n",
    "$\\ket{Ψ}+\\ket{Φ} → (\\ket{Ψ}+\\ket{Φ})\\otimes(\\ket{Ψ}+\\ket{Φ})$\n",
    "\n",
    "<h3> Task 1 </h3>\n",
    "What is the problem with our quantum copying device when we apply it to superposition state?\n",
    "\n",
    "<i>Answer: when expand the brackets we get target states + cross terms which are not equal to zero: $\\ket{Ψ}\\ket{Ψ}+\\ket{Φ}\\ket{Φ}+\\ket{Ψ}\\ket{Φ}+\\ket{Φ}\\ket{Ψ}$ - that's a contradiction. This tools cannot exist. </i>\n"
   ]
  },
  {
   "cell_type": "markdown",
   "metadata": {},
   "source": [
    "<h3>Sum up:</h3>\n",
    "\n",
    "<ul>\n",
    "<li> In the case where $\\ket{Ψ}=\\ket{0}$ or $\\ket{Ψ}=\\ket{1}$ that is indeed what $CNOT$ circuit does; it is possible to use quantum circuits to copy classical information encoded as $\\ket{0}$ or $\\ket{1}$. In fact, it turns out to be <b>impossible to make a copy of an unknown quantum state</b>.  \n",
    "<li> This also means that information encoded in quantum states is essentially unique. \n",
    "<li> However, while this property allows to protect quantum information, it is also complicating the process to protect quantum information from outside influence. \n",
    "</ul>"
   ]
  }
 ],
 "metadata": {
  "kernelspec": {
   "display_name": "Python 3",
   "language": "python",
   "name": "python3"
  },
  "language_info": {
   "codemirror_mode": {
    "name": "ipython",
    "version": 3
   },
   "file_extension": ".py",
   "mimetype": "text/x-python",
   "name": "python",
   "nbconvert_exporter": "python",
   "pygments_lexer": "ipython3",
   "version": "3.7.3"
  }
 },
 "nbformat": 4,
 "nbformat_minor": 2
}
