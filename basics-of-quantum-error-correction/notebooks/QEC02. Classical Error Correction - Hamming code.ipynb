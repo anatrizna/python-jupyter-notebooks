{
 "cells": [
  {
   "cell_type": "markdown",
   "metadata": {},
   "source": [
    "<table>\n",
    "    <tr>\n",
    "        <td  style=\"background-color:#ffffff;\" width=\"18%\"><img src=\"..\\images\\qworld.jpg\"  align=\"left\"></td>\n",
    "        <td style=\"background-color:#ffffff;\" width=\"*\"></td>\n",
    "        <td  style=\"background-color:#ffffff;vertical-align:text-top;\" width=\"21%\"><img src=\"..\\images\\qpoland.jpg\" align=\"right\"></td>  \n",
    "        <td  style=\"background-color:#ffffff;vertical-align:text-top;\" width=\"19%\" ><img src=\"..\\images\\qlatvia.jpg\" align=\"right\"></td>  \n",
    "    </tr>\n",
    "    <tr><td colspan=\"4\" align=\"right\" style=\"color:#777777;background-color:#ffffff;font-size:12px;\">\n",
    "        prepared by Anastasija Trizna and Oskar Słowik\n",
    "    </td></tr>\n",
    "    <tr><td colspan=\"4\" align=\"right\" style=\"color:#bbbbbb;background-color:#ffffff;font-size:11px;font-style:italic;\">\n",
    "        This cell contains some macros. If there is a problem with displaying mathematical formulas, please run this cell to load these macros.\n",
    "    </td></tr>\n",
    "</table>\n",
    "$ \\newcommand{\\bra}[1]{\\langle #1|} $\n",
    "$ \\newcommand{\\ket}[1]{|#1\\rangle} $\n",
    "$ \\newcommand{\\braket}[2]{\\langle #1|#2\\rangle} $\n",
    "$ \\newcommand{\\dot}[2]{ #1 \\cdot #2} $\n",
    "$ \\newcommand{\\biginner}[2]{\\left\\langle #1,#2\\right\\rangle} $\n",
    "$ \\newcommand{\\mymatrix}[2]{\\left( \\begin{array}{#1} #2\\end{array} \\right)} $\n",
    "$ \\newcommand{\\myvector}[1]{\\mymatrix{c}{#1}} $\n",
    "$ \\newcommand{\\myrvector}[1]{\\mymatrix{r}{#1}} $\n",
    "$ \\newcommand{\\mypar}[1]{\\left( #1 \\right)} $\n",
    "$ \\newcommand{\\mybigpar}[1]{ \\Big( #1 \\Big)} $\n",
    "$ \\newcommand{\\sqrttwo}{\\frac{1}{\\sqrt{2}}} $\n",
    "$ \\newcommand{\\dsqrttwo}{\\dfrac{1}{\\sqrt{2}}} $\n",
    "$ \\newcommand{\\onehalf}{\\frac{1}{2}} $\n",
    "$ \\newcommand{\\donehalf}{\\dfrac{1}{2}} $\n",
    "$ \\newcommand{\\hadamard}{ \\mymatrix{rr}{ \\sqrttwo & \\sqrttwo \\\\ \\sqrttwo & -\\sqrttwo }} $\n",
    "$ \\newcommand{\\vzero}{\\myvector{1\\\\0}} $\n",
    "$ \\newcommand{\\vone}{\\myvector{0\\\\1}} $\n",
    "$ \\newcommand{\\vhadamardzero}{\\myvector{ \\sqrttwo \\\\  \\sqrttwo } } $\n",
    "$ \\newcommand{\\vhadamardone}{ \\myrvector{ \\sqrttwo \\\\ -\\sqrttwo } } $\n",
    "$ \\newcommand{\\myarray}[2]{ \\begin{array}{#1}#2\\end{array}} $\n",
    "$ \\newcommand{\\X}{ \\mymatrix{cc}{0 & 1 \\\\ 1 & 0}  } $\n",
    "$ \\newcommand{\\Z}{ \\mymatrix{rr}{1 & 0 \\\\ 0 & -1}  } $\n",
    "$ \\newcommand{\\Htwo}{ \\mymatrix{rrrr}{ \\frac{1}{2} & \\frac{1}{2} & \\frac{1}{2} & \\frac{1}{2} \\\\ \\frac{1}{2} & -\\frac{1}{2} & \\frac{1}{2} & -\\frac{1}{2} \\\\ \\frac{1}{2} & \\frac{1}{2} & -\\frac{1}{2} & -\\frac{1}{2} \\\\ \\frac{1}{2} & -\\frac{1}{2} & -\\frac{1}{2} & \\frac{1}{2} } } $\n",
    "$ \\newcommand{\\CNOT}{ \\mymatrix{cccc}{1 & 0 & 0 & 0 \\\\ 0 & 1 & 0 & 0 \\\\ 0 & 0 & 0 & 1 \\\\ 0 & 0 & 1 & 0} } $\n",
    "$ \\newcommand{\\norm}[1]{ \\left\\lVert #1 \\right\\rVert } $"
   ]
  },
  {
   "cell_type": "markdown",
   "metadata": {},
   "source": [
    "<i>In this section we will need parity bit and parity check, which are covered in QKD track. You can skip recap if this information is already known.</i>"
   ]
  },
  {
   "cell_type": "markdown",
   "metadata": {},
   "source": [
    "<h3>Parity check [recap]</h3>\n",
    "\n",
    "<i>See full version with protocol examples in QC11.Information reconciliation.</i>\n",
    "\n",
    "Parity [equvalence, equality] check method is commonly used in classical information processing.\n",
    "\n",
    "The basic idea is as follow:\n",
    "\n",
    "Suppose you want to send a 7 bits of information: $1101100$.\n",
    "\n",
    "But some interference came in during communication and your string become $1111100$.\n",
    "\n",
    "How can we tell if the received information is correct or wrong?\n",
    "\n",
    "<b>Parity check</b> technique can be applied to ensure the correctness of received string by verifying parity bit.\n",
    "\n",
    "<b>Parity bit</b> is one additional bit that add at the end of our initial string before sending to the recepient. \n",
    "\n",
    "For a given set of bits we will count how many bits we have with value '1':\n",
    "<center><li>If count is even - we add parity bit $0$ at the end of our string</center>\n",
    "<center><li>If count is odd - we add parity bit $1$</center>\n",
    "\n",
    "<b>Back to our example:</b>\n",
    "<li> Initial bit string: $1101100$\n",
    "<li> Parity bit: $(1+1+0+1+1+0+0)mod2=0$\n",
    "<li> Additing parity bit and send: $11011000$\n",
    "    \n",
    "Successful transmission:\n",
    "<li> Asja sends $11011000$ to Balvis.\n",
    "<li> Balvis receives $11011000$ and verifies correctness by computing parity for first 8 bits: $(1+1+0+1+1+0+0)mod2=0$\n",
    "<li> Balvis compare result with parity bit $0=0$.\n",
    "\n",
    "Failed transmission:\n",
    "<li> Asja sends $11011000$ to Balvis.\n",
    "<li> Some interference occurs in the channel and Balvis receives $11111000$. \n",
    "<li> Balvis verifies correctness by computing parity for first 8 bits: $(1+1+1+1+1+0+0)mod2=1$ and comparing with parity bit $1≠0$. \n",
    "<li> Calculated result does not match the parity bit, thus Balvis knows that received bit string contains an error.\n",
    "    \n",
    "<h4>Parity check problem</h4>\n",
    "\n",
    "Suppose you want to send only one bit of information: $1$. \n",
    "\n",
    "You then add a parity check bit: $11$; and send the message.\n",
    "\n",
    "If there is a noise in the channel, with certain probability the recipient may receive:\n",
    "<li>$01$\n",
    "<li>$10$\n",
    "<li>$00$\n",
    "\n",
    "By looking at the parity bit, recipient will conclude:\n",
    "<li>$01 →$ there is clearly an error in this bit string, because $(0)mod2≠1$ \n",
    "<li>$10 →$ there is clearly an error in this bit string, because $(1)mod2≠0$ \n",
    "<li>$00 →$ this string is correct, because $(0)mod2=0$ \n",
    "    \n",
    "We just accepted a string with an error!\n",
    "\n",
    "<b>Conclusion</b>: parity check detects 66% errors. This is not perfect, but we still can use it and develop protocols for error detection and error correction. "
   ]
  },
  {
   "cell_type": "markdown",
   "metadata": {},
   "source": [
    "<h3>Hamming code family</h3>"
   ]
  },
  {
   "cell_type": "markdown",
   "metadata": {},
   "source": [
    "\n",
    "Hamming code is particularly good classical error correction code because it not only detect an error, but also says <b>where</b> error occured which is then very usefull for correcting error.\n",
    "\n",
    "In contrast, parity check can detect only odd number of errors.\n",
    "\n",
    "Hamming codes are a family of linear error-correcting codes. \n",
    "\n",
    "We will consider $(7,4)$ Hamming code as example."
   ]
  },
  {
   "cell_type": "markdown",
   "metadata": {},
   "source": [
    "<h3>(7,4) Hamming code</h3>\n",
    "\n",
    "The $(7,4)$ Hamming code is SEC and encodes $4$ bit message ($b$<sub>1</sub>, $b$<sub>2</sub>, $b$<sub>3</sub>, $b$<sub>4</sub>) using $3$ parity bits ($p$<sub>1</sub>, $p$<sub>2</sub>, $p$<sub>4</sub>).\n",
    "\n",
    "Parity bits are calculated in the following ways:\n",
    "\n",
    "<center>$p$<sub>1</sub> = $b$<sub>4</sub> ⊕ $b$<sub>3</sub> ⊕ $b$<sub>1</sub></center>\n",
    "<center>$p$<sub>2</sub> = $b$<sub>4</sub> ⊕ $b$<sub>2</sub> ⊕ $b$<sub>1</sub></center>\n",
    "<center>$p$<sub>4</sub> = $b$<sub>3</sub> ⊕ $b$<sub>2</sub> ⊕ $b$<sub>1</sub></center>\n",
    "\n",
    "Which can be visualised as:\n",
    "\n",
    "<td style=\"background-color:#ffffff;\"><img src=\"..\\images\\hamming_cl.jpg\" width=\"15%\" align=\"middle\"></td> "
   ]
  },
  {
   "cell_type": "markdown",
   "metadata": {},
   "source": [
    "<h3>Bit position</h3>\n",
    "\n",
    "We will locate $7$ bits starting from $1$:\n",
    "<center>$1$, $2$, $3$, $4$, $5$, $6$, $7$</center>\n",
    "Which can be written in binary as:\n",
    "<center>$001$, $010$, $011$, $100$, $101$, $110$, $111$</center>"
   ]
  },
  {
   "cell_type": "markdown",
   "metadata": {},
   "source": [
    "We will assign a location for parity bits ($p$<sub>1</sub>, $p$<sub>2</sub>, $p$<sub>4</sub>) at the position that have single $1$ in binary:\n",
    "<center>$1$ → $001$ → $p$<sub>1</sub></center>\n",
    "<center>$2$ → $010$ → $p$<sub>2</sub></center>\n",
    "<center>$4$ → $100$ → $p$<sub>4</sub></center>\n",
    "\n",
    "Rest positions are assigned to message bits ($b$<sub>1</sub>, $b$<sub>2</sub>, $b$<sub>3</sub>, $b$<sub>4</sub>)\n",
    "<center>$3$ → $011$ → $b$<sub>4</sub></center>\n",
    "<center>$5$ → $101$ → $b$<sub>3</sub></center>\n",
    "<center>$6$ → $110$ → $b$<sub>2</sub></center>\n",
    "<center>$7$ → $111$ → $b$<sub>1</sub></center>"
   ]
  },
  {
   "cell_type": "markdown",
   "metadata": {},
   "source": [
    "Our encoded bit string is:\n",
    "\n",
    "<CENTER><B>$p$<sub>1</sub> $p$<sub>2</sub> $b$<sub>4</sub> $p$<sub>4</sub> $b$<sub>3</sub> $b$<sub>2</sub> $b$<sub>1</sub>\n"
   ]
  },
  {
   "cell_type": "markdown",
   "metadata": {},
   "source": [
    "We now have formed three groups:\n",
    "\n",
    "<b>1st group:</b> $p$<sub>1</sub>, $b$<sub>4</sub>, $b$<sub>3</sub>, $b$<sub>1</sub> → <font color=\"red\">$p$<sub>1</sub></font> $p$<sub>2</sub> <font color=\"red\">$b$<sub>4</sub></font> $p$<sub>4</sub> <font color=\"red\">$b$<sub>3</sub></font> $b$<sub>2</sub> <font color=\"red\">$b$<sub>1</sub></font>\n",
    "\n",
    "<center>$p$<sub>1</sub>, position $1$ → $00$<font color=\"red\">$1$</font></center>\n",
    "<center>$b$<sub>4</sub>, position $3$ → $01$<font color=\"red\">$1$</font></center>\n",
    "<center>$b$<sub>3</sub>, position $5$ → $10$<font color=\"red\">$1$</font></center>\n",
    "<center>$b$<sub>1</sub>, position $7$ → $11$<font color=\"red\">$1$</font></center>"
   ]
  },
  {
   "cell_type": "markdown",
   "metadata": {},
   "source": [
    "<b>2nd group:</b> $p$<sub>2</sub>, $b$<sub>4</sub>, $b$<sub>2</sub>, $b$<sub>1</sub> → $p$<sub>1</sub> <font color=\"red\">$p$<sub>2</sub></font> <font color=\"red\">$b$<sub>4</sub></font> $p$<sub>4</sub> $b$<sub>3</sub> <font color=\"red\">$b$<sub>2</sub></font> <font color=\"red\">$b$<sub>1</sub></font>\n",
    "\n",
    "<center>$p$<sub>2</sub>, position $2$ → $0$<font color=\"red\">$1$</font>$0$</center>\n",
    "<center>$b$<sub>4</sub>, position $3$ → $0$<font color=\"red\">$1$</font>$1$</center>\n",
    "<center>$b$<sub>2</sub>, position $6$ → $1$<font color=\"red\">$1$</font>$0$</center>\n",
    "<center>$b$<sub>1</sub>, position $7$ → $1$<font color=\"red\">$1$</font>$1$</center>"
   ]
  },
  {
   "cell_type": "markdown",
   "metadata": {},
   "source": [
    "<b>3rd group:</b> $p$<sub>4</sub>, $b$<sub>3</sub>, $b$<sub>2</sub>, $b$<sub>1</sub> → $p$<sub>1</sub> $p$<sub>2</sub> $b$<sub>4</sub></font> <font color=\"red\">$p$<sub>4</sub></font> <font color=\"red\">$b$<sub>3</sub></font> <font color=\"red\">$b$<sub>2</sub></font> <font color=\"red\">$b$<sub>1</sub></font>\n",
    "\n",
    "<center>$p$<sub>4</sub>, position $4$ → <font color=\"red\">$1$</font>$00$</center>\n",
    "<center>$b$<sub>3</sub>, position $5$ → <font color=\"red\">$1$</font>$01$</center>\n",
    "<center>$b$<sub>2</sub>, position $6$ → <font color=\"red\">$1$</font>$10$</center>\n",
    "<center>$b$<sub>1</sub>, position $7$ → <font color=\"red\">$1$</font>$11$</center>"
   ]
  },
  {
   "cell_type": "markdown",
   "metadata": {},
   "source": [
    "<h3>Task 1: Encoding</h3>\n",
    "\n",
    "Create bit string encoded in (7,4) Hamming code to send message $6$.\n",
    "\n",
    "Note: Write binary string right-to-left, so $b$<sub>1</sub> is lsb (least significant bit)."
   ]
  },
  {
   "cell_type": "markdown",
   "metadata": {},
   "source": [
    "<i>Answer:</i>\\\n",
    "$6$<sub>10</sub> = $110$<sub>2</sub>\n",
    "\n",
    "$b$<sub>1</sub>=$0$\\\n",
    "$b$<sub>2</sub>=$1$\\\n",
    "$b$<sub>3</sub>=$1$\\\n",
    "$b$<sub>4</sub>=$0$\n",
    "\n",
    "$p$<sub>1</sub> = $0$ ⊕ $1$ ⊕ $0$ =$1$\\\n",
    "$p$<sub>2</sub> = $0$ ⊕ $1$ ⊕ $0$ =$1$\\\n",
    "$p$<sub>4</sub> = $1$ ⊕ $1$ ⊕ $0$ =$0$\n",
    "\n",
    "Our encoded bit string is: $1100110$"
   ]
  },
  {
   "cell_type": "markdown",
   "metadata": {},
   "source": [
    "<h3>Detecting an error</h3>\n",
    "\n",
    "XOR function is used to calculate three <b>check bits</b> to detect an error:\n",
    "<center>$c$<sub>1</sub> = $p$<sub>1</sub> ⊕ $b$<sub>4</sub> ⊕ $b$<sub>3</sub> ⊕ $b$<sub>1</sub></center>\n",
    "<center>$c$<sub>2</sub> = $p$<sub>2</sub> ⊕ $b$<sub>4</sub> ⊕ $b$<sub>2</sub> ⊕ $b$<sub>1</sub></center>\n",
    "<center>$c$<sub>3</sub> = $p$<sub>4</sub> ⊕ $b$<sub>3</sub> ⊕ $b$<sub>2</sub> ⊕ $b$<sub>1</sub></center>"
   ]
  },
  {
   "cell_type": "markdown",
   "metadata": {},
   "source": [
    "<h3>Task 2: Check bits - no error</h3>\n",
    "\n",
    "Calculate check bits for your string."
   ]
  },
  {
   "cell_type": "markdown",
   "metadata": {},
   "source": [
    "<i>Answer:</i>\\\n",
    "$c$<sub>1</sub> = $1$ ⊕ $0$ ⊕ $1$ ⊕ $0$ = $0$\\\n",
    "$c$<sub>2</sub> = $1$ ⊕ $0$ ⊕ $1$ ⊕ $0$ = $0$\\\n",
    "$c$<sub>3</sub> = $0$ ⊕ $1$ ⊕ $1$ ⊕ $0$ = $0$"
   ]
  },
  {
   "cell_type": "markdown",
   "metadata": {},
   "source": [
    "<h3>Task 3: Check bits - error occured</h3>\n",
    "\n",
    "Now, flip one bit in your initial string and calculate check bits for modified string.\n",
    "\n",
    "Can you say which bit contains an error only by looking at check bits result?"
   ]
  },
  {
   "cell_type": "markdown",
   "metadata": {},
   "source": [
    "<i>Answer:</i>\\\n",
    "Initial string: $1100110$\\\n",
    "Modified string: $1100111$\n",
    "\n",
    "$c$<sub>1</sub> = $1$ ⊕ $0$ ⊕ $1$ ⊕ $1$ = $1$\\\n",
    "$c$<sub>2</sub> = $1$ ⊕ $0$ ⊕ $1$ ⊕ $1$ = $1$\\\n",
    "$c$<sub>3</sub> = $0$ ⊕ $1$ ⊕ $1$ ⊕ $1$ = $1$\n",
    "\n",
    "Error occured in position $111$ → $7$ → $b$<sub>1</sub>\n",
    "\n",
    "\n",
    "Another example:\n",
    "\n",
    "Modified string: $1110110$\n",
    "\n",
    "$c$<sub>1</sub> = $1$ ⊕ $1$ ⊕ $1$ ⊕ $1$ = $1$\\\n",
    "$c$<sub>2</sub> = $1$ ⊕ $1$ ⊕ $1$ ⊕ $1$ = $1$\\\n",
    "$c$<sub>3</sub> = $0$ ⊕ $1$ ⊕ $1$ ⊕ $1$ = $0$\n",
    "\n",
    "Error occured in position $011$ → $3$ → $b$<sub>4</sub>\n",
    "\n",
    "\n",
    "Another example:\n",
    "\n",
    "Modified string: $0100110$\n",
    "\n",
    "$c$<sub>1</sub> = $0$ ⊕ $0$ ⊕ $1$ ⊕ $0$ = $1$\\\n",
    "$c$<sub>2</sub> = $1$ ⊕ $0$ ⊕ $1$ ⊕ $0$ = $0$\\\n",
    "$c$<sub>3</sub> = $0$ ⊕ $1$ ⊕ $1$ ⊕ $0$ = $0$\n",
    "\n",
    "Error occured in position $001$ → $1$ → $p$<sub>1</sub>"
   ]
  },
  {
   "cell_type": "markdown",
   "metadata": {},
   "source": [
    "(7,4) Hamming code can detect and correct single-bit errors, because the values of the check bits shows the exact location of an error!\n"
   ]
  },
  {
   "cell_type": "markdown",
   "metadata": {},
   "source": [
    "<h3>Task 4: [n, k ,d]</h3>\n",
    "\n",
    "What is [n, k ,d] for (7,4) Hamming code?"
   ]
  },
  {
   "cell_type": "markdown",
   "metadata": {},
   "source": [
    "<i>Answer:</i>\n",
    "\n",
    "To calculate the distance, we need to find all distances and then pick the smallest one. \\\n",
    "Or, using information we already know, Hamming code corrects 1 error. $d=2k+1$, where $k=1$\\\n",
    "[7,4,3]"
   ]
  },
  {
   "cell_type": "markdown",
   "metadata": {},
   "source": [
    "<h3>Hamming code family</h3>\n",
    "\n",
    "As message size varies, we get different variations of Hamming codes:\n",
    "\n",
    "\n",
    "\n",
    "\n",
    "\n",
    "<table style=\"width:40%\">\n",
    "  <tr>\n",
    "    <th>Name</th>\n",
    "    <th>Data bits</th>\n",
    "    <th>Parity bits</th>\n",
    "  </tr>\n",
    "  <tr>\n",
    "    <td>(3,1) Hamming</td>\n",
    "    <td>1</td>\n",
    "    <td>2</td>\n",
    "  </tr>\n",
    "  <tr>\n",
    "    <td>(7,4) Hamming</td>\n",
    "    <td>4</td>\n",
    "    <td>3</td>\n",
    "  </tr>\n",
    "  <tr>\n",
    "    <td>(15,11) Hamming</td>\n",
    "    <td>11</td>\n",
    "    <td>4</td>\n",
    "  </tr>\n",
    "  <tr>\n",
    "    <td>(31,26) Hamming</td>\n",
    "    <td>26</td>\n",
    "    <td>5</td>\n",
    "  </tr>\n",
    "  <tr>\n",
    "    <td>(63,57) Hamming</td>\n",
    "    <td>57</td>\n",
    "    <td>6</td>\n",
    "  </tr>\n",
    "  <tr>\n",
    "    <td>(127,120) Hamming</td>\n",
    "    <td>120</td>\n",
    "    <td>7</td>\n",
    "  </tr>\n",
    "  <tr>\n",
    "    <td>(255,247) Hamming</td>\n",
    "    <td>247</td>\n",
    "    <td>8</td>\n",
    "  </tr>\n",
    "</table>"
   ]
  },
  {
   "cell_type": "markdown",
   "metadata": {},
   "source": [
    "All these codes can detect up to 2 errors and correct 1 error. \n",
    "\n",
    "Thus, all Hamming codes have $d=3$.\n",
    "\n",
    "Here is Venn diagramm for (15,11) Hamming code:"
   ]
  },
  {
   "cell_type": "markdown",
   "metadata": {},
   "source": [
    "\n",
    "<td style=\"background-color:#ffffff;\"><img src=\"..\\images\\hamming_cl_15_11.jpg\" width=\"50%\" align=\"middle\"></td>"
   ]
  },
  {
   "cell_type": "markdown",
   "metadata": {},
   "source": [
    "<i>Reference: (15, 11) Hamming code Venn diagram source: https://www.researchgate.net/figure/enn-diagram-of-the-hamming-codes-15-11_fig2_283461950"
   ]
  }
 ],
 "metadata": {
  "kernelspec": {
   "display_name": "Python 3",
   "language": "python",
   "name": "python3"
  },
  "language_info": {
   "codemirror_mode": {
    "name": "ipython",
    "version": 3
   },
   "file_extension": ".py",
   "mimetype": "text/x-python",
   "name": "python",
   "nbconvert_exporter": "python",
   "pygments_lexer": "ipython3",
   "version": "3.7.3"
  }
 },
 "nbformat": 4,
 "nbformat_minor": 2
}
