{
 "cells": [
  {
   "cell_type": "markdown",
   "metadata": {},
   "source": [
    "<table>\n",
    "    <tr>\n",
    "        <td  style=\"background-color:#ffffff;\" width=\"18%\"><img src=\"..\\images\\qworld.jpg\"  align=\"left\"></td>\n",
    "        <td style=\"background-color:#ffffff;\" width=\"*\"></td>\n",
    "        <td  style=\"background-color:#ffffff;vertical-align:text-top;\" width=\"21%\"><img src=\"..\\images\\qpoland.jpg\" align=\"right\"></td>  \n",
    "        <td  style=\"background-color:#ffffff;vertical-align:text-top;\" width=\"19%\" ><img src=\"..\\images\\qlatvia.jpg\" align=\"right\"></td>  \n",
    "    </tr>\n",
    "    <tr><td colspan=\"4\" align=\"right\" style=\"color:#777777;background-color:#ffffff;font-size:12px;\">\n",
    "        prepared by Anastasija Trizna\n",
    "    </td></tr>\n",
    "    <tr><td colspan=\"4\" align=\"right\" style=\"color:#bbbbbb;background-color:#ffffff;font-size:11px;font-style:italic;\">\n",
    "        This cell contains some macros. If there is a problem with displaying mathematical formulas, please run this cell to load these macros.\n",
    "    </td></tr>\n",
    "</table>\n",
    "$ \\newcommand{\\bra}[1]{\\langle #1|} $\n",
    "$ \\newcommand{\\ket}[1]{|#1\\rangle} $\n",
    "$ \\newcommand{\\braket}[2]{\\langle #1|#2\\rangle} $\n",
    "$ \\newcommand{\\dot}[2]{ #1 \\cdot #2} $\n",
    "$ \\newcommand{\\biginner}[2]{\\left\\langle #1,#2\\right\\rangle} $\n",
    "$ \\newcommand{\\mymatrix}[2]{\\left( \\begin{array}{#1} #2\\end{array} \\right)} $\n",
    "$ \\newcommand{\\myvector}[1]{\\mymatrix{c}{#1}} $\n",
    "$ \\newcommand{\\myrvector}[1]{\\mymatrix{r}{#1}} $\n",
    "$ \\newcommand{\\mypar}[1]{\\left( #1 \\right)} $\n",
    "$ \\newcommand{\\mybigpar}[1]{ \\Big( #1 \\Big)} $\n",
    "$ \\newcommand{\\sqrttwo}{\\frac{1}{\\sqrt{2}}} $\n",
    "$ \\newcommand{\\dsqrttwo}{\\dfrac{1}{\\sqrt{2}}} $\n",
    "$ \\newcommand{\\onehalf}{\\frac{1}{2}} $\n",
    "$ \\newcommand{\\donehalf}{\\dfrac{1}{2}} $\n",
    "$ \\newcommand{\\hadamard}{ \\mymatrix{rr}{ \\sqrttwo & \\sqrttwo \\\\ \\sqrttwo & -\\sqrttwo }} $\n",
    "$ \\newcommand{\\vzero}{\\myvector{1\\\\0}} $\n",
    "$ \\newcommand{\\vone}{\\myvector{0\\\\1}} $\n",
    "$ \\newcommand{\\vhadamardzero}{\\myvector{ \\sqrttwo \\\\  \\sqrttwo } } $\n",
    "$ \\newcommand{\\vhadamardone}{ \\myrvector{ \\sqrttwo \\\\ -\\sqrttwo } } $\n",
    "$ \\newcommand{\\myarray}[2]{ \\begin{array}{#1}#2\\end{array}} $\n",
    "$ \\newcommand{\\X}{ \\mymatrix{cc}{0 & 1 \\\\ 1 & 0}  } $\n",
    "$ \\newcommand{\\Z}{ \\mymatrix{rr}{1 & 0 \\\\ 0 & -1}  } $\n",
    "$ \\newcommand{\\Htwo}{ \\mymatrix{rrrr}{ \\frac{1}{2} & \\frac{1}{2} & \\frac{1}{2} & \\frac{1}{2} \\\\ \\frac{1}{2} & -\\frac{1}{2} & \\frac{1}{2} & -\\frac{1}{2} \\\\ \\frac{1}{2} & \\frac{1}{2} & -\\frac{1}{2} & -\\frac{1}{2} \\\\ \\frac{1}{2} & -\\frac{1}{2} & -\\frac{1}{2} & \\frac{1}{2} } } $\n",
    "$ \\newcommand{\\CNOT}{ \\mymatrix{cccc}{1 & 0 & 0 & 0 \\\\ 0 & 1 & 0 & 0 \\\\ 0 & 0 & 0 & 1 \\\\ 0 & 0 & 1 & 0} } $\n",
    "$ \\newcommand{\\norm}[1]{ \\left\\lVert #1 \\right\\rVert } $"
   ]
  },
  {
   "cell_type": "markdown",
   "metadata": {},
   "source": [
    "This course covers the basics of <b>Quantum Cryptography</b> and <b>Quantum Key Distribution</b> in the simplest way possible. \n",
    "\n",
    "Prior knowledge about basics of quantum computation or finished Bronze+ course required.\n",
    "\n",
    "The current version uses Python as the programming language and Qiskit library."
   ]
  },
  {
   "cell_type": "markdown",
   "metadata": {},
   "source": [
    "<b>Introduction</b>\n",
    "\n",
    "<ul>\n",
    "    <li><a href=\"notebooks/QC00. Motivation.ipynb\" target=\"_blank\">Motivation</a></li>\n",
    "    <li><a href=\"notebooks/QC01. Cryptography Foundations.ipynb\" target=\"_blank\">Classical Cryptography</a></li>\n",
    "</ul>"
   ]
  },
  {
   "cell_type": "markdown",
   "metadata": {},
   "source": [
    "<b>Fundamental concepts</b>\n",
    "\n",
    "<ul>\n",
    "    <li><a href=\"notebooks/QC02. Quantum One-Time Pad.ipynb\" target=\"_blank\">Quantum one-time pad</a></li>\n",
    "    <li><a href=\"notebooks/QC04. Quantum communication in Qiskit.ipynb\" target=\"_blank\">Quantum network with Qiskit</a></li>\n",
    "    <li><a href=\"notebooks/QC03. No-Cloning Theorem.ipynb\" target=\"_blank\">No-Cloning Theorem</a></li>\n",
    "</ul>"
   ]
  },
  {
   "cell_type": "markdown",
   "metadata": {},
   "source": [
    "<h3>BB84</h3>\n",
    "\n",
    "<b>Noise-free</b>\n",
    "\n",
    "<ul>\n",
    "    <li><a href=\"notebooks/QC05. BB84 protocol.ipynb\" target=\"_blank\">BB84 protocol workflow</a></li>\n",
    "    <li><a href=\"notebooks/QC06. Distributing quantum states.ipynb\" target=\"_blank\">Distributing quantum states</a></li>\n",
    "    <li><a href=\"notebooks/QC07. Sifting and QBER calculation.ipynb\" target=\"_blank\">Sifting and QBER calculation</a></li>\n",
    "    <li><a href=\"notebooks/QC08. Privacy amplification.ipynb\" target=\"_blank\">Privacy amplification</a></li>\n",
    "</ul>"
   ]
  },
  {
   "cell_type": "markdown",
   "metadata": {},
   "source": [
    "<b>To handle the noise</b>\n",
    "\n",
    "<ul>\n",
    "    <li><a href=\"notebooks/QC09. Updating BB84 protocol.ipynb\" target=\"_blank\">Updating BB84 protocol workflow</a></li>\n",
    "    <li><a href=\"notebooks/QC10. Noisy channel.ipynb\" target=\"_blank\">Noisy channel</a></li>\n",
    "    <li><a href=\"notebooks/QC11. Information reconciliation.ipynb\" target=\"_blank\">Information reconciliation</a></li>\n",
    "    <li><a href=\"notebooks/QC12. Complete BB84 protocol implementation.ipynb\" target=\"_blank\">Complete BB84 protocol implementation</a></li>\n",
    "</ul>"
   ]
  },
  {
   "cell_type": "markdown",
   "metadata": {},
   "source": [
    "<b>Adversary</b>\n",
    "\n",
    "<ul>\n",
    "    <li><a href=\"notebooks/QC13. Man-in-the-Middle.ipynb\" target=\"_blank\">Man-in-the-Middle</a></li>\n",
    "    <li><a href=\"notebooks/QC14. Intercept-resend attack.ipynb\" target=\"_blank\">Intercept-resend attack</a></li>\n",
    "</ul>"
   ]
  },
  {
   "cell_type": "markdown",
   "metadata": {},
   "source": [
    "<h3>E91</h3>\n",
    "\n",
    "<ul>\n",
    "    <li><a href=\"notebooks/QC15. Bell test.ipynb\" target=\"_blank\">Bell test</a></li>\n",
    "    <li><a href=\"notebooks/QC16. CHSH inequality.ipynb\" target=\"_blank\">CHSH inequality</a></li>\n",
    "    <li><a href=\"notebooks/QC17. E91 protocol workflow.ipynb\" target=\"_blank\">E91 protocol workflow</a></li>\n",
    "    <li><a href=\"notebooks/QC18. E91 implementation.ipynb\" target=\"_blank\">E91 implementation</a></li>\n",
    "</ul>"
   ]
  },
  {
   "cell_type": "markdown",
   "metadata": {},
   "source": [
    "<b>Adversary</b>\n",
    "\n",
    "<ul>\n",
    "    <li><a href=\"notebooks/QC19. Security of E91 protocol.ipynb\" target=\"_blank\">Security of E91 protocol</a></li>\n",
    "</ul>"
   ]
  }
 ],
 "metadata": {
  "kernelspec": {
   "display_name": "Python 3",
   "language": "python",
   "name": "python3"
  },
  "language_info": {
   "codemirror_mode": {
    "name": "ipython",
    "version": 3
   },
   "file_extension": ".py",
   "mimetype": "text/x-python",
   "name": "python",
   "nbconvert_exporter": "python",
   "pygments_lexer": "ipython3",
   "version": "3.7.3"
  }
 },
 "nbformat": 4,
 "nbformat_minor": 2
}
