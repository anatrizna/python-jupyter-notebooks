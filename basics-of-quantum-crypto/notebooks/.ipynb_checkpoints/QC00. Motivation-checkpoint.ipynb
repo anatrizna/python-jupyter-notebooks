{
 "cells": [
  {
   "cell_type": "markdown",
   "metadata": {},
   "source": [
    "<table>\n",
    "    <tr>\n",
    "        <td  style=\"background-color:#ffffff;\" width=\"18%\"><img src=\"..\\images\\qworld.jpg\"  align=\"left\"></td>\n",
    "        <td style=\"background-color:#ffffff;\" width=\"*\"></td>\n",
    "        <td  style=\"background-color:#ffffff;vertical-align:text-top;\" width=\"21%\"><img src=\"..\\images\\qpoland.jpg\" align=\"right\"></td>  \n",
    "        <td  style=\"background-color:#ffffff;vertical-align:text-top;\" width=\"19%\" ><img src=\"..\\images\\qlatvia.jpg\" align=\"right\"></td>  \n",
    "    </tr>\n",
    "    <tr><td colspan=\"4\" align=\"right\" style=\"color:#777777;background-color:#ffffff;font-size:12px;\">\n",
    "        prepared by Anastasija Trizna\n",
    "    </td></tr>\n",
    "    <tr><td colspan=\"4\" align=\"right\" style=\"color:#bbbbbb;background-color:#ffffff;font-size:11px;font-style:italic;\">\n",
    "        This cell contains some macros. If there is a problem with displaying mathematical formulas, please run this cell to load these macros.\n",
    "    </td></tr>\n",
    "</table>\n",
    "$ \\newcommand{\\bra}[1]{\\langle #1|} $\n",
    "$ \\newcommand{\\ket}[1]{|#1\\rangle} $\n",
    "$ \\newcommand{\\braket}[2]{\\langle #1|#2\\rangle} $\n",
    "$ \\newcommand{\\dot}[2]{ #1 \\cdot #2} $\n",
    "$ \\newcommand{\\biginner}[2]{\\left\\langle #1,#2\\right\\rangle} $\n",
    "$ \\newcommand{\\mymatrix}[2]{\\left( \\begin{array}{#1} #2\\end{array} \\right)} $\n",
    "$ \\newcommand{\\myvector}[1]{\\mymatrix{c}{#1}} $\n",
    "$ \\newcommand{\\myrvector}[1]{\\mymatrix{r}{#1}} $\n",
    "$ \\newcommand{\\mypar}[1]{\\left( #1 \\right)} $\n",
    "$ \\newcommand{\\mybigpar}[1]{ \\Big( #1 \\Big)} $\n",
    "$ \\newcommand{\\sqrttwo}{\\frac{1}{\\sqrt{2}}} $\n",
    "$ \\newcommand{\\dsqrttwo}{\\dfrac{1}{\\sqrt{2}}} $\n",
    "$ \\newcommand{\\onehalf}{\\frac{1}{2}} $\n",
    "$ \\newcommand{\\donehalf}{\\dfrac{1}{2}} $\n",
    "$ \\newcommand{\\hadamard}{ \\mymatrix{rr}{ \\sqrttwo & \\sqrttwo \\\\ \\sqrttwo & -\\sqrttwo }} $\n",
    "$ \\newcommand{\\vzero}{\\myvector{1\\\\0}} $\n",
    "$ \\newcommand{\\vone}{\\myvector{0\\\\1}} $\n",
    "$ \\newcommand{\\vhadamardzero}{\\myvector{ \\sqrttwo \\\\  \\sqrttwo } } $\n",
    "$ \\newcommand{\\vhadamardone}{ \\myrvector{ \\sqrttwo \\\\ -\\sqrttwo } } $\n",
    "$ \\newcommand{\\myarray}[2]{ \\begin{array}{#1}#2\\end{array}} $\n",
    "$ \\newcommand{\\X}{ \\mymatrix{cc}{0 & 1 \\\\ 1 & 0}  } $\n",
    "$ \\newcommand{\\Z}{ \\mymatrix{rr}{1 & 0 \\\\ 0 & -1}  } $\n",
    "$ \\newcommand{\\Htwo}{ \\mymatrix{rrrr}{ \\frac{1}{2} & \\frac{1}{2} & \\frac{1}{2} & \\frac{1}{2} \\\\ \\frac{1}{2} & -\\frac{1}{2} & \\frac{1}{2} & -\\frac{1}{2} \\\\ \\frac{1}{2} & \\frac{1}{2} & -\\frac{1}{2} & -\\frac{1}{2} \\\\ \\frac{1}{2} & -\\frac{1}{2} & -\\frac{1}{2} & \\frac{1}{2} } } $\n",
    "$ \\newcommand{\\CNOT}{ \\mymatrix{cccc}{1 & 0 & 0 & 0 \\\\ 0 & 1 & 0 & 0 \\\\ 0 & 0 & 0 & 1 \\\\ 0 & 0 & 1 & 0} } $\n",
    "$ \\newcommand{\\norm}[1]{ \\left\\lVert #1 \\right\\rVert } $"
   ]
  },
  {
   "cell_type": "markdown",
   "metadata": {},
   "source": [
    "<h3>Why would anyone on Earth need to use quantum cryptography?</h3> (other than it sounds cool)\n",
    "\n",
    "<h4>Problems with classical crypto</h4>\n",
    "\n",
    "We all constantly use classical cryptography to secure data.\n",
    "\n",
    "Today we use classical public cryptography to send information, like bank or email servers. \n",
    "\n",
    "Classical encryption relies on the mathematical hardness and assumptions that certain mathematical problems is impossible to be solved by classical computer, due to computational power limitation and/or lack of efficient algorithm."
   ]
  },
  {
   "cell_type": "markdown",
   "metadata": {},
   "source": [
    "For example, if you have two numbers you can easily multiply those. But what if you have multiplication result and need to find out what are those two numbers that were used to calculate it? \n",
    "\n",
    "This mathematical problem is basically the idea behind most popular public cryptography encryption protocols - RSA and ECC. And it works perfectly, because when it looks like a problem if you don't know the initial numbers, once you know at least one number - you can easily uncompute and get second number. \n",
    "\n",
    "For example, consider number <b>1209</b> and try to find those two numbers multiplied to get this result. This is hard, but if you have calculator and plenty of time - achievable. \n",
    "\n",
    "But what if this multiplication result is <b>2129093356115319</b>?‬ Now you better have a good algorithm so solve this puzzle."
   ]
  },
  {
   "cell_type": "markdown",
   "metadata": {},
   "source": [
    "Things changes when we introduce quantum computing. \n",
    "Now, when we have Shor's algorithm for finding prime factors of an integer (that's exactly the multiplication task we considered above) and Grove's algorithm for solving the problem of conducting a search, RSA and ECC no longer can be considered secure.\n",
    "\n",
    "The impact of quantum computing on classical cryptography has been evaluated by European Telecommunications Standards Institute (ETSI) in \"Quantum Safe Cryptography and Security\" white paper. ETSI created a comparison table:\n",
    "\n",
    "\n",
    "<td style=\"background-color:#ffffff;\"><img src=\"..\\images\\etsi.jpg\" width=\"60%\" align=\"middle\"></td> "
   ]
  },
  {
   "cell_type": "markdown",
   "metadata": {},
   "source": [
    "In above table, effective key strength for conventional computing is derived from NIST SP 800-57 “Recommendation for Key Management”, evaluation based on General Number Field Sieve (GNFS) - most efficient classical algorithm known for factoring integers larger than 10<sup>100</sup>."
   ]
  },
  {
   "cell_type": "markdown",
   "metadata": {},
   "source": [
    "<h4>Better classical algorithms</h4>\n",
    "\n",
    "As counter-measures, major researches were made to deliver <b>post-quantum cryptography</b> protocols that are based on mathematical hardness of problems assumed to be quantum-safe, as no sufficient quantum algorithm for solving those exist yet. \n",
    "\n",
    "Post-quantum cryptography considered as valuable solution as it can be implemented on classical computers. However, it still relies on mathematical hardness assumption, thus arguable topic whether it's a matter of time when efficient quantum algorithms for breaking it will be found, as things can change once first quantum computer released and targeted researches done. \n",
    "\n",
    "Post-quantum algorithms usually called \"quantum resistant\", because – unlike quantum cryptography – it is not known yet is there will not be potential future quantum attacks against them. "
   ]
  },
  {
   "cell_type": "markdown",
   "metadata": {},
   "source": [
    "<h4>Quantum mechanics</h4>\n",
    "\n",
    "In contrast, <b>quantum cryptography</b> does not rely on mathematical hardness assumptions. \n",
    "\n",
    "<b>The security is guaranteed by the laws of quantum physics!</b>\n",
    "\n",
    "And distributed key can be used to encrypt data to enable secure communication on insecure channels. "
   ]
  },
  {
   "cell_type": "markdown",
   "metadata": {},
   "source": [
    "Now, I hope I could arouse interest in you and you are ready to meet quantum crypto and dive into details!"
   ]
  },
  {
   "cell_type": "markdown",
   "metadata": {},
   "source": [
    "P.S. BTW, the answers to multiplication problems: 13 and 93; 23167813 and 91898763. ;)"
   ]
  }
 ],
 "metadata": {
  "kernelspec": {
   "display_name": "Python 3",
   "language": "python",
   "name": "python3"
  },
  "language_info": {
   "codemirror_mode": {
    "name": "ipython",
    "version": 3
   },
   "file_extension": ".py",
   "mimetype": "text/x-python",
   "name": "python",
   "nbconvert_exporter": "python",
   "pygments_lexer": "ipython3",
   "version": "3.7.3"
  }
 },
 "nbformat": 4,
 "nbformat_minor": 2
}
