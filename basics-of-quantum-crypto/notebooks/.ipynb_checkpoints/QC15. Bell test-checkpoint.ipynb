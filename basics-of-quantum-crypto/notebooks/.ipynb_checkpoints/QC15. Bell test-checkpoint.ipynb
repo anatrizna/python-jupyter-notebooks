{
 "cells": [
  {
   "cell_type": "markdown",
   "metadata": {},
   "source": [
    "<table>\n",
    "    <tr>\n",
    "        <td  style=\"background-color:#ffffff;\" width=\"18%\"><img src=\"..\\images\\qworld.jpg\"  align=\"left\"></td>\n",
    "        <td style=\"background-color:#ffffff;\" width=\"*\"></td>\n",
    "        <td  style=\"background-color:#ffffff;vertical-align:text-top;\" width=\"21%\"><img src=\"..\\images\\qpoland.jpg\" align=\"right\"></td>  \n",
    "        <td  style=\"background-color:#ffffff;vertical-align:text-top;\" width=\"19%\" ><img src=\"..\\images\\qlatvia.jpg\" align=\"right\"></td>  \n",
    "    </tr>\n",
    "    <tr><td colspan=\"4\" align=\"right\" style=\"color:#777777;background-color:#ffffff;font-size:12px;\">\n",
    "        prepared by Anastasija Trizna\n",
    "    </td></tr>\n",
    "    <tr><td colspan=\"4\" align=\"right\" style=\"color:#bbbbbb;background-color:#ffffff;font-size:11px;font-style:italic;\">\n",
    "        This cell contains some macros. If there is a problem with displaying mathematical formulas, please run this cell to load these macros.\n",
    "    </td></tr>\n",
    "</table>\n",
    "$ \\newcommand{\\bra}[1]{\\langle #1|} $\n",
    "$ \\newcommand{\\ket}[1]{|#1\\rangle} $\n",
    "$ \\newcommand{\\braket}[2]{\\langle #1|#2\\rangle} $\n",
    "$ \\newcommand{\\dot}[2]{ #1 \\cdot #2} $\n",
    "$ \\newcommand{\\biginner}[2]{\\left\\langle #1,#2\\right\\rangle} $\n",
    "$ \\newcommand{\\mymatrix}[2]{\\left( \\begin{array}{#1} #2\\end{array} \\right)} $\n",
    "$ \\newcommand{\\myvector}[1]{\\mymatrix{c}{#1}} $\n",
    "$ \\newcommand{\\myrvector}[1]{\\mymatrix{r}{#1}} $\n",
    "$ \\newcommand{\\mypar}[1]{\\left( #1 \\right)} $\n",
    "$ \\newcommand{\\mybigpar}[1]{ \\Big( #1 \\Big)} $\n",
    "$ \\newcommand{\\sqrttwo}{\\frac{1}{\\sqrt{2}}} $\n",
    "$ \\newcommand{\\dsqrttwo}{\\dfrac{1}{\\sqrt{2}}} $\n",
    "$ \\newcommand{\\onehalf}{\\frac{1}{2}} $\n",
    "$ \\newcommand{\\donehalf}{\\dfrac{1}{2}} $\n",
    "$ \\newcommand{\\hadamard}{ \\mymatrix{rr}{ \\sqrttwo & \\sqrttwo \\\\ \\sqrttwo & -\\sqrttwo }} $\n",
    "$ \\newcommand{\\vzero}{\\myvector{1\\\\0}} $\n",
    "$ \\newcommand{\\vone}{\\myvector{0\\\\1}} $\n",
    "$ \\newcommand{\\vhadamardzero}{\\myvector{ \\sqrttwo \\\\  \\sqrttwo } } $\n",
    "$ \\newcommand{\\vhadamardone}{ \\myrvector{ \\sqrttwo \\\\ -\\sqrttwo } } $\n",
    "$ \\newcommand{\\myarray}[2]{ \\begin{array}{#1}#2\\end{array}} $\n",
    "$ \\newcommand{\\X}{ \\mymatrix{cc}{0 & 1 \\\\ 1 & 0}  } $\n",
    "$ \\newcommand{\\Z}{ \\mymatrix{rr}{1 & 0 \\\\ 0 & -1}  } $\n",
    "$ \\newcommand{\\Htwo}{ \\mymatrix{rrrr}{ \\frac{1}{2} & \\frac{1}{2} & \\frac{1}{2} & \\frac{1}{2} \\\\ \\frac{1}{2} & -\\frac{1}{2} & \\frac{1}{2} & -\\frac{1}{2} \\\\ \\frac{1}{2} & \\frac{1}{2} & -\\frac{1}{2} & -\\frac{1}{2} \\\\ \\frac{1}{2} & -\\frac{1}{2} & -\\frac{1}{2} & \\frac{1}{2} } } $\n",
    "$ \\newcommand{\\CNOT}{ \\mymatrix{cccc}{1 & 0 & 0 & 0 \\\\ 0 & 1 & 0 & 0 \\\\ 0 & 0 & 0 & 1 \\\\ 0 & 0 & 1 & 0} } $\n",
    "$ \\newcommand{\\norm}[1]{ \\left\\lVert #1 \\right\\rVert } $"
   ]
  },
  {
   "cell_type": "markdown",
   "metadata": {},
   "source": [
    "Before we start our next QKD protocol - E91, we need to take a look at experiment designed to test theory of quantum mechanic - <b>Bell inequality</b> or <b>Bell test</b>."
   ]
  },
  {
   "cell_type": "markdown",
   "metadata": {},
   "source": [
    "<h3>Entanglement in a nutshell</h3>\n",
    "\n",
    "As we already know, entanglement (or EPR pair) is a special connection between two particles. Such that, no matter of how far entangled particles are one from another, once you measure one particle - you know instanteniously the value of the second particle.\n",
    "\n",
    "But how this is possible? How second particle knows wheather or not the first particle is measured and what's its value?\n",
    "\n",
    "And that's a big question!"
   ]
  },
  {
   "cell_type": "markdown",
   "metadata": {},
   "source": [
    "<li>First possible explanation is that both particles are in constant and <b>immediate communication</b>. But in this case, communication between particles is faster than light. Which is a problem, because it violates Einstain's special relativity theory!\n",
    "\n",
    "\n",
    "<li>Second explanation is that when entagled particles were produced, they were both imbedded with <b>hidden variables</b>. Those hidden variables govern precisely the behaviour of those particle for those entire lifes. "
   ]
  },
  {
   "cell_type": "markdown",
   "metadata": {},
   "source": [
    "Since first option violates special relativity theory, leading physicists Einstein, Podolsky and Rosen supported the second theory and thought that there must be hidden variables."
   ]
  },
  {
   "cell_type": "markdown",
   "metadata": {},
   "source": [
    "And it was a <b>Bell inequality</b> or <b>Bell test</b> that showed that this can't be a hidden variables!"
   ]
  },
  {
   "cell_type": "markdown",
   "metadata": {},
   "source": [
    "<h3>Bell test</h3>\n",
    "\n",
    "<b>Source:</b>\\\n",
    "For our experiment, we will need to have a source of entangled particles.\\\n",
    "One particle of entangled pair will go to Asja, and second particle will go to Balvis.\n",
    "\n",
    "<b>Measurements:</b>\\\n",
    "Asja and Balvis will perform independent measurements.\\\n",
    "In addition to $Z$ and $X$ bases, they will use $W$ such that:\n",
    "<center>$W=\\frac{1}{\\sqrt{2}}(X+Z)$, which is a Z basis rotation to $\\frac{\\pi}{4}$"
   ]
  },
  {
   "cell_type": "markdown",
   "metadata": {},
   "source": [
    "<b>Hidden parameters:</b>\\\n",
    "According our first theory, there are hidden parameters that will determine qubits behavior.\\\n",
    "In other words, parameters says how our qubits will behave, if those will be detected by certain measurement basis or not.\\\n",
    "In our experiment we have 4 measurement bases - $Z, X, W$.\\\n",
    "Then, each qubit have a parameters that will determine if it will be detected <b>Y</b> or not <b>N</b> by each measurement basis.\\\n",
    "So the following qubit 'setups' are possible:\n",
    "\n",
    "\n",
    "<table style=\"width:10%\">\n",
    "  <tr>\n",
    "    <th>Z</th>\n",
    "    <th>X</th>\n",
    "    <th>W</th>\n",
    "  </tr>\n",
    "  <tr>\n",
    "    <td>Y</td>\n",
    "    <td>Y</td>\n",
    "    <td>Y</td>\n",
    "  </tr>\n",
    "  <tr>\n",
    "    <td>Y</td>\n",
    "    <td>Y</td>\n",
    "    <td>N</td>\n",
    "  </tr>\n",
    "  <tr>\n",
    "    <td>Y</td>\n",
    "    <td>N</td>\n",
    "    <td>Y</td>\n",
    "  </tr>\n",
    "  <tr>\n",
    "    <td>N</td>\n",
    "    <td>Y</td>\n",
    "    <td>Y</td>\n",
    "  </tr>\n",
    "  <tr>\n",
    "    <td>Y</td>\n",
    "    <td>N</td>\n",
    "    <td>N</td>\n",
    "  </tr>\n",
    "  <tr>\n",
    "    <td>N</td>\n",
    "    <td>Y</td>\n",
    "    <td>N</td>\n",
    "  </tr>\n",
    "  <tr>\n",
    "    <td>N</td>\n",
    "    <td>N</td>\n",
    "    <td>Y</td>\n",
    "  </tr>\n",
    "  <tr>\n",
    "    <td>N</td>\n",
    "    <td>N</td>\n",
    "    <td>N</td>\n",
    "  </tr>\n",
    "</table>"
   ]
  },
  {
   "cell_type": "markdown",
   "metadata": {},
   "source": [
    "Then, if Asja and Balvis will choose different measurement bases, they will be able to get same results (qubits will be detecter for <b>Y</b> scenario or not detected for <b>N</b> scenario) for some but not all scenarios.\n",
    "\n",
    "We are interested in cases when they choose different bases and they get different results:\n",
    "<center>Asja choses $Z$ basis, Balvis choses $X$ (or vice versa)</center>\n",
    "<center>Asja choses $X$ basis, Balvis choses $W$ (or vice versa)</center>\n",
    "<center>Asja choses $W$ basis, Balvis choses $Z$ (or vice versa)</center>"
   ]
  },
  {
   "cell_type": "markdown",
   "metadata": {},
   "source": [
    "Based on previous table, for each possible setup of hidden parameters we can evaluate if Asja and Balvis will be able or not to get same <b>S</b> or different <b>D</b> result.\n",
    "\n",
    "For example, if previous table says:\n",
    "<table style=\"width:10%\">\n",
    "  <tr>\n",
    "    <th>Z</th>\n",
    "    <th>X</th>\n",
    "    <th>W</th>\n",
    "  </tr>\n",
    "  <tr>\n",
    "    <td>Y</td>\n",
    "    <td>Y</td>\n",
    "    <td>N</td>\n",
    "  </tr>"
   ]
  },
  {
   "cell_type": "markdown",
   "metadata": {},
   "source": [
    "Then:\n",
    "<center>Asja choses $Z$ basis, Balvis choses $X$ - they get same <b>S</b> results.</center>\n",
    "<center>Asja choses $X$ basis, Balvis choses $W$ - they get different <b>D</b> results.</center>\n",
    "<center>Asja choses $W$ basis, Balvis choses $Z$ - they get different <b>D</b> results.</center>\n",
    "\n",
    "And we write it into our new table as:\n",
    "\n",
    "<table style=\"width:15%\">\n",
    "  <tr>\n",
    "    <th>Z⊗X</th>\n",
    "    <th>X⊗W</th>\n",
    "    <th>W⊗Z</th>\n",
    "  </tr>\n",
    "  <tr>\n",
    "    <td>S</td>\n",
    "    <td>D</td>\n",
    "    <td>D</td>\n",
    "  </tr>"
   ]
  },
  {
   "cell_type": "markdown",
   "metadata": {},
   "source": [
    "This way we can evaluate each hidden parameters setup:\n",
    "\n",
    "<table style=\"width:15%\">\n",
    "  <tr>\n",
    "    <th>Z⊗X</th>\n",
    "    <th>X⊗W</th>\n",
    "    <th>W⊗Z</th>\n",
    "  </tr>\n",
    "  <tr>\n",
    "    <td>S</td>\n",
    "    <td>S</td>\n",
    "    <td>S</td>\n",
    "  </tr>\n",
    "  <tr>\n",
    "    <td>S</td>\n",
    "    <td>D</td>\n",
    "    <td>D</td>\n",
    "  </tr>\n",
    "  <tr>\n",
    "    <td>D</td>\n",
    "    <td>D</td>\n",
    "    <td>S</td>\n",
    "  </tr>\n",
    "  <tr>\n",
    "    <td>D</td>\n",
    "    <td>S</td>\n",
    "    <td>D</td>\n",
    "  </tr>\n",
    "  <tr>\n",
    "    <td>D</td>\n",
    "    <td>S</td>\n",
    "    <td>D</td>\n",
    "  </tr>\n",
    "  <tr>\n",
    "    <td>D</td>\n",
    "    <td>D</td>\n",
    "    <td>S</td>\n",
    "  </tr>\n",
    "  <tr>\n",
    "    <td>S</td>\n",
    "    <td>D</td>\n",
    "    <td>D</td>\n",
    "  </tr>\n",
    "  <tr>\n",
    "    <td>S</td>\n",
    "    <td>S</td>\n",
    "    <td>S</td>\n",
    "  </tr>\n",
    "</table>"
   ]
  },
  {
   "cell_type": "markdown",
   "metadata": {},
   "source": [
    "In 12 out of 24 cases Asja and Balvis will be able to get same <b>S</b> results.\\\n",
    "We can now set estimation for our experiment:\n",
    "<center>Same outcome $≤ 2$</center>"
   ]
  },
  {
   "cell_type": "markdown",
   "metadata": {},
   "source": [
    "<h3>Task 1: Testing hidden parameter estimation</h3>\n",
    "\n",
    "Create a programm to verify our estimation. \n",
    "\n",
    "Start with EPR pair.\n",
    "\n",
    "Run 100 rounds each scenario and calculate rounds where users get same result $11$ or $00$:\n",
    "<li>Asja measures first particle in $Z$ basis, Balvis measures second particle in $X$ basis.\n",
    "<li>Asja measures first particle in $X$ basis, Balvis measures second particle in $W$ basis.\n",
    "<li>Asja measures first particle in $W$ basis, Balvis measures second particle in $Z$ basis."
   ]
  },
  {
   "cell_type": "markdown",
   "metadata": {},
   "source": [
    "Our prediction is that ≤ 150 times users should get same outcome after performing 300 rounds."
   ]
  },
  {
   "cell_type": "code",
   "execution_count": 1,
   "metadata": {},
   "outputs": [],
   "source": [
    "# import all necessary objects and methods for quantum circuits\n",
    "from qiskit import QuantumRegister, ClassicalRegister, QuantumCircuit, execute, Aer\n",
    "from random import randrange\n",
    "\n",
    "def print_outcomes_in_reserve(counts): # takes a dictionary variable\n",
    "    for outcome in counts: # for each key-value in dictionary\n",
    "        reverse_outcome = ''\n",
    "        for i in outcome: # each string can be considered as a list of characters\n",
    "            reverse_outcome = i + reverse_outcome # each new symbol comes before the old symbol(s)\n",
    "    return reverse_outcome"
   ]
  },
  {
   "cell_type": "code",
   "execution_count": 2,
   "metadata": {},
   "outputs": [],
   "source": [
    "#\n",
    "# your code is here\n",
    "#"
   ]
  },
  {
   "cell_type": "code",
   "execution_count": 3,
   "metadata": {},
   "outputs": [],
   "source": [
    "#Solution\n",
    "#choosing Z and X bases\n",
    "same=0\n",
    "for i in range(100):\n",
    "    qreg = QuantumRegister(2) \n",
    "    creg = ClassicalRegister(2) \n",
    "    mycircuit = QuantumCircuit(qreg, creg)\n",
    "    \n",
    "    #Creating entanglement\n",
    "    mycircuit.h(qreg[0])\n",
    "    mycircuit.cx(qreg[0], qreg[1])\n",
    "    \n",
    "    #asja measure 1st qubit qreg[0] in Z basis, thus do nothing\n",
    "    \n",
    "    #balvis measure 2nd qubit qreg[1] in X basis, thus applies H gate first\n",
    "    mycircuit.h(qreg[1])\n",
    "    \n",
    "    mycircuit.measure(qreg,creg)\n",
    "\n",
    "    job = execute(mycircuit,Aer.get_backend('qasm_simulator'),shots=1) #Note that Balvis only has one shot to measure qubits\n",
    "    counts = job.result().get_counts(mycircuit) # counts is a dictionary object in python\n",
    "    received = print_outcomes_in_reserve(counts)\n",
    "\n",
    "    if received == '00' or received == '11':\n",
    "        same=same+1\n",
    "        \n",
    "#print(same)"
   ]
  },
  {
   "cell_type": "code",
   "execution_count": 4,
   "metadata": {},
   "outputs": [],
   "source": [
    "#choosing X and W bases\n",
    "for i in range(100):\n",
    "    qreg = QuantumRegister(2) \n",
    "    creg = ClassicalRegister(2) \n",
    "    mycircuit = QuantumCircuit(qreg, creg)\n",
    "    \n",
    "    #Creating entanglement\n",
    "    mycircuit.h(qreg[0])\n",
    "    mycircuit.cx(qreg[0], qreg[1])\n",
    "    \n",
    "    #asja measure 1st qubit qreg[0] in Z basis, thus applies H gate first\n",
    "    mycircuit.h(qreg[0])\n",
    "    \n",
    "    #balvis measure 2nd qubit qreg[1] in W basis, thus applies S-H-T-H gates first\n",
    "    mycircuit.s(qreg[1])\n",
    "    mycircuit.h(qreg[1])\n",
    "    mycircuit.t(qreg[1])\n",
    "    mycircuit.h(qreg[1])\n",
    "    \n",
    "    mycircuit.measure(qreg,creg)\n",
    "\n",
    "    job = execute(mycircuit,Aer.get_backend('qasm_simulator'),shots=1) #Note that Balvis only has one shot to measure qubits\n",
    "    counts = job.result().get_counts(mycircuit) # counts is a dictionary object in python\n",
    "    received = print_outcomes_in_reserve(counts)\n",
    "\n",
    "    if received == '00' or received == '11':\n",
    "        same=same+1\n",
    "        \n",
    "#print(same)"
   ]
  },
  {
   "cell_type": "code",
   "execution_count": 5,
   "metadata": {},
   "outputs": [],
   "source": [
    "#choosing W and Z bases\n",
    "for i in range(100):\n",
    "    qreg = QuantumRegister(2) \n",
    "    creg = ClassicalRegister(2) \n",
    "    mycircuit = QuantumCircuit(qreg, creg)\n",
    "    \n",
    "    #Creating entanglement\n",
    "    mycircuit.h(qreg[0])\n",
    "    mycircuit.cx(qreg[0], qreg[1])\n",
    "    \n",
    "    #asja measure 1st qubit qreg[0] in W basis, thus applies S-H-T-H gates first\n",
    "    mycircuit.s(qreg[0])\n",
    "    mycircuit.h(qreg[0])\n",
    "    mycircuit.t(qreg[0])\n",
    "    mycircuit.h(qreg[0])\n",
    "    \n",
    "    #balvis measure 2nd qubit qreg[1] in Z basis, thus do nothing\n",
    "    \n",
    "    mycircuit.measure(qreg,creg)\n",
    "\n",
    "    job = execute(mycircuit,Aer.get_backend('qasm_simulator'),shots=1) #Note that Balvis only has one shot to measure qubits\n",
    "    counts = job.result().get_counts(mycircuit) # counts is a dictionary object in python\n",
    "    received = print_outcomes_in_reserve(counts)\n",
    "\n",
    "    if received == '00' or received == '11':\n",
    "        same=same+1\n",
    "        \n",
    "#print(same)"
   ]
  },
  {
   "cell_type": "code",
   "execution_count": 6,
   "metadata": {},
   "outputs": [
    {
     "name": "stdout",
     "output_type": "stream",
     "text": [
      "Users received same result in 219 out of 300 rounds\n"
     ]
    }
   ],
   "source": [
    "print('Users received same result in', same, 'out of 300 rounds')"
   ]
  },
  {
   "cell_type": "markdown",
   "metadata": {},
   "source": [
    "<h4>Results</h4>\n",
    "\n",
    "The result of our experiment does not support the prediction! \n",
    "\n",
    "While we expect proportion of same rounds to be $≤2$, in practice we get $>2$. \n",
    "\n",
    "And this is indeed correct!\n",
    "\n",
    "Bell test shows that there cannot be hidden variables, because if there were absolutely determined variables that says whether or not the photon will go through specific gate you would expect that about every second ($≤2$) occasion users will be able to get same result. \n",
    "\n",
    "Whereas experimentally you get $>2$ occassions to be the same."
   ]
  },
  {
   "cell_type": "markdown",
   "metadata": {},
   "source": [
    "<b>Bell's theorem</b> states that \"no physical theory of local hidden variables can ever reproduce all of the predictions of quantum mechanics.\" \n",
    "\n",
    "The goal of theory of EPR was to show that quantum mechanics is incomplete, by demonstrating that quantum mechanics lacked some essential ‘element of reality’, by their criterion. \n",
    "\n",
    "Bell test showed that Nature experimentally invalidates that point of view, while agreeing with quantum mechanics!"
   ]
  },
  {
   "cell_type": "markdown",
   "metadata": {},
   "source": [
    "<b>In next notebook we will put some math in the picture!"
   ]
  },
  {
   "cell_type": "markdown",
   "metadata": {},
   "source": [
    "<i>Reference: The idea of Bell test explanation in this notebook is taken from DrPhysicsA education channel."
   ]
  }
 ],
 "metadata": {
  "kernelspec": {
   "display_name": "Python 3",
   "language": "python",
   "name": "python3"
  },
  "language_info": {
   "codemirror_mode": {
    "name": "ipython",
    "version": 3
   },
   "file_extension": ".py",
   "mimetype": "text/x-python",
   "name": "python",
   "nbconvert_exporter": "python",
   "pygments_lexer": "ipython3",
   "version": "3.7.3"
  }
 },
 "nbformat": 4,
 "nbformat_minor": 2
}
