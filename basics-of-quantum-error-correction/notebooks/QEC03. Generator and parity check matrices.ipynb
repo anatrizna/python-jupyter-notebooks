{
 "cells": [
  {
   "cell_type": "markdown",
   "metadata": {},
   "source": [
    "<table>\n",
    "    <tr>\n",
    "        <td  style=\"background-color:#ffffff;\" width=\"18%\"><img src=\"..\\images\\qworld.jpg\"  align=\"left\"></td>\n",
    "        <td style=\"background-color:#ffffff;\" width=\"*\"></td>\n",
    "        <td  style=\"background-color:#ffffff;vertical-align:text-top;\" width=\"21%\"><img src=\"..\\images\\qpoland.jpg\" align=\"right\"></td>  \n",
    "        <td  style=\"background-color:#ffffff;vertical-align:text-top;\" width=\"19%\" ><img src=\"..\\images\\qlatvia.jpg\" align=\"right\"></td>  \n",
    "    </tr>\n",
    "    <tr><td colspan=\"4\" align=\"right\" style=\"color:#777777;background-color:#ffffff;font-size:12px;\">\n",
    "        prepared by Anastasija Trizna and Oskar Słowik\n",
    "    </td></tr>\n",
    "    <tr><td colspan=\"4\" align=\"right\" style=\"color:#bbbbbb;background-color:#ffffff;font-size:11px;font-style:italic;\">\n",
    "        This cell contains some macros. If there is a problem with displaying mathematical formulas, please run this cell to load these macros.\n",
    "    </td></tr>\n",
    "</table>\n",
    "$ \\newcommand{\\bra}[1]{\\langle #1|} $\n",
    "$ \\newcommand{\\ket}[1]{|#1\\rangle} $\n",
    "$ \\newcommand{\\braket}[2]{\\langle #1|#2\\rangle} $\n",
    "$ \\newcommand{\\dot}[2]{ #1 \\cdot #2} $\n",
    "$ \\newcommand{\\biginner}[2]{\\left\\langle #1,#2\\right\\rangle} $\n",
    "$ \\newcommand{\\mymatrix}[2]{\\left( \\begin{array}{#1} #2\\end{array} \\right)} $\n",
    "$ \\newcommand{\\myvector}[1]{\\mymatrix{c}{#1}} $\n",
    "$ \\newcommand{\\myrvector}[1]{\\mymatrix{r}{#1}} $\n",
    "$ \\newcommand{\\mypar}[1]{\\left( #1 \\right)} $\n",
    "$ \\newcommand{\\mybigpar}[1]{ \\Big( #1 \\Big)} $\n",
    "$ \\newcommand{\\sqrttwo}{\\frac{1}{\\sqrt{2}}} $\n",
    "$ \\newcommand{\\dsqrttwo}{\\dfrac{1}{\\sqrt{2}}} $\n",
    "$ \\newcommand{\\onehalf}{\\frac{1}{2}} $\n",
    "$ \\newcommand{\\donehalf}{\\dfrac{1}{2}} $\n",
    "$ \\newcommand{\\hadamard}{ \\mymatrix{rr}{ \\sqrttwo & \\sqrttwo \\\\ \\sqrttwo & -\\sqrttwo }} $\n",
    "$ \\newcommand{\\vzero}{\\myvector{1\\\\0}} $\n",
    "$ \\newcommand{\\vone}{\\myvector{0\\\\1}} $\n",
    "$ \\newcommand{\\vhadamardzero}{\\myvector{ \\sqrttwo \\\\  \\sqrttwo } } $\n",
    "$ \\newcommand{\\vhadamardone}{ \\myrvector{ \\sqrttwo \\\\ -\\sqrttwo } } $\n",
    "$ \\newcommand{\\myarray}[2]{ \\begin{array}{#1}#2\\end{array}} $\n",
    "$ \\newcommand{\\X}{ \\mymatrix{cc}{0 & 1 \\\\ 1 & 0}  } $\n",
    "$ \\newcommand{\\Z}{ \\mymatrix{rr}{1 & 0 \\\\ 0 & -1}  } $\n",
    "$ \\newcommand{\\Htwo}{ \\mymatrix{rrrr}{ \\frac{1}{2} & \\frac{1}{2} & \\frac{1}{2} & \\frac{1}{2} \\\\ \\frac{1}{2} & -\\frac{1}{2} & \\frac{1}{2} & -\\frac{1}{2} \\\\ \\frac{1}{2} & \\frac{1}{2} & -\\frac{1}{2} & -\\frac{1}{2} \\\\ \\frac{1}{2} & -\\frac{1}{2} & -\\frac{1}{2} & \\frac{1}{2} } } $\n",
    "$ \\newcommand{\\CNOT}{ \\mymatrix{cccc}{1 & 0 & 0 & 0 \\\\ 0 & 1 & 0 & 0 \\\\ 0 & 0 & 0 & 1 \\\\ 0 & 0 & 1 & 0} } $\n",
    "$ \\newcommand{\\norm}[1]{ \\left\\lVert #1 \\right\\rVert } $"
   ]
  },
  {
   "cell_type": "markdown",
   "metadata": {},
   "source": [
    "Classical coding theory tends to concentrate on <i>linear codes</i>, a subclass of all possible codes with a particular relation between codewords."
   ]
  },
  {
   "cell_type": "markdown",
   "metadata": {},
   "source": [
    "While working with linear codes, there are two matrices that are primary used to describing linear codes in mathematical notation. \n",
    "\n",
    "<h3>Generator matrix</h3>\n",
    "\n",
    "The <b>generator matrix </b> ($G$), is a $k×n$ matrix.\n",
    "<li>$k$ row vectors with dimension $n$; \n",
    "<li>$k$ - number of encoded bits for codeword; $n$ - number of bits for codeword).\n",
    "\n",
    "$G$ generates the codewords $c$ of a linear code by taking binary string $m$ as an input:\n",
    "<center>$c=mG$</center>"
   ]
  },
  {
   "cell_type": "markdown",
   "metadata": {},
   "source": [
    "The form for a generator matrix is:\n",
    "<center>$G=[I$<sub>k</sub>$|P]$</center>\n",
    "\n",
    "Where $I$<sub>k</sub> is $k×k$ identity matrix.\\\n",
    "And $P$ is $k×(n-k)$ which is not an identity, this is the part that allows to correct errors. "
   ]
  },
  {
   "cell_type": "markdown",
   "metadata": {},
   "source": [
    "<h3>Parity check matrix</h3>"
   ]
  },
  {
   "cell_type": "markdown",
   "metadata": {},
   "source": [
    "$H$ is <b>parity check</b> matrix with size  $(n-k)×n$.\\\n",
    "It can be used to test if a given bit string is a valid codeword, since $Hc = 0$ iff $c$ is a codeword.\n",
    "\n",
    "Since any codeword $c$ has the form $mG$, $Hc = HGm = m0 = 0$, and $H$ <b>annihilates</b> any codeword."
   ]
  },
  {
   "cell_type": "markdown",
   "metadata": {},
   "source": [
    "A generator matrix can be used to construct the parity check matrix for a code and vice versa:\n",
    "<center>$H=[-P$<sup>T</sup>$|I$<sub>(n-k)</sub>$]$</center>\n",
    "\n",
    "Where $-P$<sup>T</sup> is minus tranpose of matrix $P$. While working with classical codes, we can ignore minus sign.\n",
    "\n",
    "The transpose of a matrix is obtained by interchanging rows and columns.\\\n",
    "For example, the second row becomes the new second column, and third column becomes the new third row."
   ]
  },
  {
   "cell_type": "markdown",
   "metadata": {},
   "source": [
    "In parity check matrix each column <b>must be unique</b>."
   ]
  },
  {
   "cell_type": "markdown",
   "metadata": {},
   "source": [
    "<h3>Task 1: (7,4) Hamming code</h3>\n",
    "\n",
    "(7,4) Hamming code generator matrix is:\n",
    "$$\n",
    "G=\\mymatrix{rrrr}{1 & 0 & 0 & 0 & 1 & 1 & 0 \\\\ 0 & 1 & 0 & 0 & 0 & 1 & 1 \\\\ 0 & 0 & 1 & 0 & 1 & 0 & 1 \\\\ 0 & 0 & 0 & 1 & 1 & 1 & 1}.\n",
    "$$\n",
    "\n",
    "<b>Create parity check matrix $H$."
   ]
  },
  {
   "cell_type": "code",
   "execution_count": 1,
   "metadata": {},
   "outputs": [],
   "source": [
    "#\n",
    "# your code is here\n",
    "#"
   ]
  },
  {
   "cell_type": "code",
   "execution_count": 2,
   "metadata": {},
   "outputs": [
    {
     "name": "stdout",
     "output_type": "stream",
     "text": [
      "[1. 0. 1. 1. 1. 0. 0.]\n",
      "[1. 1. 0. 1. 0. 1. 0.]\n",
      "[0. 1. 1. 1. 0. 0. 1.]\n"
     ]
    }
   ],
   "source": [
    "#Solution\n",
    "\n",
    "import numpy as np\n",
    "\n",
    "#P part of generator matrix\n",
    "P = [\n",
    "    [1, 1, 0],\n",
    "    [0, 1, 1],\n",
    "    [1, 0, 1],\n",
    "    [1, 1, 1]\n",
    "]\n",
    "\n",
    "n=7 #number of bits in codeword\n",
    "k=4 #number of data bits\n",
    "\n",
    "#our H matrix will have size mxn, where m=n-k\n",
    "m=n-k\n",
    "\n",
    "# Creating left part of parity check matrix (PT)\n",
    "# First create the PT as a zero matrix with mxk dimensions\n",
    "PT=[]\n",
    "for i in range(m):\n",
    "    PT.append([])\n",
    "    for j in range(k):\n",
    "        PT[i].append(0)\n",
    "        \n",
    "# filling parity check matrix with PT\n",
    "for i in range(k):\n",
    "    for j in range(m):\n",
    "        PT[j][i]=P[i][j] \n",
    "\n",
    "        \n",
    "# Creating right side of parity check matrix which is identity matrix with size mxm\n",
    "I = np.identity(m) #numpy function to create identity matrix\n",
    "\n",
    "# Contatinating two matrices to get H\n",
    "H=np.concatenate((PT,I),axis=1) # to concatinate column-wise you need to specify axis=1\n",
    "\n",
    "# Print out result\n",
    "for i in range(len(H)):\n",
    "    print(H[i])"
   ]
  },
  {
   "cell_type": "markdown",
   "metadata": {},
   "source": [
    "<b>Use generator $G$ to produce code word $c$ for message $m=0011$.</b>\n",
    "    \n",
    "Note that you need to keep your result <i>binary</i>. To do so, apply <b>mod2</b> operator if you see any other numbers than $0$ or $1$ in your matrices."
   ]
  },
  {
   "cell_type": "code",
   "execution_count": 3,
   "metadata": {},
   "outputs": [],
   "source": [
    "#\n",
    "# your code is here\n",
    "#"
   ]
  },
  {
   "cell_type": "code",
   "execution_count": 5,
   "metadata": {},
   "outputs": [
    {
     "name": "stdout",
     "output_type": "stream",
     "text": [
      "Message [0, 0, 1, 1]\n",
      "Codeword [0 0 1 1 0 1 0]\n"
     ]
    }
   ],
   "source": [
    "#Solution\n",
    "\n",
    "G = [\n",
    "    [1, 0, 0, 0, 1, 1, 0],\n",
    "    [0, 1, 0, 0, 0, 1, 1],\n",
    "    [0, 0, 1, 0, 1, 0, 1],\n",
    "    [0, 0, 0, 1, 1, 1, 1]\n",
    "]\n",
    "\n",
    "#M as a vector\n",
    "m=[0, 0, 1, 1]\n",
    "\n",
    "c=np.matmul(m, G)\n",
    "\n",
    "#applying mod2 operator\n",
    "cBin=np.mod(c, 2)\n",
    "\n",
    "print(\"Message\", m)\n",
    "print(\"Codeword\", cBin)"
   ]
  },
  {
   "cell_type": "markdown",
   "metadata": {},
   "source": [
    "<b>Verify if your created codeword $w$ is a valid by applying transpose of parity check matrix.</b>\n",
    "    \n",
    "If your code word is valid, it should annihilate with parity check matrix:\n",
    "<center>$w$$H$<sup>T</sup>=0"
   ]
  },
  {
   "cell_type": "code",
   "execution_count": 5,
   "metadata": {},
   "outputs": [],
   "source": [
    "#\n",
    "# your code is here\n",
    "#"
   ]
  },
  {
   "cell_type": "code",
   "execution_count": 9,
   "metadata": {},
   "outputs": [
    {
     "name": "stdout",
     "output_type": "stream",
     "text": [
      "Check bits for codeword [0 0 1 1 0 1 0] is [0. 0. 0.]\n"
     ]
    }
   ],
   "source": [
    "#Solution\n",
    "# First create thanspose of parity check matrix\n",
    "HT=[]\n",
    "for i in range(7):\n",
    "    HT.append([])\n",
    "    for j in range(3):\n",
    "        HT[i].append(0)\n",
    "\n",
    "for i in range(3):\n",
    "    for j in range(7):\n",
    "        HT[j][i]=H[i][j] \n",
    "\n",
    "#Multiplying codeword with a parity matrix\n",
    "check=np.matmul(c,HT)\n",
    "\n",
    "#applying mod2 operator\n",
    "checkBin=np.mod(check, 2)\n",
    "\n",
    "print(\"Check bits for codeword\", cBin, \"is\", checkBin)"
   ]
  },
  {
   "cell_type": "markdown",
   "metadata": {},
   "source": [
    "<b>Is binary string $0011011$ a valid codeword?"
   ]
  },
  {
   "cell_type": "code",
   "execution_count": 7,
   "metadata": {},
   "outputs": [],
   "source": [
    "#\n",
    "# your code is here\n",
    "#"
   ]
  },
  {
   "cell_type": "code",
   "execution_count": 10,
   "metadata": {},
   "outputs": [
    {
     "name": "stdout",
     "output_type": "stream",
     "text": [
      "Check bits for codeword [0, 0, 1, 1, 0, 1, 1] is [0. 0. 1.]\n"
     ]
    }
   ],
   "source": [
    "binary=[0, 0, 1, 1, 0, 1, 1]\n",
    "\n",
    "check=np.matmul(binary,HT)\n",
    "checkBin=np.mod(check, 2)\n",
    "\n",
    "print(\"Check bits for codeword\", binary, \"is\", checkBin)"
   ]
  },
  {
   "cell_type": "markdown",
   "metadata": {},
   "source": [
    "<h3>Error syndrome</h3>\n",
    "\n",
    "\n",
    "\n"
   ]
  },
  {
   "cell_type": "markdown",
   "metadata": {},
   "source": [
    "The result you get after verifying if the codeword is valid by calculating $c$$H$<sup>T</sup> (or $c$<sup>T</sup>$H$, it works both ways) is called <b>error syndrome</b> ($s$) for $c$.\n",
    "\n",
    "<b>$c$ is a codeword of a linear code iff $s=0$."
   ]
  },
  {
   "cell_type": "markdown",
   "metadata": {},
   "source": [
    "If $s≠0$, we can conclude that there is an error in codeword $c$ and say exactly which bit contains an error by <b>decoding</b> the syndrome.\n",
    "\n",
    "Syndrome decoding is a highly effective method used while working with noisy channels, allowed by the linearity of the code. "
   ]
  },
  {
   "cell_type": "markdown",
   "metadata": {},
   "source": [
    "For syndrome decoding, we will need $s$ calculated as $s=cH$<sup>T</sup> and out parity matrix $H$."
   ]
  },
  {
   "cell_type": "code",
   "execution_count": 21,
   "metadata": {},
   "outputs": [
    {
     "name": "stdout",
     "output_type": "stream",
     "text": [
      "Message with error, m: [0, 0, 1, 1, 0, 1, 1]\n",
      "Error syndrome, s:\n",
      "0.0\n",
      "0.0\n",
      "1.0\n",
      "Parity check matrix, H:\n",
      "[1. 0. 1. 1. 1. 0. 0.]\n",
      "[1. 1. 0. 1. 0. 1. 0.]\n",
      "[0. 1. 1. 1. 0. 0. 1.]\n"
     ]
    }
   ],
   "source": [
    "print(\"Message with error, m:\", binary)\n",
    "\n",
    "print(\"Error syndrome, s:\")\n",
    "for i in range(len(checkBin)):\n",
    "    print(checkBin[i])\n",
    "    \n",
    "print(\"Parity check matrix, H:\")\n",
    "for i in range(len(H)):\n",
    "    print(H[i])"
   ]
  },
  {
   "cell_type": "markdown",
   "metadata": {},
   "source": [
    "By looking and $s$ and comparing it with $H$, we can conclude that error occured in last bit.\n",
    "\n",
    "Followed by the property of parity check matrix, that each column of matrix $H$ is unique, for each location of an error we will get different error syndrome. "
   ]
  },
  {
   "cell_type": "markdown",
   "metadata": {},
   "source": [
    "<h3>Task 2: (8,4) Hamming code [optional] </h3>\n",
    "\n",
    "(8,4) Hamming code is an extended version of (7,4) Hamming code.\n",
    "The addition of an overall parity bit it allows to detect (but not correct) double-bit errors.\n",
    "\n",
    "<b>What is [n, k, d] for (8,4) Hamming code?</b>"
   ]
  },
  {
   "cell_type": "markdown",
   "metadata": {},
   "source": [
    "Sometimes, when creating generator and parity check matrices, it is easier to make a parity check matrix first.\\\n",
    "Parity check matrix has a size $[(n-k)×n]$ and structure $[P$<sup>T</sup>$|I$<sub>(n-k)</sub>$]$.\n",
    "\n",
    "<b>Create parity check matrix for (8,4) Hamming code.</b>\n",
    "<li>First, create $I$, identity matrix with size $[(n-k)×(n-k)]$.\n",
    "<li>Then, create empty matrix $P$<sup>T</sup>, where size is $[n-(n-k)×(n-k)]$.\n",
    "<li>Fill $P$<sup>T</sup> such that each column is unique. Each column should contain more than two binary $1$ entries.\n",
    "<li>Concatinate $P$<sup>T</sup> and $I$ matrices."
   ]
  },
  {
   "cell_type": "code",
   "execution_count": 22,
   "metadata": {},
   "outputs": [],
   "source": [
    "#\n",
    "# your code is here\n",
    "#"
   ]
  },
  {
   "cell_type": "code",
   "execution_count": 48,
   "metadata": {},
   "outputs": [
    {
     "name": "stdout",
     "output_type": "stream",
     "text": [
      "[1. 1. 1. 1. 1. 0. 0. 0.]\n",
      "[1. 1. 1. 0. 0. 1. 0. 0.]\n",
      "[1. 1. 0. 1. 0. 0. 1. 0.]\n",
      "[1. 0. 1. 1. 0. 0. 0. 1.]\n"
     ]
    }
   ],
   "source": [
    "#Solution\n",
    "\n",
    "#Creating I\n",
    "n=8\n",
    "k=4\n",
    "m=n-k\n",
    "# Creating right side of parity check matrix which is identity matrix with size mxm\n",
    "I = np.identity(m) #numpy function to create identity matrix\n",
    "\n",
    "#Creating PT with size lxm\n",
    "l=n-m\n",
    "PT=[]\n",
    "for i in range(l):\n",
    "    PT.append([])\n",
    "    for j in range(m):\n",
    "        PT[i].append(0)\n",
    "\n",
    "#1st PT column\n",
    "PT[0][0]=1\n",
    "PT[1][0]=1\n",
    "PT[2][0]=1\n",
    "PT[3][0]=1\n",
    "\n",
    "#2nd PT column\n",
    "PT[0][1]=1\n",
    "PT[1][1]=1\n",
    "PT[2][1]=1\n",
    "PT[3][1]=0\n",
    "\n",
    "#3rd PT column\n",
    "PT[0][2]=1\n",
    "PT[1][2]=1\n",
    "PT[2][2]=0\n",
    "PT[3][2]=1\n",
    "\n",
    "#4th PT column\n",
    "PT[0][3]=1\n",
    "PT[1][3]=0\n",
    "PT[2][3]=1\n",
    "PT[3][3]=1\n",
    "\n",
    "#Creating H by concatinating PT and I matrices\n",
    "\n",
    "H=np.concatenate((PT,I),axis=1) # to concatinate column-wise you need to specify axis=1\n",
    "\n",
    "# Print out result\n",
    "for i in range(len(H)):\n",
    "    print(H[i])"
   ]
  },
  {
   "cell_type": "markdown",
   "metadata": {},
   "source": [
    "<b>Create generator matrix for (8,4) Hamming code.</b>\\\n",
    "Generator matrix has a size $[k×n]$ and stricture $[I$<sub>k</sub>$|P]$.\n",
    "<li>We already have $P$<sup>T</sup>, so to get $P$ you need to apply transpose to $(P$<sup>T</sup>$)$<sup>T</sup>.\n",
    "<li>Then, create $I$ with size $[k×k]$\n",
    "<li>Concatinate $P$ and $I$"
   ]
  },
  {
   "cell_type": "code",
   "execution_count": 49,
   "metadata": {},
   "outputs": [],
   "source": [
    "#\n",
    "# your code is here\n",
    "#"
   ]
  },
  {
   "cell_type": "code",
   "execution_count": 50,
   "metadata": {},
   "outputs": [],
   "source": [
    "#Solution\n",
    "#Applying transpose to PT\n",
    "\n",
    "# Creating left part of parity check matrix (PT)\n",
    "# First create the PT as a zero matrix with mxk dimensions\n",
    "P=[]\n",
    "for i in range(m):\n",
    "    P.append([])\n",
    "    for j in range(l):\n",
    "        P[i].append(0)\n",
    "        \n",
    "# filling parity check matrix with PT\n",
    "for i in range(l):\n",
    "    for j in range(m):\n",
    "        P[j][i]=PT[i][j] \n",
    "        \n",
    "#Creating identity matrix\n",
    "Ig = np.identity(k) #numpy function to create identity matrix\n",
    "\n",
    "#Concatinating matrices\n",
    "G=np.concatenate((P,Ig),axis=1) "
   ]
  },
  {
   "cell_type": "markdown",
   "metadata": {},
   "source": [
    "<b>What is a codeword for $0101$ message?</b>"
   ]
  },
  {
   "cell_type": "code",
   "execution_count": 55,
   "metadata": {},
   "outputs": [],
   "source": [
    "#\n",
    "# your code is here\n",
    "#"
   ]
  },
  {
   "cell_type": "code",
   "execution_count": 57,
   "metadata": {},
   "outputs": [
    {
     "name": "stdout",
     "output_type": "stream",
     "text": [
      "Message [0, 1, 0, 1]\n",
      "Codeword [0. 1. 0. 1. 0. 1. 0. 1.]\n"
     ]
    }
   ],
   "source": [
    "#Solution\n",
    "m1=[0, 1, 0, 1]\n",
    "\n",
    "c1=np.matmul(m1, G)\n",
    "c1Bin=np.mod(c1, 2)\n",
    "\n",
    "print(\"Message\", m1)\n",
    "print(\"Codeword\", c1Bin)"
   ]
  },
  {
   "cell_type": "markdown",
   "metadata": {},
   "source": [
    "<b>What is a codeword for $1111$ message?</b>"
   ]
  },
  {
   "cell_type": "code",
   "execution_count": 53,
   "metadata": {},
   "outputs": [],
   "source": [
    "#\n",
    "# your code is here\n",
    "#"
   ]
  },
  {
   "cell_type": "code",
   "execution_count": 54,
   "metadata": {},
   "outputs": [
    {
     "name": "stdout",
     "output_type": "stream",
     "text": [
      "Message [1, 1, 1, 1]\n",
      "Codeword [0. 1. 1. 1. 1. 1. 1. 1.]\n"
     ]
    }
   ],
   "source": [
    "#Solution\n",
    "m2=[1, 1, 1, 1]\n",
    "\n",
    "c2=np.matmul(m2, G)\n",
    "\n",
    "c2Bin=np.mod(c2, 2)\n",
    "\n",
    "print(\"Message\", m2)\n",
    "print(\"Codeword\", c2Bin)"
   ]
  },
  {
   "cell_type": "markdown",
   "metadata": {},
   "source": [
    "<b>One error.\\\n",
    "We flip bit #7. Is $01010111$ a valid codeword?"
   ]
  },
  {
   "cell_type": "code",
   "execution_count": 64,
   "metadata": {},
   "outputs": [],
   "source": [
    "#\n",
    "# your code is here\n",
    "#"
   ]
  },
  {
   "cell_type": "code",
   "execution_count": 60,
   "metadata": {},
   "outputs": [
    {
     "name": "stdout",
     "output_type": "stream",
     "text": [
      "Check bits for codeword [0, 1, 0, 1, 0, 1, 1, 1] is [0. 0. 1. 0.]\n"
     ]
    }
   ],
   "source": [
    "#Solution\n",
    "c3=[0, 1, 0, 1, 0, 1, 1, 1]\n",
    "\n",
    "# First create thanspose of parity check matrix\n",
    "HT=[]\n",
    "for i in range(8):\n",
    "    HT.append([])\n",
    "    for j in range(4):\n",
    "        HT[i].append(0)\n",
    "\n",
    "for i in range(4):\n",
    "    for j in range(8):\n",
    "        HT[j][i]=H[i][j] \n",
    "\n",
    "#Multiplying codeword with a parity matrix\n",
    "s3=np.matmul(c3,HT)\n",
    "\n",
    "#applying mod2 operator\n",
    "s3Bin=np.mod(check, 2)\n",
    "\n",
    "print(\"Syndrome for codeword\", c3, \"is\", s3Bin)"
   ]
  },
  {
   "cell_type": "markdown",
   "metadata": {},
   "source": [
    "<b>Two errors.\\\n",
    "We flip bits #5 and #7. Is $01011111$ a valid codeword?"
   ]
  },
  {
   "cell_type": "code",
   "execution_count": null,
   "metadata": {},
   "outputs": [],
   "source": [
    "#\n",
    "# your code is here\n",
    "#"
   ]
  },
  {
   "cell_type": "code",
   "execution_count": 63,
   "metadata": {},
   "outputs": [
    {
     "name": "stdout",
     "output_type": "stream",
     "text": [
      "Syndrome for codeword [0, 1, 0, 1, 1, 1, 1, 1] is [0. 0. 1. 0.]\n"
     ]
    }
   ],
   "source": [
    "#Solution\n",
    "c4=[0, 1, 0, 1, 1, 1, 1, 1]\n",
    "\n",
    "#Multiplying codeword with a parity matrix\n",
    "s4=np.matmul(c4,HT)\n",
    "\n",
    "#applying mod2 operator\n",
    "s4Bin=np.mod(check, 2)\n",
    "\n",
    "print(\"Syndrome for codeword\", c4, \"is\", s4Bin)"
   ]
  },
  {
   "cell_type": "markdown",
   "metadata": {},
   "source": [
    "<b>Why we get the same syndrome when we flip one bit and when we flip two bits?"
   ]
  },
  {
   "cell_type": "markdown",
   "metadata": {},
   "source": [
    "In (8,4) Hamming code encoded bit string is: $p1 p2 b1 p4 b2 b3 b4 p8$\\\n",
    "Where $p8=p$<sub>1</sub> ⊕ $p$<sub>2</sub> ⊕ $b$<sub>1</sub> ⊕ $p$<sub>4</sub> ⊕ $b$<sub>2</sub> ⊕ $b$<sub>3</sub> ⊕ $b$<sub>4</sub>\\\n",
    "If the parity bit indicates an error, single error correction will indicate the error location.\\\n",
    "If the parity bit is correct, then single error correction will indicate the XOR of two error locations.\\\n",
    "If the locations are equal (\"no error\") then a double bit error either has not occurred, or has cancelled itself out.\\\n",
    "Otherwise, a double bit error has occurred."
   ]
  }
 ],
 "metadata": {
  "kernelspec": {
   "display_name": "Python 3",
   "language": "python",
   "name": "python3"
  },
  "language_info": {
   "codemirror_mode": {
    "name": "ipython",
    "version": 3
   },
   "file_extension": ".py",
   "mimetype": "text/x-python",
   "name": "python",
   "nbconvert_exporter": "python",
   "pygments_lexer": "ipython3",
   "version": "3.7.3"
  }
 },
 "nbformat": 4,
 "nbformat_minor": 2
}
