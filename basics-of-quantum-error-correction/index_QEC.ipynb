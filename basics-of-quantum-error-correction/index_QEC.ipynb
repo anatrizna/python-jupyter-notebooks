{
 "cells": [
  {
   "cell_type": "markdown",
   "metadata": {},
   "source": [
    "<table>\n",
    "    <tr>\n",
    "        <td  style=\"background-color:#ffffff;\" width=\"18%\"><img src=\"images\\qworld.jpg\"  align=\"left\"></td>\n",
    "        <td style=\"background-color:#ffffff;\" width=\"*\"></td>\n",
    "        <td  style=\"background-color:#ffffff;vertical-align:text-top;\" width=\"21%\"><img src=\"images\\qpoland.jpg\" align=\"right\"></td>  \n",
    "        <td  style=\"background-color:#ffffff;vertical-align:text-top;\" width=\"19%\" ><img src=\"images\\qlatvia.jpg\" align=\"right\"></td>  \n",
    "    </tr>\n",
    "    <tr><td colspan=\"4\" align=\"right\" style=\"color:#777777;background-color:#ffffff;font-size:12px;\">\n",
    "        prepared by Anastasija Trizna and Oskar Słowik\n",
    "    </td></tr>\n",
    "    <tr><td colspan=\"4\" align=\"right\" style=\"color:#bbbbbb;background-color:#ffffff;font-size:11px;font-style:italic;\">\n",
    "        This cell contains some macros. If there is a problem with displaying mathematical formulas, please run this cell to load these macros.\n",
    "    </td></tr>\n",
    "</table>\n",
    "$ \\newcommand{\\bra}[1]{\\langle #1|} $\n",
    "$ \\newcommand{\\ket}[1]{|#1\\rangle} $\n",
    "$ \\newcommand{\\braket}[2]{\\langle #1|#2\\rangle} $\n",
    "$ \\newcommand{\\dot}[2]{ #1 \\cdot #2} $\n",
    "$ \\newcommand{\\biginner}[2]{\\left\\langle #1,#2\\right\\rangle} $\n",
    "$ \\newcommand{\\mymatrix}[2]{\\left( \\begin{array}{#1} #2\\end{array} \\right)} $\n",
    "$ \\newcommand{\\myvector}[1]{\\mymatrix{c}{#1}} $\n",
    "$ \\newcommand{\\myrvector}[1]{\\mymatrix{r}{#1}} $\n",
    "$ \\newcommand{\\mypar}[1]{\\left( #1 \\right)} $\n",
    "$ \\newcommand{\\mybigpar}[1]{ \\Big( #1 \\Big)} $\n",
    "$ \\newcommand{\\sqrttwo}{\\frac{1}{\\sqrt{2}}} $\n",
    "$ \\newcommand{\\dsqrttwo}{\\dfrac{1}{\\sqrt{2}}} $\n",
    "$ \\newcommand{\\onehalf}{\\frac{1}{2}} $\n",
    "$ \\newcommand{\\donehalf}{\\dfrac{1}{2}} $\n",
    "$ \\newcommand{\\hadamard}{ \\mymatrix{rr}{ \\sqrttwo & \\sqrttwo \\\\ \\sqrttwo & -\\sqrttwo }} $\n",
    "$ \\newcommand{\\vzero}{\\myvector{1\\\\0}} $\n",
    "$ \\newcommand{\\vone}{\\myvector{0\\\\1}} $\n",
    "$ \\newcommand{\\vhadamardzero}{\\myvector{ \\sqrttwo \\\\  \\sqrttwo } } $\n",
    "$ \\newcommand{\\vhadamardone}{ \\myrvector{ \\sqrttwo \\\\ -\\sqrttwo } } $\n",
    "$ \\newcommand{\\myarray}[2]{ \\begin{array}{#1}#2\\end{array}} $\n",
    "$ \\newcommand{\\X}{ \\mymatrix{cc}{0 & 1 \\\\ 1 & 0}  } $\n",
    "$ \\newcommand{\\Z}{ \\mymatrix{rr}{1 & 0 \\\\ 0 & -1}  } $\n",
    "$ \\newcommand{\\Htwo}{ \\mymatrix{rrrr}{ \\frac{1}{2} & \\frac{1}{2} & \\frac{1}{2} & \\frac{1}{2} \\\\ \\frac{1}{2} & -\\frac{1}{2} & \\frac{1}{2} & -\\frac{1}{2} \\\\ \\frac{1}{2} & \\frac{1}{2} & -\\frac{1}{2} & -\\frac{1}{2} \\\\ \\frac{1}{2} & -\\frac{1}{2} & -\\frac{1}{2} & \\frac{1}{2} } } $\n",
    "$ \\newcommand{\\CNOT}{ \\mymatrix{cccc}{1 & 0 & 0 & 0 \\\\ 0 & 1 & 0 & 0 \\\\ 0 & 0 & 0 & 1 \\\\ 0 & 0 & 1 & 0} } $\n",
    "$ \\newcommand{\\norm}[1]{ \\left\\lVert #1 \\right\\rVert } $"
   ]
  },
  {
   "cell_type": "markdown",
   "metadata": {},
   "source": [
    "This course covers the basics of <b>Quantum Error Correction</b>. \n",
    "\n",
    "Prior knowledge about basics of quantum computation or finished Bronze+ course required.\n",
    "\n",
    "The current version uses Python as the programming language and Qiskit library and QTop library in 'Topological quantum codes' section."
   ]
  },
  {
   "cell_type": "markdown",
   "metadata": {},
   "source": [
    "<b>Introduction</b>\n",
    "\n",
    "<ul>\n",
    "    <li><a href=\"notebooks/QEC00. Motivation.ipynb\" target=\"_blank\">Motivation</a></li>\n",
    "    <li><a href=\"notebooks/QEC01. Classical Error Correction.ipynb\" target=\"_blank\">Classical Error Correction</a></li>\n",
    "</ul>"
   ]
  },
  {
   "cell_type": "markdown",
   "metadata": {},
   "source": [
    "<b>Pauli errors</b>\n",
    "\n",
    "<ul>\n",
    "    <li><a href=\"notebooks/QEC02. Bit flip.ipynb\" target=\"_blank\">Bit flip (Pauli X)</a></li>\n",
    "    <li><a href=\"notebooks/QEC03. Phase flip.ipynb\" target=\"_blank\">Phase flip (Pauli Z)</a></li>\n",
    "    <li><a href=\"notebooks/QEC04. Bit and phase flip.ipynb\" target=\"_blank\">Bit and phase flip (Pauli Y)</a></li>\n",
    "</ul>"
   ]
  },
  {
   "cell_type": "markdown",
   "metadata": {},
   "source": [
    "<b>Fundamental concepts</b>\n",
    "\n",
    "<ul>\n",
    "    <li><a href=\"notebooks/QEC05. Logical qubits.ipynb\" target=\"_blank\">Logical qubits</a></li>\n",
    "    <li><a href=\"notebooks/QEC06. Syndrome extraction.ipynb\" target=\"_blank\">Syndrome extraction</a></li>\n",
    "    <li><a href=\"notebooks/QEC07. Quantum code distance.ipynb\" target=\"_blank\">Quantum code distance</a></li>\n",
    "</ul>"
   ]
  },
  {
   "cell_type": "markdown",
   "metadata": {},
   "source": [
    "<b>Quantum repetition code</b>\n",
    "\n",
    "<ul>\n",
    "    <li><a href=\"notebooks/QEC08. Three-qubit error correction code.ipynb\" target=\"_blank\">Three-qubit error correction code</a></li>\n",
    "    <li><a href=\"notebooks/QEC09. Shor's code.ipynb\" target=\"_blank\">Shor's code: 9-qubit code</a></li>\n",
    "</ul>"
   ]
  },
  {
   "cell_type": "markdown",
   "metadata": {},
   "source": [
    "<b>CSS codes</b>\n",
    "\n",
    "<ul>\n",
    "    <li><a href=\"notebooks/QEC10. Classical to quantum.ipynb\" target=\"_blank\">Classical to quantum</a></li>\n",
    "    <li><a href=\"notebooks/QEC11. Stean code.ipynb\" target=\"_blank\">Stean code: 7-qubit code</a></li>\n",
    "</ul>"
   ]
  },
  {
   "cell_type": "markdown",
   "metadata": {},
   "source": [
    "<b>Outside CSS codes</b>\n",
    "\n",
    "<ul>\n",
    "    <li><a href=\"notebooks/QEC12. Stabilizer codes.ipynb\" target=\"_blank\">Stabilizer codes</a></li>\n",
    "    <li><a href=\"notebooks/QEC13. 5-qubit code.ipynb\" target=\"_blank\">5-qubit code</a></li>\n",
    "</ul>"
   ]
  },
  {
   "cell_type": "markdown",
   "metadata": {},
   "source": [
    "<b>Topological codes*</b>\n",
    "<ul>\n",
    "    <li><a href=\"notebooks/QEC14. An introduction to topological codes and QTop.ipynb\" target=\"_blank\"> An introduction to topological codes and QTop</a></li>\n",
    "    <li><a href=\"notebooks/QEC15. Kitaev quantum double models.ipynb\" target=\"_blank\">Kitaev quantum double models</a></li>\n",
    "    <li><a href=\"notebooks/QEC16. Color codes.ipynb\" target=\"_blank\">Color codes</a></li>\n",
    "</ul>"
   ]
  },
  {
   "cell_type": "markdown",
   "metadata": {},
   "source": [
    "*-additional material"
   ]
  },
  {
   "cell_type": "code",
   "execution_count": null,
   "metadata": {},
   "outputs": [],
   "source": []
  }
 ],
 "metadata": {
  "kernelspec": {
   "display_name": "Python 3",
   "language": "python",
   "name": "python3"
  },
  "language_info": {
   "codemirror_mode": {
    "name": "ipython",
    "version": 3
   },
   "file_extension": ".py",
   "mimetype": "text/x-python",
   "name": "python",
   "nbconvert_exporter": "python",
   "pygments_lexer": "ipython3",
   "version": "3.7.3"
  }
 },
 "nbformat": 4,
 "nbformat_minor": 2
}
