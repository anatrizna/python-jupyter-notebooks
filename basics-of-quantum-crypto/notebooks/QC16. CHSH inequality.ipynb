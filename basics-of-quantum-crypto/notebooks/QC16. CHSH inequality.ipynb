{
 "cells": [
  {
   "cell_type": "markdown",
   "metadata": {},
   "source": [
    "<table>\n",
    "    <tr>\n",
    "        <td  style=\"background-color:#ffffff;\" width=\"18%\"><img src=\"..\\images\\qworld.jpg\"  align=\"left\"></td>\n",
    "        <td style=\"background-color:#ffffff;\" width=\"*\"></td>\n",
    "        <td  style=\"background-color:#ffffff;vertical-align:text-top;\" width=\"21%\"><img src=\"..\\images\\qpoland.jpg\" align=\"right\"></td>  \n",
    "        <td  style=\"background-color:#ffffff;vertical-align:text-top;\" width=\"19%\" ><img src=\"..\\images\\qlatvia.jpg\" align=\"right\"></td>  \n",
    "    </tr>\n",
    "    <tr><td colspan=\"4\" align=\"right\" style=\"color:#777777;background-color:#ffffff;font-size:12px;\">\n",
    "        prepared by Anastasija Trizna\n",
    "    </td></tr>\n",
    "    <tr><td colspan=\"4\" align=\"right\" style=\"color:#bbbbbb;background-color:#ffffff;font-size:11px;font-style:italic;\">\n",
    "        This cell contains some macros. If there is a problem with displaying mathematical formulas, please run this cell to load these macros.\n",
    "    </td></tr>\n",
    "</table>\n",
    "$ \\newcommand{\\bra}[1]{\\langle #1|} $\n",
    "$ \\newcommand{\\ket}[1]{|#1\\rangle} $\n",
    "$ \\newcommand{\\braket}[2]{\\langle #1|#2\\rangle} $\n",
    "$ \\newcommand{\\dot}[2]{ #1 \\cdot #2} $\n",
    "$ \\newcommand{\\biginner}[2]{\\left\\langle #1,#2\\right\\rangle} $\n",
    "$ \\newcommand{\\mymatrix}[2]{\\left( \\begin{array}{#1} #2\\end{array} \\right)} $\n",
    "$ \\newcommand{\\myvector}[1]{\\mymatrix{c}{#1}} $\n",
    "$ \\newcommand{\\myrvector}[1]{\\mymatrix{r}{#1}} $\n",
    "$ \\newcommand{\\mypar}[1]{\\left( #1 \\right)} $\n",
    "$ \\newcommand{\\mybigpar}[1]{ \\Big( #1 \\Big)} $\n",
    "$ \\newcommand{\\sqrttwo}{\\frac{1}{\\sqrt{2}}} $\n",
    "$ \\newcommand{\\dsqrttwo}{\\dfrac{1}{\\sqrt{2}}} $\n",
    "$ \\newcommand{\\onehalf}{\\frac{1}{2}} $\n",
    "$ \\newcommand{\\donehalf}{\\dfrac{1}{2}} $\n",
    "$ \\newcommand{\\hadamard}{ \\mymatrix{rr}{ \\sqrttwo & \\sqrttwo \\\\ \\sqrttwo & -\\sqrttwo }} $\n",
    "$ \\newcommand{\\vzero}{\\myvector{1\\\\0}} $\n",
    "$ \\newcommand{\\vone}{\\myvector{0\\\\1}} $\n",
    "$ \\newcommand{\\vhadamardzero}{\\myvector{ \\sqrttwo \\\\  \\sqrttwo } } $\n",
    "$ \\newcommand{\\vhadamardone}{ \\myrvector{ \\sqrttwo \\\\ -\\sqrttwo } } $\n",
    "$ \\newcommand{\\myarray}[2]{ \\begin{array}{#1}#2\\end{array}} $\n",
    "$ \\newcommand{\\X}{ \\mymatrix{cc}{0 & 1 \\\\ 1 & 0}  } $\n",
    "$ \\newcommand{\\Z}{ \\mymatrix{rr}{1 & 0 \\\\ 0 & -1}  } $\n",
    "$ \\newcommand{\\Htwo}{ \\mymatrix{rrrr}{ \\frac{1}{2} & \\frac{1}{2} & \\frac{1}{2} & \\frac{1}{2} \\\\ \\frac{1}{2} & -\\frac{1}{2} & \\frac{1}{2} & -\\frac{1}{2} \\\\ \\frac{1}{2} & \\frac{1}{2} & -\\frac{1}{2} & -\\frac{1}{2} \\\\ \\frac{1}{2} & -\\frac{1}{2} & -\\frac{1}{2} & \\frac{1}{2} } } $\n",
    "$ \\newcommand{\\CNOT}{ \\mymatrix{cccc}{1 & 0 & 0 & 0 \\\\ 0 & 1 & 0 & 0 \\\\ 0 & 0 & 0 & 1 \\\\ 0 & 0 & 1 & 0} } $\n",
    "$ \\newcommand{\\norm}[1]{ \\left\\lVert #1 \\right\\rVert } $"
   ]
  },
  {
   "cell_type": "markdown",
   "metadata": {},
   "source": [
    "To describe CHSH inequality, we will consider a slightly modified experiment.\n",
    "\n",
    "Eva will create an EPR pair and send one qubit to Asja, second qubit to Balvis.\n",
    "\n",
    "Asja choose between two detectors and performs a measurement: \n",
    "<center>$Z$ or $X$</center>\n",
    "Balvis choose between two detectors and performs a measurement:\n",
    "<center>$W=\\frac{X+Z}{\\sqrt{2}}$ or $V=\\frac{-X+Z}{\\sqrt{2}}$</center>\n",
    "\n",
    "We suppose for simplicity that the measurements can each have one of two outcomes $+1$ or $−1$.\\\n",
    "The timing of the experiment is arranged so that Asja and Balvis do their measurements at the same time."
   ]
  },
  {
   "cell_type": "markdown",
   "metadata": {},
   "source": [
    "<h3>CHSH inequality</h3>\n",
    "\n",
    "John <b>C</b>lauser, Michael <b>H</b>orne, Abner <b>S</b>himony and Richard <b>H</b>olt derived CHSH inequality, that can be used in the proof of Bell's theorem:\n",
    "\n",
    "\n",
    "<center>$S=ZW+XW-XV+ZV$</center>"
   ]
  },
  {
   "cell_type": "markdown",
   "metadata": {},
   "source": [
    "Applying simple algebra:\n",
    "\n",
    "<center>$ZW+XW+XV-ZV = (Z+X)W+(Z-X)V$"
   ]
  },
  {
   "cell_type": "markdown",
   "metadata": {},
   "source": [
    "Because measurement outcomes can be either $+1$ or $-1$, then $(Z+X)W=0$ and $(Z-X)V=±2$ or $(Z-X)V=0$ and $(Z+X)W=±2$.\n",
    "\n",
    "We can conclude that:\n",
    "$S=±2$\n",
    "\n",
    "<h3>Task 1: Classical correlation</h3>\n",
    "\n",
    "Convince yourself that above statement is correct. "
   ]
  },
  {
   "cell_type": "markdown",
   "metadata": {},
   "source": [
    "<h3>Quantum correlation</h3>"
   ]
  },
  {
   "cell_type": "markdown",
   "metadata": {},
   "source": [
    "\n",
    "In quantum case, the initial state is:\n",
    "<center>$\\ket{Ψ}=\\frac{\\ket{00}+\\ket{11}}{\\sqrt{2}}$</center>\n",
    "\n",
    "Then, four expectation values for observables, written in the quantum mechanical ⟨S⟩ notation are:\n",
    "<center>$⟨Z\\otimes W⟩ = \\frac{1}{\\sqrt{2}}$\n",
    "<center>$⟨X\\otimes W⟩ = \\frac{1}{\\sqrt{2}}$\n",
    "<center>$⟨X\\otimes V⟩ = \\frac{1}{\\sqrt{2}}$\n",
    "<center>$⟨Z\\otimes V⟩ = -\\frac{1}{\\sqrt{2}}$"
   ]
  },
  {
   "cell_type": "markdown",
   "metadata": {},
   "source": [
    "Now, let's calculate CHSH quantum correlation value:\n",
    "\n",
    "<center>$S=\\frac{1}{\\sqrt{2}}+\\frac{1}{\\sqrt{2}}+\\frac{1}{\\sqrt{2}}-(-\\frac{1}{\\sqrt{2}}) = 2{\\sqrt{2}}$"
   ]
  },
  {
   "cell_type": "markdown",
   "metadata": {},
   "source": [
    "<center>$2≠2{\\sqrt{2}}$\n",
    "    \n",
    "The violation of CHSH inequality serve as an indicator of quantum entanglement!"
   ]
  },
  {
   "cell_type": "markdown",
   "metadata": {},
   "source": [
    "<h3>Task 2: Quantum correlation</h3>\n",
    "\n",
    "Run four experiments, each 100 times and collect statistics.\n",
    "\n",
    "<b>1st experiment</b> - $⟨Z\\otimes W⟩$:\\\n",
    "Start with EPR pair, where Asja will measure first qubit (qreg[0]) and Balvis will measure second qubit (qreg[1]).\\\n",
    "Asja measures in $Z$ basis, Balvis measures in $W$ basis.\\\n",
    "To rotate the measurement basis to the $W$ axis use sequence of gates: $S-H-T-H$.\n",
    "\n",
    "<b>2nd experiment</b> - $⟨X\\otimes W⟩$:\\\n",
    "Start with EPR pair, where Asja will measure first qubit (qreg[0]) and Balvis will measure second qubit (qreg[1]).\\\n",
    "Asja measures in $X$ basis, Balvis measures in $W$ basis.\n",
    "\n",
    "<b>3rd experiment</b> - $⟨X\\otimes V⟩$:\\\n",
    "Start with EPR pair, where Asja will measure first qubit (qreg[0]) and Balvis will measure second qubit (qreg[1]).\\\n",
    "Asja measures in $X$ basis, Balvis measures in $V$ basis.\\\n",
    "And for $V$ axis use sequence of gates: $S-H-T\\dagger-H$.\n",
    "\n",
    "<b>4th experiment</b> - $⟨Z\\otimes V⟩$:\\\n",
    "Start with EPR pair, where Asja will measure first qubit (qreg[0]) and Balvis will measure second qubit (qreg[1]).\\\n",
    "Asja measures in $Z$ basis, Balvis measures in $V$ basis."
   ]
  },
  {
   "cell_type": "code",
   "execution_count": null,
   "metadata": {},
   "outputs": [],
   "source": [
    "# import all necessary objects and methods for quantum circuits\n",
    "from qiskit import QuantumRegister, ClassicalRegister, QuantumCircuit, execute, Aer\n",
    "from random import randrange\n",
    "\n",
    "#\n",
    "# your code is here\n",
    "#"
   ]
  },
  {
   "cell_type": "code",
   "execution_count": 22,
   "metadata": {},
   "outputs": [
    {
     "name": "stdout",
     "output_type": "stream",
     "text": [
      "{'00': 43, '10': 11, '11': 41, '01': 5}\n"
     ]
    }
   ],
   "source": [
    "#Solution\n",
    "#1st experiment - ZW\n",
    "qreg = QuantumRegister(2)\n",
    "creg = ClassicalRegister(2) \n",
    "mycircuit = QuantumCircuit(qreg, creg)\n",
    "\n",
    "#Creating entanglement\n",
    "mycircuit.h(qreg[0])\n",
    "mycircuit.cx(qreg[0], qreg[1])\n",
    "\n",
    "#Asja measure 1st qubit qreg[0] in Z basis, thus do nothing\n",
    "\n",
    "#Balvis measure 2nd qubit qreg[1] in W basis, thus applies S-H-T-H gates first\n",
    "mycircuit.s(qreg[1])\n",
    "mycircuit.h(qreg[1])\n",
    "mycircuit.t(qreg[1])\n",
    "mycircuit.h(qreg[1])\n",
    "\n",
    "mycircuit.measure(qreg,creg)\n",
    "\n",
    "job = execute(mycircuit,Aer.get_backend('qasm_simulator'),shots=100)\n",
    "countsZW = job.result().get_counts(mycircuit)\n",
    "print(countsZW) # counts is a dictionary"
   ]
  },
  {
   "cell_type": "code",
   "execution_count": 23,
   "metadata": {},
   "outputs": [
    {
     "name": "stdout",
     "output_type": "stream",
     "text": [
      "{'00': 39, '10': 6, '11': 41, '01': 14}\n"
     ]
    }
   ],
   "source": [
    "#2nd experiment - XW\n",
    "qreg = QuantumRegister(2)\n",
    "creg = ClassicalRegister(2) \n",
    "mycircuit = QuantumCircuit(qreg, creg)\n",
    "\n",
    "#Creating entanglement\n",
    "mycircuit.h(qreg[0])\n",
    "mycircuit.cx(qreg[0], qreg[1])\n",
    "\n",
    "#Asja measure 1st qubit qreg[0] in X basis\n",
    "mycircuit.h(qreg[0])\n",
    "\n",
    "#Balvis measure 2nd qubit qreg[1] in W basis\n",
    "mycircuit.s(qreg[1])\n",
    "mycircuit.h(qreg[1])\n",
    "mycircuit.t(qreg[1])\n",
    "mycircuit.h(qreg[1])\n",
    "\n",
    "mycircuit.measure(qreg,creg)\n",
    "\n",
    "job = execute(mycircuit,Aer.get_backend('qasm_simulator'),shots=100)\n",
    "countsXW = job.result().get_counts(mycircuit)\n",
    "print(countsXW) # counts is a dictionary"
   ]
  },
  {
   "cell_type": "code",
   "execution_count": 24,
   "metadata": {},
   "outputs": [
    {
     "name": "stdout",
     "output_type": "stream",
     "text": [
      "{'00': 4, '10': 42, '11': 9, '01': 45}\n"
     ]
    }
   ],
   "source": [
    "#3rd experiment - XV\n",
    "qreg = QuantumRegister(2)\n",
    "creg = ClassicalRegister(2) \n",
    "mycircuit = QuantumCircuit(qreg, creg)\n",
    "\n",
    "#Creating entanglement\n",
    "mycircuit.h(qreg[0])\n",
    "mycircuit.cx(qreg[0], qreg[1])\n",
    "\n",
    "#Asja measure 1st qubit qreg[0] in X basis\n",
    "mycircuit.h(qreg[0])\n",
    "\n",
    "#Balvis measure 2nd qubit qreg[1] in V basis\n",
    "mycircuit.s(qreg[1])\n",
    "mycircuit.h(qreg[1])\n",
    "mycircuit.tdg(qreg[1])\n",
    "mycircuit.h(qreg[1])\n",
    "\n",
    "mycircuit.measure(qreg,creg)\n",
    "\n",
    "job = execute(mycircuit,Aer.get_backend('qasm_simulator'),shots=100)\n",
    "countsXV = job.result().get_counts(mycircuit)\n",
    "print(countsXV) # counts is a dictionary"
   ]
  },
  {
   "cell_type": "code",
   "execution_count": 30,
   "metadata": {},
   "outputs": [
    {
     "name": "stdout",
     "output_type": "stream",
     "text": [
      "{'00': 48, '10': 9, '11': 38, '01': 5}\n"
     ]
    }
   ],
   "source": [
    "#3rd experiment - ZV\n",
    "qreg = QuantumRegister(2)\n",
    "creg = ClassicalRegister(2) \n",
    "mycircuit = QuantumCircuit(qreg, creg)\n",
    "\n",
    "#Creating entanglement\n",
    "mycircuit.h(qreg[0])\n",
    "mycircuit.cx(qreg[0], qreg[1])\n",
    "\n",
    "#Asja measure 1st qubit qreg[0] in Z basis\n",
    "\n",
    "#Balvis measure 2nd qubit qreg[1] in V basis\n",
    "mycircuit.s(qreg[1])\n",
    "mycircuit.h(qreg[1])\n",
    "mycircuit.tdg(qreg[1])\n",
    "mycircuit.h(qreg[1])\n",
    "\n",
    "mycircuit.measure(qreg,creg)\n",
    "\n",
    "job = execute(mycircuit,Aer.get_backend('qasm_simulator'),shots=100)\n",
    "countsZV = job.result().get_counts(mycircuit)\n",
    "print(countsZV) # counts is a dictionary"
   ]
  },
  {
   "cell_type": "markdown",
   "metadata": {},
   "source": [
    "<b>Calculating correlation values</b>\n",
    "\n",
    "Calculate correlation value for each experiment using the formula:\n",
    "\n",
    "<center>$⟨A\\otimes B⟩=P(1,1)+P(0,0)-P(1,0)-P(0,1)$</center>\n",
    "\n",
    "Where $P(1,1)$ and $P(0,0)$ are probablities of correlated results.\\\n",
    "Can be calculated as number of rounds where Asja and Balvis obtained identical bits after measurement ($11$ and $00$) divided by 100 (all rounds);\n",
    "\n",
    "And $P(1,0)$ and $P(0,1)$ are probabilities of uncorrelated results.\\\n",
    "Can be calculated as number of rounds where Asja and Balvis obtained different bits ($10$ and $01$) divided by 100 (all rounds)."
   ]
  },
  {
   "cell_type": "code",
   "execution_count": 1,
   "metadata": {},
   "outputs": [],
   "source": [
    "#\n",
    "# your code is here\n",
    "#"
   ]
  },
  {
   "cell_type": "code",
   "execution_count": 32,
   "metadata": {},
   "outputs": [
    {
     "name": "stdout",
     "output_type": "stream",
     "text": [
      "0.68 0.6 -0.74 0.72\n"
     ]
    }
   ],
   "source": [
    "#Solution\n",
    "ZW=(countsZW.get('00')+countsZW.get('11')-countsZW.get('01')-countsZW.get('10'))/100\n",
    "XW=(countsXW.get('00')+countsXW.get('11')-countsXW.get('01')-countsXW.get('10'))/100\n",
    "XV=(countsXV.get('00')+countsXV.get('11')-countsXV.get('01')-countsXV.get('10'))/100\n",
    "ZV=(countsZV.get('00')+countsZV.get('11')-countsZV.get('01')-countsZV.get('10'))/100\n",
    "\n",
    "print(ZW, XW, XV, ZV)"
   ]
  },
  {
   "cell_type": "markdown",
   "metadata": {},
   "source": [
    "<b>CHSH inequality value</b>\n",
    "\n",
    "Calculate CHSH inequality value using formula $S=ZW+XW-XV+ZV$ and correlation values calculated previously."
   ]
  },
  {
   "cell_type": "code",
   "execution_count": 37,
   "metadata": {},
   "outputs": [],
   "source": [
    "#\n",
    "# your code is here\n",
    "#"
   ]
  },
  {
   "cell_type": "code",
   "execution_count": 38,
   "metadata": {},
   "outputs": [
    {
     "name": "stdout",
     "output_type": "stream",
     "text": [
      "CHSH inequality value is 2.74\n"
     ]
    }
   ],
   "source": [
    "#Solution\n",
    "S=ZW+XW-XV+ZV\n",
    "\n",
    "print(\"CHSH inequality value is\", S)"
   ]
  },
  {
   "cell_type": "markdown",
   "metadata": {},
   "source": [
    "CHSH inequality result describes the system and can serve as an indicator of quantum entanglement:\n",
    "<center>$S=±2$ → Classical system</center>\n",
    "<center>$S=±2{\\sqrt{2}}$ → Quantum system</center>\n",
    "    \n",
    "<b>This fact finds its application in the E91 QKD protocol!"
   ]
  }
 ],
 "metadata": {
  "kernelspec": {
   "display_name": "Python 3",
   "language": "python",
   "name": "python3"
  },
  "language_info": {
   "codemirror_mode": {
    "name": "ipython",
    "version": 3
   },
   "file_extension": ".py",
   "mimetype": "text/x-python",
   "name": "python",
   "nbconvert_exporter": "python",
   "pygments_lexer": "ipython3",
   "version": "3.7.3"
  }
 },
 "nbformat": 4,
 "nbformat_minor": 2
}
