{
 "cells": [
  {
   "cell_type": "markdown",
   "metadata": {},
   "source": [
    "<table>\n",
    "    <tr>\n",
    "        <td  style=\"background-color:#ffffff;\" width=\"18%\"><img src=\"..\\images\\qworld.jpg\"  align=\"left\"></td>\n",
    "        <td style=\"background-color:#ffffff;\" width=\"*\"></td>\n",
    "        <td  style=\"background-color:#ffffff;vertical-align:text-top;\" width=\"21%\"><img src=\"..\\images\\qpoland.jpg\" align=\"right\"></td>  \n",
    "        <td  style=\"background-color:#ffffff;vertical-align:text-top;\" width=\"19%\" ><img src=\"..\\images\\qlatvia.jpg\" align=\"right\"></td>  \n",
    "    </tr>\n",
    "    <tr><td colspan=\"4\" align=\"right\" style=\"color:#777777;background-color:#ffffff;font-size:12px;\">\n",
    "        prepared by Anastasija Trizna\n",
    "    </td></tr>\n",
    "    <tr><td colspan=\"4\" align=\"right\" style=\"color:#bbbbbb;background-color:#ffffff;font-size:11px;font-style:italic;\">\n",
    "        This cell contains some macros. If there is a problem with displaying mathematical formulas, please run this cell to load these macros.\n",
    "    </td></tr>\n",
    "</table>\n",
    "$ \\newcommand{\\bra}[1]{\\langle #1|} $\n",
    "$ \\newcommand{\\ket}[1]{|#1\\rangle} $\n",
    "$ \\newcommand{\\braket}[2]{\\langle #1|#2\\rangle} $\n",
    "$ \\newcommand{\\dot}[2]{ #1 \\cdot #2} $\n",
    "$ \\newcommand{\\biginner}[2]{\\left\\langle #1,#2\\right\\rangle} $\n",
    "$ \\newcommand{\\mymatrix}[2]{\\left( \\begin{array}{#1} #2\\end{array} \\right)} $\n",
    "$ \\newcommand{\\myvector}[1]{\\mymatrix{c}{#1}} $\n",
    "$ \\newcommand{\\myrvector}[1]{\\mymatrix{r}{#1}} $\n",
    "$ \\newcommand{\\mypar}[1]{\\left( #1 \\right)} $\n",
    "$ \\newcommand{\\mybigpar}[1]{ \\Big( #1 \\Big)} $\n",
    "$ \\newcommand{\\sqrttwo}{\\frac{1}{\\sqrt{2}}} $\n",
    "$ \\newcommand{\\dsqrttwo}{\\dfrac{1}{\\sqrt{2}}} $\n",
    "$ \\newcommand{\\onehalf}{\\frac{1}{2}} $\n",
    "$ \\newcommand{\\donehalf}{\\dfrac{1}{2}} $\n",
    "$ \\newcommand{\\hadamard}{ \\mymatrix{rr}{ \\sqrttwo & \\sqrttwo \\\\ \\sqrttwo & -\\sqrttwo }} $\n",
    "$ \\newcommand{\\vzero}{\\myvector{1\\\\0}} $\n",
    "$ \\newcommand{\\vone}{\\myvector{0\\\\1}} $\n",
    "$ \\newcommand{\\vhadamardzero}{\\myvector{ \\sqrttwo \\\\  \\sqrttwo } } $\n",
    "$ \\newcommand{\\vhadamardone}{ \\myrvector{ \\sqrttwo \\\\ -\\sqrttwo } } $\n",
    "$ \\newcommand{\\myarray}[2]{ \\begin{array}{#1}#2\\end{array}} $\n",
    "$ \\newcommand{\\X}{ \\mymatrix{cc}{0 & 1 \\\\ 1 & 0}  } $\n",
    "$ \\newcommand{\\Z}{ \\mymatrix{rr}{1 & 0 \\\\ 0 & -1}  } $\n",
    "$ \\newcommand{\\Htwo}{ \\mymatrix{rrrr}{ \\frac{1}{2} & \\frac{1}{2} & \\frac{1}{2} & \\frac{1}{2} \\\\ \\frac{1}{2} & -\\frac{1}{2} & \\frac{1}{2} & -\\frac{1}{2} \\\\ \\frac{1}{2} & \\frac{1}{2} & -\\frac{1}{2} & -\\frac{1}{2} \\\\ \\frac{1}{2} & -\\frac{1}{2} & -\\frac{1}{2} & \\frac{1}{2} } } $\n",
    "$ \\newcommand{\\CNOT}{ \\mymatrix{cccc}{1 & 0 & 0 & 0 \\\\ 0 & 1 & 0 & 0 \\\\ 0 & 0 & 0 & 1 \\\\ 0 & 0 & 1 & 0} } $\n",
    "$ \\newcommand{\\norm}[1]{ \\left\\lVert #1 \\right\\rVert } $"
   ]
  },
  {
   "cell_type": "markdown",
   "metadata": {},
   "source": [
    "<h3>Sifting</h3>\n",
    "\n",
    "We can now continue with classical post-processing.\n",
    "\n",
    "Asja and Balvis should determine, by public exchange of messages, in which rounds their encoding and decoding bases agreed. \n",
    "\n",
    "During this stage, Balvis reveals the number and rounds when he was able receive a qubit from Asja and Asja share the bases she used to encode each qubit. \n",
    "\n",
    "Both users discard rounds when Balvis didn’t receive a qubit and when he choose measurement basis different from the one Asja used when prepared states. "
   ]
  },
  {
   "cell_type": "markdown",
   "metadata": {},
   "source": [
    "<h3>Task 1: Classical post-processing: Sifting</h3>\n",
    "\n",
    "Continue your code from previous notebook and implement sifting phase:<ul>\n",
    "    <li>Asja and Balvis compare bases they used and keep bits from rounds where bases matched. \n",
    "    <li>Both Asja and Balvis remove from their key string bits where they used different bases.\n",
    "    <li>Print out the keys Asja and Balvis now have. \n",
    "</ul>"
   ]
  },
  {
   "cell_type": "code",
   "execution_count": 1,
   "metadata": {},
   "outputs": [],
   "source": [
    "#\n",
    "# move here your solution from task: Distributing quantum states\n",
    "#"
   ]
  },
  {
   "cell_type": "code",
   "execution_count": 2,
   "metadata": {},
   "outputs": [],
   "source": [
    "#\n",
    "# your code for sifting is here\n",
    "#"
   ]
  },
  {
   "cell_type": "code",
   "execution_count": 1,
   "metadata": {},
   "outputs": [
    {
     "name": "stdout",
     "output_type": "stream",
     "text": [
      "Asja sent: [1, 1, 0, 0, 0, 0, 1, 1, 0, 0, 0, 0, 1, 0, 0, 1, 0, 0, 1, 0, 1, 0, 0, 0, 0, 0, 1, 1, 1, 0, 1, 1]\n",
      "Asja encoding basis: ['Z', 'Z', 'Z', 'Z', 'X', 'Z', 'X', 'Z', 'Z', 'X', 'Z', 'X', 'X', 'X', 'Z', 'Z', 'X', 'X', 'Z', 'X', 'X', 'X', 'Z', 'Z', 'Z', 'X', 'X', 'Z', 'Z', 'Z', 'X', 'Z']\n",
      "Balvis received: [1, 0, 0, 0, 0, 0, 1, 1, 0, 0, 1, 0, 1, 0, 0, 1, 1, 0, 1, 1, 0, 0, 0, 1, 0, 0, 0, 1, 1, 0, 0, 1]\n",
      "Balvis decoding basis: ['Z', 'X', 'X', 'X', 'X', 'Z', 'Z', 'Z', 'Z', 'X', 'X', 'X', 'Z', 'X', 'Z', 'Z', 'Z', 'X', 'X', 'Z', 'Z', 'X', 'Z', 'X', 'X', 'X', 'Z', 'Z', 'Z', 'X', 'Z', 'X']\n",
      "Asjas key = [1, 0, 0, 1, 0, 0, 0, 0, 0, 1, 0, 0, 0, 0, 1, 1]\n",
      "Balvis key = [1, 0, 0, 1, 0, 0, 0, 0, 0, 1, 0, 0, 0, 0, 1, 1]\n"
     ]
    }
   ],
   "source": [
    "#Solution\n",
    "# import all necessary objects and methods for quantum circuits\n",
    "from qiskit import QuantumRegister, ClassicalRegister, QuantumCircuit, execute, Aer\n",
    "from random import randrange\n",
    "\n",
    "def print_outcomes_in_reserve(counts): # takes a dictionary variable\n",
    "    for outcome in counts: # for each key-value in dictionary\n",
    "        reverse_outcome = ''\n",
    "        for i in outcome: # each string can be considered as a list of characters\n",
    "            reverse_outcome = i + reverse_outcome # each new symbol comes before the old symbol(s)\n",
    "    return reverse_outcome\n",
    "\n",
    "#Source: awards/teach_me_qiskit_2018/cryptography/Cryptography.ipynb\n",
    "def SendState(qc1, qc2, qc1_name):\n",
    "    ''' This function takes the output of a circuit qc1 (made up only of x and \n",
    "        h gates and initializes another circuit qc2 with the same state\n",
    "    ''' \n",
    "    \n",
    "    # Quantum state is retrieved from qasm code of qc1\n",
    "    qs = qc1.qasm().split(sep=';')[4:-1]\n",
    "\n",
    "    # Process the code to get the instructions\n",
    "    for index, instruction in enumerate(qs):\n",
    "        qs[index] = instruction.lstrip()\n",
    "\n",
    "    # Parse the instructions and apply to new circuit\n",
    "    for instruction in qs:\n",
    "        if instruction[0] == 'x':\n",
    "            old_qr = int(instruction[5:-1])\n",
    "            qc2.x(qreg[old_qr])\n",
    "        elif instruction[0] == 'h':\n",
    "            old_qr = int(instruction[5:-1])\n",
    "            qc2.h(qreg[old_qr])\n",
    "        elif instruction[0] == 'm': # exclude measuring:\n",
    "            pass\n",
    "        else:\n",
    "            raise Exception('Unable to parse instruction')\n",
    "\n",
    "qreg = QuantumRegister(32) # quantum register with 8 qubits\n",
    "creg = ClassicalRegister(32) # classical register with 8 bits\n",
    "\n",
    "# Quantum circuit for Asja state\n",
    "asja = QuantumCircuit(qreg, creg, name='Asja')\n",
    "\n",
    "send=[] #Initial bit string ot send\n",
    "asja_basis=[] #Register to save information about encoding basis\n",
    "balvis_basis=[] #Register to save information about decoding basis\n",
    "\n",
    "#Creating random bit string\n",
    "for i in range(32):\n",
    "    bit = randrange(2)\n",
    "    send.append(bit)\n",
    "    \n",
    "#Preparing qubits, apply X gate if bit is equal 1\n",
    "for i, n in enumerate(send):\n",
    "    if n==1:\n",
    "        asja.x(qreg[i]) # apply x-gate\n",
    "\n",
    "#send_str = ''.join(str(e) for e in send)\n",
    "\n",
    "#Encoding\n",
    "for i in range(32):\n",
    "    r=randrange(2) #Asja randomly pick a basis\n",
    "    if r==0: #if bit is 0, then she encodes in Z basis\n",
    "        asja_basis.append('Z')\n",
    "    else: #if bit is 1, then she encodes in X basis\n",
    "        asja.h(qreg[i])\n",
    "        asja_basis.append('X')\n",
    "\n",
    "balvis = QuantumCircuit(qreg, creg, name='Balvis') #Defining Balvis circuit\n",
    "SendState(asja, balvis, 'Asja') #Asja sends states to Balvis\n",
    "\n",
    "#Balvis measures qubits\n",
    "for i in range(32):\n",
    "    r=randrange(2) #Balvis randomly pick a basis\n",
    "    if r==0: #if bit is 0, then measures in Z basis\n",
    "        balvis.measure(qreg[i],creg[i])\n",
    "        balvis_basis.append('Z')\n",
    "    else: #if bit is 1, then measures in X basis\n",
    "        balvis.h(qreg[i])\n",
    "        balvis.measure(qreg[i],creg[i])\n",
    "        balvis_basis.append('X')\n",
    "\n",
    "job = execute(balvis,Aer.get_backend('qasm_simulator'),shots=1) #Note that Balvis only has one shot to measure qubits\n",
    "counts = job.result().get_counts(balvis) # counts is a dictionary object in python\n",
    "counts = print_outcomes_in_reserve(counts)\n",
    "\n",
    "#Saving Balvis received string as a list\n",
    "received = list(map(int, counts))\n",
    "\n",
    "print(\"Asja sent:\", send)\n",
    "print(\"Asja encoding basis:\", asja_basis)\n",
    "print(\"Balvis received:\", received)\n",
    "print(\"Balvis decoding basis:\", balvis_basis)\n",
    "#Classical post-processing: Sifting\n",
    "asja_key=[] #Asjas register for matching rounds\n",
    "balvis_key=[] #Balvis register for matching rounds\n",
    "for j in range(0,len(asja_basis)): #Going through list of bases \n",
    "    if asja_basis[j] == balvis_basis[j]: #Comparing\n",
    "        asja_key.append(send[j])\n",
    "        balvis_key.append(received[j]) #Keeping key bit if bases matched\n",
    "    else:\n",
    "        pass #Discard round if bases mismatched\n",
    "\n",
    "print(\"Asjas key =\", asja_key)\n",
    "print(\"Balvis key =\", balvis_key)"
   ]
  },
  {
   "cell_type": "markdown",
   "metadata": {},
   "source": [
    "<h3>Quantum Bit Error Correction</h3>\n",
    "\n",
    "At this stage Asja randomly chooses $n$ of remain bits to test and says to Balvis which rounds are tested. Asja and Balvis exchange bits, compare and compute Quantum Bit Error Rate (QBER). Asja and Balvis estimate the information gained by eavesdropper during the quantum transmission stage from the observed QBER. \n",
    "\n",
    "<b>For noise-free BB84 version</b>\n",
    "\n",
    "If QBER value is not zero - users abort the protocol. \n",
    "\n",
    "If threshold is not reached, they will continue with privacy amplification step."
   ]
  },
  {
   "cell_type": "markdown",
   "metadata": {},
   "source": [
    "<h3>Task 3: Classical post-processing - Quantum Bit Error Rate</h3>\n",
    "\n",
    "Implement QBER phase:<ul>\n",
    "    <li>Asja randomly choses testing round.\n",
    "    <li>Asja and Balvis compare bit-by-bit $\\frac{1}{3}$ of their final key (divide without remainder)\n",
    "    <li>If their bits does not match - this round is considered as an error.\n",
    "    <li>Calculate error rate as: $QBER=\\frac{error}{compared bits}$\n",
    "    <li>Discard bits used for QBER estimation from their final key strings.\n",
    "    <li>Print keys Asja and Balvis now have and QBER value.\n",
    "</ul>"
   ]
  },
  {
   "cell_type": "markdown",
   "metadata": {},
   "source": [
    "Python hints:\n",
    "\n",
    "<li>To divide without remained you can use //. Example: print(5//2) \n",
    "<li>Use <i>del</i> to specify the index of the element you want to delete. Example: del list[index]"
   ]
  },
  {
   "cell_type": "code",
   "execution_count": 4,
   "metadata": {},
   "outputs": [],
   "source": [
    "#\n",
    "# your code for QBER is here\n",
    "#"
   ]
  },
  {
   "cell_type": "code",
   "execution_count": 2,
   "metadata": {},
   "outputs": [
    {
     "name": "stdout",
     "output_type": "stream",
     "text": [
      "Asja randomly selected bit index -  0 - and its value is -  1\n",
      "Asja randomly selected bit index -  0 - and its value is -  0\n",
      "Asja randomly selected bit index -  2 - and its value is -  0\n",
      "Asja randomly selected bit index -  9 - and its value is -  0\n",
      "Asja randomly selected bit index -  5 - and its value is -  0\n",
      "QBER value = 0.0\n",
      "Asjas secret key = [0, 1, 0, 0, 0, 1, 0, 0, 0, 1, 1]\n",
      "Balvis secret key = [0, 1, 0, 0, 0, 1, 0, 0, 0, 1, 1]\n"
     ]
    }
   ],
   "source": [
    "#Solution\n",
    "#QBER\n",
    "rounds = len(asja_key)//3\n",
    "errors=0\n",
    "for i in range(rounds):\n",
    "    bit_index = randrange(len(asja_key)) \n",
    "    tested_bit = asja_key[bit_index]\n",
    "    print (\"Asja randomly selected bit index - \", bit_index, \"- and its value is - \", tested_bit)\n",
    "    if asja_key[bit_index]!=balvis_key[bit_index]: #comparing tested rounds\n",
    "        errors=errors+1 #calculating errors\n",
    "    del asja_key[bit_index] #removing tested bits from key strings\n",
    "    del balvis_key[bit_index]\n",
    "QBER=errors/rounds #calculating QBER\n",
    "        \n",
    "print(\"QBER value =\", QBER)\n",
    "print(\"Asjas secret key =\", asja_key)\n",
    "print(\"Balvis secret key =\", balvis_key)"
   ]
  }
 ],
 "metadata": {
  "kernelspec": {
   "display_name": "Python 3",
   "language": "python",
   "name": "python3"
  },
  "language_info": {
   "codemirror_mode": {
    "name": "ipython",
    "version": 3
   },
   "file_extension": ".py",
   "mimetype": "text/x-python",
   "name": "python",
   "nbconvert_exporter": "python",
   "pygments_lexer": "ipython3",
   "version": "3.7.3"
  }
 },
 "nbformat": 4,
 "nbformat_minor": 2
}
