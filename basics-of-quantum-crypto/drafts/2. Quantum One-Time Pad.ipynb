{
 "cells": [
  {
   "cell_type": "markdown",
   "metadata": {},
   "source": [
    "<table>\n",
    "    <tr>\n",
    "        <td  style=\"background-color:#ffffff;\" width=\"18%\"><img src=\"..\\images\\qworld.jpg\"  align=\"left\"></td>\n",
    "        <td style=\"background-color:#ffffff;\" width=\"*\"></td>\n",
    "        <td  style=\"background-color:#ffffff;vertical-align:text-top;\" width=\"21%\"><img src=\"..\\images\\qpoland.jpg\" align=\"right\"></td>  \n",
    "        <td  style=\"background-color:#ffffff;vertical-align:text-top;\" width=\"19%\" ><img src=\"..\\images\\qlatvia.jpg\" align=\"right\"></td>  \n",
    "    </tr>\n",
    "    <tr><td colspan=\"4\" align=\"right\" style=\"color:#777777;background-color:#ffffff;font-size:12px;\">\n",
    "        prepared by Anastasija Trizna\n",
    "    </td></tr>\n",
    "    <tr><td colspan=\"4\" align=\"right\" style=\"color:#bbbbbb;background-color:#ffffff;font-size:11px;font-style:italic;\">\n",
    "        This cell contains some macros. If there is a problem with displaying mathematical formulas, please run this cell to load these macros.\n",
    "    </td></tr>\n",
    "</table>\n",
    "$ \\newcommand{\\bra}[1]{\\langle #1|} $\n",
    "$ \\newcommand{\\ket}[1]{|#1\\rangle} $\n",
    "$ \\newcommand{\\braket}[2]{\\langle #1|#2\\rangle} $\n",
    "$ \\newcommand{\\dot}[2]{ #1 \\cdot #2} $\n",
    "$ \\newcommand{\\biginner}[2]{\\left\\langle #1,#2\\right\\rangle} $\n",
    "$ \\newcommand{\\mymatrix}[2]{\\left( \\begin{array}{#1} #2\\end{array} \\right)} $\n",
    "$ \\newcommand{\\myvector}[1]{\\mymatrix{c}{#1}} $\n",
    "$ \\newcommand{\\myrvector}[1]{\\mymatrix{r}{#1}} $\n",
    "$ \\newcommand{\\mypar}[1]{\\left( #1 \\right)} $\n",
    "$ \\newcommand{\\mybigpar}[1]{ \\Big( #1 \\Big)} $\n",
    "$ \\newcommand{\\sqrttwo}{\\frac{1}{\\sqrt{2}}} $\n",
    "$ \\newcommand{\\dsqrttwo}{\\dfrac{1}{\\sqrt{2}}} $\n",
    "$ \\newcommand{\\onehalf}{\\frac{1}{2}} $\n",
    "$ \\newcommand{\\donehalf}{\\dfrac{1}{2}} $\n",
    "$ \\newcommand{\\hadamard}{ \\mymatrix{rr}{ \\sqrttwo & \\sqrttwo \\\\ \\sqrttwo & -\\sqrttwo }} $\n",
    "$ \\newcommand{\\vzero}{\\myvector{1\\\\0}} $\n",
    "$ \\newcommand{\\vone}{\\myvector{0\\\\1}} $\n",
    "$ \\newcommand{\\vhadamardzero}{\\myvector{ \\sqrttwo \\\\  \\sqrttwo } } $\n",
    "$ \\newcommand{\\vhadamardone}{ \\myrvector{ \\sqrttwo \\\\ -\\sqrttwo } } $\n",
    "$ \\newcommand{\\myarray}[2]{ \\begin{array}{#1}#2\\end{array}} $\n",
    "$ \\newcommand{\\X}{ \\mymatrix{cc}{0 & 1 \\\\ 1 & 0}  } $\n",
    "$ \\newcommand{\\Z}{ \\mymatrix{rr}{1 & 0 \\\\ 0 & -1}  } $\n",
    "$ \\newcommand{\\Htwo}{ \\mymatrix{rrrr}{ \\frac{1}{2} & \\frac{1}{2} & \\frac{1}{2} & \\frac{1}{2} \\\\ \\frac{1}{2} & -\\frac{1}{2} & \\frac{1}{2} & -\\frac{1}{2} \\\\ \\frac{1}{2} & \\frac{1}{2} & -\\frac{1}{2} & -\\frac{1}{2} \\\\ \\frac{1}{2} & -\\frac{1}{2} & -\\frac{1}{2} & \\frac{1}{2} } } $\n",
    "$ \\newcommand{\\CNOT}{ \\mymatrix{cccc}{1 & 0 & 0 & 0 \\\\ 0 & 1 & 0 & 0 \\\\ 0 & 0 & 0 & 1 \\\\ 0 & 0 & 1 & 0} } $\n",
    "$ \\newcommand{\\norm}[1]{ \\left\\lVert #1 \\right\\rVert } $"
   ]
  },
  {
   "cell_type": "markdown",
   "metadata": {},
   "source": [
    "<h2>Quantum One-Time Pad</h2>\n",
    "\n",
    " "
   ]
  },
  {
   "cell_type": "markdown",
   "metadata": {},
   "source": [
    "<h3> Standart basis </h3>\n",
    "\n",
    "Suppose Asja wants to send qubit to Balvis, such that Eva gains no information about the distributed state. \n",
    "\n",
    "By using pre-shared classical key, for encryption Asja will apply $X$ gate to her qubit if k=1 and do nothing if k=0:\n",
    "<center>$\\ket{E}$ = $X$<sub>k</sub>$\\ket{M}$, where</center>\n",
    "<center>$X$$\\ket{M}$ =  $\\ket{M⊕1}$ </center>\n",
    "\n",
    "To decrypt Balvis will re-apply $X$ gate if k=1 and do nothing if k=0:\n",
    "\n",
    "$\\ket{M}$ = $X$<sub>k</sub>$\\ket{E}$\n"
   ]
  },
  {
   "cell_type": "markdown",
   "metadata": {},
   "source": [
    "<h3> Task 1 </h3>\n",
    "Convince yourself that this protocol is secure."
   ]
  },
  {
   "cell_type": "markdown",
   "metadata": {},
   "source": [
    "<h3> Task 2 </h3>\n",
    "\n",
    "Create a program where Asja encrypts 8 quantum states in standard basis ($\\ket{0}$ and $\\ket{1}$) using randomly generated key string. \n",
    "Decrypt it afterwards, to ensure that the protocol is correct.\n",
    "\n",
    "Note: You can choose your own binary message to encrypt, the goal of this task is to check that after decryption you will get the same message."
   ]
  },
  {
   "cell_type": "code",
   "execution_count": 1,
   "metadata": {},
   "outputs": [
    {
     "name": "stdout",
     "output_type": "stream",
     "text": [
      "Message: 10001100\n",
      "Key: [1, 1, 0, 0, 1, 0, 1, 0]\n",
      "Encryption {'01100010': 1024}\n"
     ]
    }
   ],
   "source": [
    "#Encryption\n",
    "# import all necessary objects and methods for quantum circuits\n",
    "from qiskit import QuantumRegister, ClassicalRegister, QuantumCircuit, execute, Aer\n",
    "from random import randrange\n",
    "\n",
    "# create a quantum curcuit with two qubits: Asja's and Balvis' qubits.\n",
    "# both are initially set to |0>.\n",
    "qreg = QuantumRegister(8) # quantum register with 8 qubits\n",
    "creg = ClassicalRegister(8) # classical register with 8 bits\n",
    "mycircuit = QuantumCircuit(qreg,creg) # quantum circuit with quantum and classical registers\n",
    "\n",
    "# apply x-gate to change initial states from 0 to 1, preparing message 10001100\n",
    "mycircuit.x(qreg[0])\n",
    "mycircuit.x(qreg[4])\n",
    "mycircuit.x(qreg[5])\n",
    "\n",
    "# barrier for a better visualization\n",
    "mycircuit.barrier()\n",
    "\n",
    "#create random key and apply x gates and encrypt message\n",
    "key=[] \n",
    "for i in range(8):\n",
    "    a=randrange(2)\n",
    "    key.append(a)\n",
    "    if a==1:\n",
    "        mycircuit.x(qreg[i])\n",
    "        \n",
    "mycircuit.barrier()\n",
    "mycircuit.measure(qreg,creg)\n",
    "mycircuit.draw(output='mpl')\n",
    "\n",
    "job = execute(mycircuit,Aer.get_backend('qasm_simulator'))\n",
    "encryption = job.result().get_counts(mycircuit)\n",
    "\n",
    "print(\"Message: 10001100\")\n",
    "print(\"Key:\", key)\n",
    "print(\"Encryption\", encryption)"
   ]
  },
  {
   "cell_type": "code",
   "execution_count": 10,
   "metadata": {},
   "outputs": [],
   "source": [
    "#Decryption\n",
    "\n",
    "#\n",
    "# your code is here\n",
    "#"
   ]
  },
  {
   "cell_type": "markdown",
   "metadata": {},
   "source": [
    "<h3> Hadamard basis </h3>\n",
    "<h3> Task 3 </h3>\n",
    "What if Asja deside to change the basis? \n",
    "\n",
    "Suppose Asja wants to change the quantum basis from standart to Hadamard and distribute $\\ket{+}$ and $\\ket{-}$ states.\n",
    "\n",
    "\n",
    "Use $\\ket{+}$ state instead of $\\ket{0}$ and $\\ket{-}$ instead $\\ket{1}$. \n",
    "Encrypt message from previous task with $X$ gates and verify the ciphertext. "
   ]
  },
  {
   "cell_type": "code",
   "execution_count": null,
   "metadata": {},
   "outputs": [],
   "source": [
    "# import all necessary objects and methods for quantum circuits\n",
    "from qiskit import QuantumRegister, ClassicalRegister, QuantumCircuit, execute, Aer\n",
    "from random import randrange\n",
    "\n",
    "#\n",
    "# your code is here\n",
    "#"
   ]
  },
  {
   "cell_type": "markdown",
   "metadata": {},
   "source": [
    "As you can see from the result, when Asja switches to Hadamard basis, encoding with $X$ gate doesn't work any more.\n",
    "This is why:\n",
    "\n",
    "$$\n",
    "    \\ket{+} → \\frac{1}{\\sqrt{2}} \\ket{0} + \\frac{1}{\\sqrt{2}} \\ket{1}\n",
    "$$\n",
    "$$\n",
    "    X\\ket{+} → \\frac{1}{\\sqrt{2}} X\\ket{0} + \\frac{1}{\\sqrt{2}} X\\ket{1} = \\frac{1}{\\sqrt{2}} \\ket{1} + \\frac{1}{\\sqrt{2}} \\ket{0} → \\ket{+} \n",
    "$$\n",
    "$$\n",
    "    \\ket{-} → \\frac{1}{\\sqrt{2}} \\ket{0} - \\frac{1}{\\sqrt{2}} \\ket{1}\n",
    "$$\n",
    "$$\n",
    "    X\\ket{-} → \\frac{1}{\\sqrt{2}} X\\ket{0} - \\frac{1}{\\sqrt{2}} X\\ket{1} = \\frac{1}{\\sqrt{2}} \\ket{1} - \\frac{1}{\\sqrt{2}} \\ket{0} → -\\ket{-} \n",
    "$$\n"
   ]
  },
  {
   "cell_type": "markdown",
   "metadata": {},
   "source": [
    "$X$ gate is not enough to encrypt in other bases. \n",
    "The solution is to use $Z$ gate, which is a bit-flip operation for Hadamard basis. \n",
    "\n",
    "<b> Z operator</b> is the reflection over $x$-axis: $ Z = \\mymatrix{rr}{ 1 & 0 \\\\ 0 & -1 } $\n",
    "\n",
    "$$\n",
    "    Z\\ket{+} → \\ket{-} \n",
    "$$\n",
    "$$\n",
    "    Z\\ket{-} → \\ket{+} \n",
    "$$"
   ]
  },
  {
   "cell_type": "markdown",
   "metadata": {},
   "source": [
    "However, note that $Z$ gate doesn't work for encrypting message in standart basis. Because:\n",
    "\n",
    "$$\n",
    "    Z\\ket{0} → \\ket{0} \n",
    "$$\n",
    "$$\n",
    "    Z\\ket{1} → -\\ket{1} \n",
    "$$\n",
    "\n",
    "Thus, in contrast with classical OTP, in quantum OTP Asja will need to use <b>two bits</b> of the key <b>k<sub>1</sub>k<sub>2</sub></b> to encode one quantum state $ \\ket{Ψ} $."
   ]
  },
  {
   "cell_type": "markdown",
   "metadata": {},
   "source": [
    "<h3> Quantum OTP </h3>\n",
    "\n",
    "Now we have all knowledge needed to develop final protocol. \n",
    "\n",
    "<b>$X$</b> gate is good to encrypt in standart basis\n",
    "\n",
    "<b>$Z$</b> gate is good to encrypt in Hadamard basis.\n",
    "\n",
    "By using pre-shared classical key Asja will apply both gates (X and Z) to her qubit:\n",
    "\n",
    "<center>$\\ket{E}$ = $X$<sub>k1</sub>$Z$<sub>k2</sub>$\\ket{M}$</center>\n",
    "\n",
    "<center>$X$$\\ket{M}$ =  $\\ket{M⊕1}$ </center>\n",
    "\n",
    "<center>$Z$$\\ket{M}$ =  $(-1)$<sup>M</sup>$\\ket{M}$</center>\n",
    "\n",
    "Decryption:\n",
    "\n",
    "<center>$\\ket{M}$ = $Z$<sub>k2</sub>$X$<sub>k1</sub>$\\ket{M}$=$Z$<sub>k2</sub>$X$<sub>k1</sub>($X$<sub>k1</sub>$Z$<sub>k2</sub>$\\ket{M}$); </center>\n",
    "\n",
    "<center>where $X$<sub>k1</sub>$X$<sub>k1</sub> = $I$ and $Z$<sub>k2</sub>$Z$<sub>k2</sub> = $I$</center>"
   ]
  },
  {
   "cell_type": "markdown",
   "metadata": {},
   "source": [
    "When $k1k2$ is chosen uniformly at random, an arbitrary single-qubit $ρ$ is encrypted to:\n",
    "\n",
    "<center>$ρ$ = $ \\frac{1}{4} $$\\sum_{k1k2}$ $X$<sub>k1</sub>$Z$<sub>k2</sub>$\\ket{Ψ}$$\\bra{Ψ}$$Z$<sub>k2</sub>$X$<sub>k1</sub></center> \n",
    "which is a maximally mixed state."
   ]
  },
  {
   "cell_type": "markdown",
   "metadata": {},
   "source": [
    "<h3> Task 4 </h3>\n",
    "\n",
    "Let's develop a quantum OTP!\n",
    "\n",
    "Create a program where Asja encrypts 16 quantum states using both bases ($\\ket{0}$, $\\ket{1}$, $\\ket{+}$, $\\ket{-}$) and randomly generated key string. \n",
    "Decrypt it afterwards, to ensure that the protocol is correct."
   ]
  },
  {
   "cell_type": "code",
   "execution_count": null,
   "metadata": {},
   "outputs": [],
   "source": [
    "# import all necessary objects and methods for quantum circuits\n",
    "from qiskit import QuantumRegister, ClassicalRegister, QuantumCircuit, execute, Aer\n",
    "from random import randrange\n",
    "\n",
    "#\n",
    "# your code is here\n",
    "#"
   ]
  },
  {
   "cell_type": "markdown",
   "metadata": {},
   "source": [
    "<h3> Sum up </h3>\n",
    "\n",
    "We now can see that OTP protocol idea can be implemented in quantum communication. Quantum OTP protocol is correct and secure, even if we assume that our eavesdropper has powerful quantum computer with infinite quantum memory and can listen the channel.\n",
    "\n",
    "However, we still have few drawback here:\n",
    "<ul>\n",
    "    <li> The key we were using is classical, which means that it is not truly random:\n",
    "\n",
    "<i>\"Anyone who attempts to generate random numbers by deterministic means is, of course, living in a state of sin\"</i> - Von Neumann (among the father of information theory)\n",
    "\n",
    "<li> The key is an important resource. For quantum OTP we need a key that is twice long as the message, because otherwise Asja and Balvis will be unable to communicate once they run out of key.\n",
    "</ul>\n",
    "\n",
    "<b>Luckily, these two problems are addressed by Quantum Key Distribution Techniques.</b>"
   ]
  }
 ],
 "metadata": {
  "kernelspec": {
   "display_name": "Python 3",
   "language": "python",
   "name": "python3"
  },
  "language_info": {
   "codemirror_mode": {
    "name": "ipython",
    "version": 3
   },
   "file_extension": ".py",
   "mimetype": "text/x-python",
   "name": "python",
   "nbconvert_exporter": "python",
   "pygments_lexer": "ipython3",
   "version": "3.7.3"
  }
 },
 "nbformat": 4,
 "nbformat_minor": 2
}
