{
 "cells": [
  {
   "cell_type": "markdown",
   "metadata": {},
   "source": [
    "<table>\n",
    "    <tr>\n",
    "        <td  style=\"background-color:#ffffff;\" width=\"18%\"><img src=\"..\\images\\qworld.jpg\"  align=\"left\"></td>\n",
    "        <td style=\"background-color:#ffffff;\" width=\"*\"></td>\n",
    "        <td  style=\"background-color:#ffffff;vertical-align:text-top;\" width=\"21%\"><img src=\"..\\images\\qpoland.jpg\" align=\"right\"></td>  \n",
    "        <td  style=\"background-color:#ffffff;vertical-align:text-top;\" width=\"19%\" ><img src=\"..\\images\\qlatvia.jpg\" align=\"right\"></td>  \n",
    "    </tr>\n",
    "    <tr><td colspan=\"4\" align=\"right\" style=\"color:#777777;background-color:#ffffff;font-size:12px;\">\n",
    "        prepared by Anastasija Trizna\n",
    "    </td></tr>\n",
    "    <tr><td colspan=\"4\" align=\"right\" style=\"color:#bbbbbb;background-color:#ffffff;font-size:11px;font-style:italic;\">\n",
    "        This cell contains some macros. If there is a problem with displaying mathematical formulas, please run this cell to load these macros.\n",
    "    </td></tr>\n",
    "</table>\n",
    "$ \\newcommand{\\bra}[1]{\\langle #1|} $\n",
    "$ \\newcommand{\\ket}[1]{|#1\\rangle} $\n",
    "$ \\newcommand{\\braket}[2]{\\langle #1|#2\\rangle} $\n",
    "$ \\newcommand{\\dot}[2]{ #1 \\cdot #2} $\n",
    "$ \\newcommand{\\biginner}[2]{\\left\\langle #1,#2\\right\\rangle} $\n",
    "$ \\newcommand{\\mymatrix}[2]{\\left( \\begin{array}{#1} #2\\end{array} \\right)} $\n",
    "$ \\newcommand{\\myvector}[1]{\\mymatrix{c}{#1}} $\n",
    "$ \\newcommand{\\myrvector}[1]{\\mymatrix{r}{#1}} $\n",
    "$ \\newcommand{\\mypar}[1]{\\left( #1 \\right)} $\n",
    "$ \\newcommand{\\mybigpar}[1]{ \\Big( #1 \\Big)} $\n",
    "$ \\newcommand{\\sqrttwo}{\\frac{1}{\\sqrt{2}}} $\n",
    "$ \\newcommand{\\dsqrttwo}{\\dfrac{1}{\\sqrt{2}}} $\n",
    "$ \\newcommand{\\onehalf}{\\frac{1}{2}} $\n",
    "$ \\newcommand{\\donehalf}{\\dfrac{1}{2}} $\n",
    "$ \\newcommand{\\hadamard}{ \\mymatrix{rr}{ \\sqrttwo & \\sqrttwo \\\\ \\sqrttwo & -\\sqrttwo }} $\n",
    "$ \\newcommand{\\vzero}{\\myvector{1\\\\0}} $\n",
    "$ \\newcommand{\\vone}{\\myvector{0\\\\1}} $\n",
    "$ \\newcommand{\\vhadamardzero}{\\myvector{ \\sqrttwo \\\\  \\sqrttwo } } $\n",
    "$ \\newcommand{\\vhadamardone}{ \\myrvector{ \\sqrttwo \\\\ -\\sqrttwo } } $\n",
    "$ \\newcommand{\\myarray}[2]{ \\begin{array}{#1}#2\\end{array}} $\n",
    "$ \\newcommand{\\X}{ \\mymatrix{cc}{0 & 1 \\\\ 1 & 0}  } $\n",
    "$ \\newcommand{\\Z}{ \\mymatrix{rr}{1 & 0 \\\\ 0 & -1}  } $\n",
    "$ \\newcommand{\\Htwo}{ \\mymatrix{rrrr}{ \\frac{1}{2} & \\frac{1}{2} & \\frac{1}{2} & \\frac{1}{2} \\\\ \\frac{1}{2} & -\\frac{1}{2} & \\frac{1}{2} & -\\frac{1}{2} \\\\ \\frac{1}{2} & \\frac{1}{2} & -\\frac{1}{2} & -\\frac{1}{2} \\\\ \\frac{1}{2} & -\\frac{1}{2} & -\\frac{1}{2} & \\frac{1}{2} } } $\n",
    "$ \\newcommand{\\CNOT}{ \\mymatrix{cccc}{1 & 0 & 0 & 0 \\\\ 0 & 1 & 0 & 0 \\\\ 0 & 0 & 0 & 1 \\\\ 0 & 0 & 1 & 0} } $\n",
    "$ \\newcommand{\\norm}[1]{ \\left\\lVert #1 \\right\\rVert } $"
   ]
  },
  {
   "cell_type": "markdown",
   "metadata": {},
   "source": [
    "<h3>X and Z bases</h3>\n",
    "\n",
    "There are two bases that used the most when we talk about QKD:\n",
    "\n",
    "Orthogonal states $\\ket{0}$ and $\\ket{1}$ forms a <b>Standard basis</b>, also called <b>Rectilinear</b>, which is $Z$ basis.\n",
    "\n",
    "Orthogonal states $\\ket{+}$ and $\\ket{-}$ forms a <b>Hadamard basis</b>, also called <b>Diagonal</b>, which is $X$ basis\n",
    "\n",
    "Bases and states represented on two-dimensional space:"
   ]
  },
  {
   "cell_type": "markdown",
   "metadata": {},
   "source": [
    "<td style=\"background-color:#ffffff;\"><img src=\"..\\images\\bases.jpg\" width=\"50%\" align=\"middle\"></td> "
   ]
  },
  {
   "cell_type": "markdown",
   "metadata": {},
   "source": [
    "If we decide to use $X$ basis, we need to apply $H$ gate to qubit to bring in from states $\\ket{0}$ or $\\ket{1}$ to states $\\ket{+}$ or $\\ket{-}$.\n",
    "\n",
    "<center>$H\\ket{0}$ = $\\ket{+}$ </center>\n",
    "<center>$H\\ket{1}$ = $\\ket{-}$.</center>\n",
    "\n",
    "Similar for the measurement. So far, we used only $Z$ basis to measure received qubits. We can prepare measurement in a Hadamard basis by applying Hadamard operation <b>before</b> proceeding with the regular measurement."
   ]
  },
  {
   "cell_type": "markdown",
   "metadata": {},
   "source": [
    "Let's consider an example where users use X basis to encode qubits. "
   ]
  },
  {
   "cell_type": "code",
   "execution_count": 1,
   "metadata": {},
   "outputs": [],
   "source": [
    "# import all necessary objects and methods for quantum circuits\n",
    "from qiskit import QuantumRegister, ClassicalRegister, QuantumCircuit, execute, Aer\n",
    "from random import randrange\n",
    "\n",
    "def print_outcomes_in_reserve(counts): # takes a dictionary variable\n",
    "    for outcome in counts: # for each key-value in dictionary\n",
    "        reverse_outcome = ''\n",
    "        for i in outcome: # each string can be considered as a list of characters\n",
    "            reverse_outcome = i + reverse_outcome # each new symbol comes before the old symbol(s)\n",
    "    return reverse_outcome\n",
    "\n",
    "#Source: awards/teach_me_qiskit_2018/cryptography/Cryptography.ipynb\n",
    "#get_qasm method needs the str label\n",
    "# alternatively we can use circuits[0] but since dicts are not ordered\n",
    "# it is not a good idea to put them in a func\n",
    "# circuits = list(qp.get_circuit_names())\n",
    "\n",
    "def SendState(qc1, qc2, qc1_name):\n",
    "    ''' This function takes the output of a circuit qc1 (made up only of x and \n",
    "        h gates and initializes another circuit qc2 with the same state\n",
    "    ''' \n",
    "    \n",
    "    # Quantum state is retrieved from qasm code of qc1\n",
    "    qs = qc1.qasm().split(sep=';')[4:-1]\n",
    "\n",
    "    # Process the code to get the instructions\n",
    "    for index, instruction in enumerate(qs):\n",
    "        qs[index] = instruction.lstrip()\n",
    "\n",
    "    # Parse the instructions and apply to new circuit\n",
    "    for instruction in qs:\n",
    "        if instruction[0] == 'x':\n",
    "            old_qr = int(instruction[5:-1])\n",
    "            qc2.x(qreg[old_qr])\n",
    "        elif instruction[0] == 'h':\n",
    "            old_qr = int(instruction[5:-1])\n",
    "            qc2.h(qreg[old_qr])\n",
    "        elif instruction[0] == 'm': # exclude measuring:\n",
    "            pass\n",
    "        else:\n",
    "            raise Exception('Unable to parse instruction')"
   ]
  },
  {
   "cell_type": "code",
   "execution_count": 2,
   "metadata": {},
   "outputs": [],
   "source": [
    "# import all necessary objects and methods for quantum circuits\n",
    "qreg = QuantumRegister(8) # quantum register with 8 qubits\n",
    "creg = ClassicalRegister(8) # classical register with 8 bits\n",
    "\n",
    "# Quantum circuit for Asja state\n",
    "asja = QuantumCircuit(qreg, creg, name='Asja')\n",
    "\n",
    "send=[] #Initial bit string ot send\n",
    "\n",
    "#Creating random bit string\n",
    "for i in range(8):\n",
    "    bit = randrange(2)\n",
    "    send.append(bit)\n",
    "    \n",
    "#Apply X gate if bit is equal 1\n",
    "for i, n in enumerate(send):\n",
    "    if n==1:\n",
    "        asja.x(qreg[i]) # apply x-gate\n",
    "#        print(\"x-gate is applied to the qubit with index\",i)\n",
    "\n",
    "send_str = ''.join(str(e) for e in send)"
   ]
  },
  {
   "cell_type": "markdown",
   "metadata": {},
   "source": [
    "In out code we have now qubits initialized as $\\ket{0}$ and $\\ket{1}$. \n",
    "Let's switch to $X$ basis and apply $H$ gates."
   ]
  },
  {
   "cell_type": "code",
   "execution_count": 3,
   "metadata": {},
   "outputs": [
    {
     "data": {
      "text/plain": [
       "<qiskit.circuit.instructionset.InstructionSet at 0x1cef637d2b0>"
      ]
     },
     "execution_count": 3,
     "metadata": {},
     "output_type": "execute_result"
    }
   ],
   "source": [
    "asja.h(qreg)"
   ]
  },
  {
   "cell_type": "code",
   "execution_count": 4,
   "metadata": {},
   "outputs": [],
   "source": [
    "balvis = QuantumCircuit(qreg, creg, name='Balvis') #Defining Balvis circuit\n",
    "\n",
    "SendState(asja, balvis, 'Asja') #Asja sends states to Balvis"
   ]
  },
  {
   "cell_type": "markdown",
   "metadata": {},
   "source": [
    "Balvis will need to apply switch to $Z$ basis as well, before proceeding with the measurement. "
   ]
  },
  {
   "cell_type": "code",
   "execution_count": 5,
   "metadata": {},
   "outputs": [
    {
     "name": "stdout",
     "output_type": "stream",
     "text": [
      "Asja sent: 11111001\n",
      "Balvis received: 11111001\n"
     ]
    }
   ],
   "source": [
    "#Balvis performs a measurement in X basis\n",
    "balvis.h(qreg) #Applyting H gate first\n",
    "balvis.measure(qreg,creg) #then continue with regular measurement\n",
    "\n",
    "job = execute(balvis,Aer.get_backend('qasm_simulator'),shots=1) #Note that Balvis only has one shot to measure qubits\n",
    "counts = job.result().get_counts(balvis) # counts is a dictionary object in python\n",
    "received = print_outcomes_in_reserve(counts)\n",
    "\n",
    "print(\"Asja sent:\", send_str)\n",
    "print(\"Balvis received:\", received)"
   ]
  },
  {
   "cell_type": "markdown",
   "metadata": {},
   "source": [
    "<h3>Task 1: Measuring in incorrect basis</h3>\n",
    "\n",
    "Create a programm, where Asja sends first 8 bits encoded using X basis and next 8 bits encoded in Z basis, but Balvis measures first 8 qubits using Z basis and next 8 qubits using X. "
   ]
  },
  {
   "cell_type": "code",
   "execution_count": 6,
   "metadata": {},
   "outputs": [],
   "source": [
    "#\n",
    "# your code is here\n",
    "#"
   ]
  },
  {
   "cell_type": "code",
   "execution_count": 7,
   "metadata": {},
   "outputs": [
    {
     "name": "stdout",
     "output_type": "stream",
     "text": [
      "Asja sent: 0111011001100100\n",
      "Balvis received: 1101011100000000\n"
     ]
    }
   ],
   "source": [
    "#Solution\n",
    "\n",
    "qreg = QuantumRegister(16) # quantum register with 8 qubits\n",
    "creg = ClassicalRegister(16) # classical register with 8 bits\n",
    "\n",
    "# Quantum circuit for Asja state\n",
    "asja = QuantumCircuit(qreg, creg, name='Asja')\n",
    "\n",
    "send=[] #Initial bit string ot send\n",
    "\n",
    "#Creating random bit string\n",
    "for i in range(16):\n",
    "    bit = randrange(2)\n",
    "    send.append(bit)\n",
    "    \n",
    "#Apply X gate if bit is equal 1\n",
    "for i, n in enumerate(send):\n",
    "    if n==1:\n",
    "        asja.x(qreg[i]) # apply x-gate\n",
    "#        print(\"x-gate is applied to the qubit with index\",i)\n",
    "\n",
    "send_str = ''.join(str(e) for e in send)\n",
    "\n",
    "for i in range(8):\n",
    "    asja.h(qreg[i]) #first 8 qubits encoded in X basis\n",
    "\n",
    "#asja.draw() #To check gates applied correctly\n",
    "\n",
    "balvis = QuantumCircuit(qreg, creg, name='Balvis') #Defining Balvis circuit\n",
    "SendState(asja, balvis, 'Asja') #Asja sends states to Balvis\n",
    "\n",
    "#Balvis performs a measurement on Standard basis Z for first 8 qubits\n",
    "for i in range(8):\n",
    "    balvis.measure(qreg[i],creg[i])\n",
    "\n",
    "#Balvis perofms a measurement on Hadamard basis X for next 8 qubits\n",
    "n=8\n",
    "for n in range(8, 16):\n",
    "    balvis.h(qreg[n])\n",
    "    n=n+1\n",
    "\n",
    "job = execute(balvis,Aer.get_backend('qasm_simulator'),shots=1) #Note that Balvis only has one shot to measure qubits\n",
    "counts = job.result().get_counts(balvis) # counts is a dictionary object in python\n",
    "received = print_outcomes_in_reserve(counts)\n",
    "\n",
    "print(\"Asja sent:\", send_str)\n",
    "print(\"Balvis received:\", received)"
   ]
  },
  {
   "cell_type": "markdown",
   "metadata": {},
   "source": [
    "As you can see from the result, Asja and Balvis have completely different bit strings.\n",
    "\n",
    "It is because measurement in incorrect basis randomizes the result. \n",
    "\n",
    "For example, if Asja sent state $\\ket{0}$ and Balvis measured using $X$ basis - he has equal probability of gathering 0 or 1.\n",
    "\n",
    "And vice-versa, if Asja sent state $\\ket{+}$ and Balvis measured using $X$ basis- he has equal probability of gathering 0 or 1."
   ]
  },
  {
   "cell_type": "markdown",
   "metadata": {},
   "source": [
    "<b>Measuring qubit with incorrect basis randomizes the outcome!</b>"
   ]
  },
  {
   "cell_type": "markdown",
   "metadata": {},
   "source": [
    "<h3>Task 2: Distributing quantum states</h3>\n",
    "\n",
    "At this stage Asja chooses a random bit string and random sequence of encoding bases ($X$ or $Z$) and prepares qubits:\n",
    "<center>states $\\ket{0}$ and $\\ket{1}$ forms $Z$ basis</center>\n",
    "<center>states $\\ket{+}$ and $\\ket{-}$ forms $X$ basis</center>\n",
    "\n",
    "She then sends qubits to Balvis, each representing one bit of the string in the basis chosen for that bit position:\n",
    "<center>$\\ket0$ or $\\ket+$ for a binary $0$ </center>\n",
    "<center>$\\ket1$ or $\\ket-$ standing for a binary $1$ </center>\n",
    "\n",
    "Once Balvis receives the photons, he decides, <b>randomly for each photon and independently from Asja</b>, whether to measure it on $Z$ or $X$ basis and interprets the result of the measurement as a binary $0$ or $1$.\n",
    "\n",
    "Create a programm that runs the following protocol:<ul>\n",
    "    <li>Asja creates 32-bit long random bit string and prepares qubits\n",
    "    <li>Asja encodes qubits in randomly picked basis ($X$ or $Z$) - do nothing if she chosed $Z$ basis, apply $H$ gate if she chosed $X$ basis.\n",
    "    <li>Asja save information about initial bit value and basis she used to encode\n",
    "    <li>Asja sends qubits to Balvis\n",
    "    <li>Balvis randomly and independently from Asja chooses in which basis he will measure each received qubit\n",
    "    <li>Balvis measures qubits on chosed basis ($X$ or $Z$) - do nothing if he chosed $Z$ basis, apply $H$ gate before measurement if he chosed $X$ basis.\n",
    "    <li>Balvis saves information about basis he used and measurement result</ul>"
   ]
  },
  {
   "cell_type": "code",
   "execution_count": 8,
   "metadata": {},
   "outputs": [],
   "source": [
    "#\n",
    "# your code is here\n",
    "#"
   ]
  },
  {
   "cell_type": "code",
   "execution_count": 9,
   "metadata": {},
   "outputs": [
    {
     "name": "stdout",
     "output_type": "stream",
     "text": [
      "Asja sent: [0, 0, 1, 1, 0, 1, 0, 0, 0, 1, 0, 1, 0, 1, 1, 1, 0, 1, 1, 0, 1, 1, 1, 1, 1, 0, 0, 0, 0, 1, 1, 0]\n",
      "Asja encoding basis: ['Z', 'Z', 'Z', 'Z', 'X', 'Z', 'Z', 'Z', 'X', 'Z', 'X', 'Z', 'X', 'X', 'Z', 'Z', 'Z', 'X', 'Z', 'X', 'Z', 'Z', 'X', 'Z', 'X', 'Z', 'Z', 'X', 'X', 'Z', 'X', 'X']\n",
      "Balvis received: [0, 1, 1, 1, 0, 1, 0, 0, 0, 1, 1, 1, 1, 1, 1, 0, 0, 1, 1, 1, 1, 1, 0, 1, 1, 0, 0, 0, 0, 0, 0, 0]\n",
      "Balvis decoding basis: ['X', 'Z', 'Z', 'Z', 'X', 'Z', 'X', 'X', 'Z', 'X', 'X', 'Z', 'X', 'X', 'Z', 'Z', 'Z', 'Z', 'Z', 'X', 'X', 'X', 'X', 'X', 'X', 'X', 'X', 'Z', 'Z', 'Z', 'X', 'Z']\n"
     ]
    }
   ],
   "source": [
    "#Solution\n",
    "\n",
    "qreg = QuantumRegister(32) # quantum register with 8 qubits\n",
    "creg = ClassicalRegister(32) # classical register with 8 bits\n",
    "\n",
    "# Quantum circuit for Asja state\n",
    "asja = QuantumCircuit(qreg, creg, name='Asja')\n",
    "\n",
    "send=[] #Initial bit string ot send\n",
    "asja_basis=[] #Register to save information about encoding basis\n",
    "balvis_basis=[] #Register to save information about decoding basis\n",
    "\n",
    "#Creating random bit string\n",
    "for i in range(32):\n",
    "    bit = randrange(2)\n",
    "    send.append(bit)\n",
    "    \n",
    "#Preparing qubits, apply X gate if bit is equal 1\n",
    "for i, n in enumerate(send):\n",
    "    if n==1:\n",
    "        asja.x(qreg[i]) # apply x-gate\n",
    "\n",
    "#send_str = ''.join(str(e) for e in send)\n",
    "\n",
    "#Encoding\n",
    "for i in range(32):\n",
    "    r=randrange(2) #Asja randomly pick a basis\n",
    "    if r==0: #if bit is 0, then she encodes in Z basis\n",
    "        asja_basis.append('X')\n",
    "    else: #if bit is 1, then she encodes in X basis\n",
    "        asja.h(qreg[i])\n",
    "        asja_basis.append('Z')\n",
    "\n",
    "balvis = QuantumCircuit(qreg, creg, name='Balvis') #Defining Balvis circuit\n",
    "SendState(asja, balvis, 'Asja') #Asja sends states to Balvis\n",
    "\n",
    "#Balvis measures qubits\n",
    "for i in range(32):\n",
    "    r=randrange(2) #Balvis randomly pick a basis\n",
    "    if r==0: #if bit is 0, then measures in Z basis\n",
    "        balvis.measure(qreg[i],creg[i])\n",
    "        balvis_basis.append('Z')\n",
    "    else: #if bit is 1, then measures in X basis\n",
    "        balvis.h(qreg[i])\n",
    "        balvis.measure(qreg[i],creg[i])\n",
    "        balvis_basis.append('X')\n",
    "\n",
    "job = execute(balvis,Aer.get_backend('qasm_simulator'),shots=1) #Note that Balvis only has one shot to measure qubits\n",
    "counts = job.result().get_counts(balvis) # counts is a dictionary object in python\n",
    "counts = print_outcomes_in_reserve(counts)\n",
    "\n",
    "#Saving Balvis received string as a list\n",
    "received = list(map(int, counts))\n",
    "\n",
    "print(\"Asja sent:\", send)\n",
    "print(\"Asja encoding basis:\", asja_basis)\n",
    "print(\"Balvis received:\", received)\n",
    "print(\"Balvis decoding basis:\", balvis_basis)"
   ]
  }
 ],
 "metadata": {
  "kernelspec": {
   "display_name": "Python 3",
   "language": "python",
   "name": "python3"
  },
  "language_info": {
   "codemirror_mode": {
    "name": "ipython",
    "version": 3
   },
   "file_extension": ".py",
   "mimetype": "text/x-python",
   "name": "python",
   "nbconvert_exporter": "python",
   "pygments_lexer": "ipython3",
   "version": "3.7.3"
  }
 },
 "nbformat": 4,
 "nbformat_minor": 2
}
