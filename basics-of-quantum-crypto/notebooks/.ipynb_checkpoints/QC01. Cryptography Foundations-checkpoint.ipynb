{
 "cells": [
  {
   "cell_type": "markdown",
   "metadata": {},
   "source": [
    "<table>\n",
    "    <tr>\n",
    "        <td  style=\"background-color:#ffffff;\" width=\"18%\"><img src=\"..\\images\\qworld.jpg\"  align=\"left\"></td>\n",
    "        <td style=\"background-color:#ffffff;\" width=\"*\"></td>\n",
    "        <td  style=\"background-color:#ffffff;vertical-align:text-top;\" width=\"21%\"><img src=\"..\\images\\qpoland.jpg\" align=\"right\"></td>  \n",
    "        <td  style=\"background-color:#ffffff;vertical-align:text-top;\" width=\"19%\" ><img src=\"..\\images\\qlatvia.jpg\" align=\"right\"></td>  \n",
    "    </tr>\n",
    "    <tr><td colspan=\"4\" align=\"right\" style=\"color:#777777;background-color:#ffffff;font-size:12px;\">\n",
    "        prepared by Anastasija Trizna\n",
    "    </td></tr>\n",
    "    <tr><td colspan=\"4\" align=\"right\" style=\"color:#bbbbbb;background-color:#ffffff;font-size:11px;font-style:italic;\">\n",
    "        This cell contains some macros. If there is a problem with displaying mathematical formulas, please run this cell to load these macros.\n",
    "    </td></tr>\n",
    "</table>\n",
    "$ \\newcommand{\\bra}[1]{\\langle #1|} $\n",
    "$ \\newcommand{\\ket}[1]{|#1\\rangle} $\n",
    "$ \\newcommand{\\braket}[2]{\\langle #1|#2\\rangle} $\n",
    "$ \\newcommand{\\dot}[2]{ #1 \\cdot #2} $\n",
    "$ \\newcommand{\\biginner}[2]{\\left\\langle #1,#2\\right\\rangle} $\n",
    "$ \\newcommand{\\mymatrix}[2]{\\left( \\begin{array}{#1} #2\\end{array} \\right)} $\n",
    "$ \\newcommand{\\myvector}[1]{\\mymatrix{c}{#1}} $\n",
    "$ \\newcommand{\\myrvector}[1]{\\mymatrix{r}{#1}} $\n",
    "$ \\newcommand{\\mypar}[1]{\\left( #1 \\right)} $\n",
    "$ \\newcommand{\\mybigpar}[1]{ \\Big( #1 \\Big)} $\n",
    "$ \\newcommand{\\sqrttwo}{\\frac{1}{\\sqrt{2}}} $\n",
    "$ \\newcommand{\\dsqrttwo}{\\dfrac{1}{\\sqrt{2}}} $\n",
    "$ \\newcommand{\\onehalf}{\\frac{1}{2}} $\n",
    "$ \\newcommand{\\donehalf}{\\dfrac{1}{2}} $\n",
    "$ \\newcommand{\\hadamard}{ \\mymatrix{rr}{ \\sqrttwo & \\sqrttwo \\\\ \\sqrttwo & -\\sqrttwo }} $\n",
    "$ \\newcommand{\\vzero}{\\myvector{1\\\\0}} $\n",
    "$ \\newcommand{\\vone}{\\myvector{0\\\\1}} $\n",
    "$ \\newcommand{\\vhadamardzero}{\\myvector{ \\sqrttwo \\\\  \\sqrttwo } } $\n",
    "$ \\newcommand{\\vhadamardone}{ \\myrvector{ \\sqrttwo \\\\ -\\sqrttwo } } $\n",
    "$ \\newcommand{\\myarray}[2]{ \\begin{array}{#1}#2\\end{array}} $\n",
    "$ \\newcommand{\\X}{ \\mymatrix{cc}{0 & 1 \\\\ 1 & 0}  } $\n",
    "$ \\newcommand{\\Z}{ \\mymatrix{rr}{1 & 0 \\\\ 0 & -1}  } $\n",
    "$ \\newcommand{\\Htwo}{ \\mymatrix{rrrr}{ \\frac{1}{2} & \\frac{1}{2} & \\frac{1}{2} & \\frac{1}{2} \\\\ \\frac{1}{2} & -\\frac{1}{2} & \\frac{1}{2} & -\\frac{1}{2} \\\\ \\frac{1}{2} & \\frac{1}{2} & -\\frac{1}{2} & -\\frac{1}{2} \\\\ \\frac{1}{2} & -\\frac{1}{2} & -\\frac{1}{2} & \\frac{1}{2} } } $\n",
    "$ \\newcommand{\\CNOT}{ \\mymatrix{cccc}{1 & 0 & 0 & 0 \\\\ 0 & 1 & 0 & 0 \\\\ 0 & 0 & 0 & 1 \\\\ 0 & 0 & 1 & 0} } $\n",
    "$ \\newcommand{\\norm}[1]{ \\left\\lVert #1 \\right\\rVert } $"
   ]
  },
  {
   "cell_type": "markdown",
   "metadata": {},
   "source": [
    "<h2>Cryptography Foundations</h2>\n",
    "\n",
    " "
   ]
  },
  {
   "cell_type": "markdown",
   "metadata": {},
   "source": [
    "\n",
    "Suppose Asja wants send a message to Balvis. \n",
    "\n",
    "Moreover, she wants send it securely to make sure an eavesdropper Eva cannot read the message. \n",
    "\n",
    "A message is a plantext, denoted by $M$. The process of changing message to hide it's content is called encryption, $E$. An encrypted message is ciphertext, denoted by $C$. The process of turning ciphertext in to the plaintext is decryption, $D$."
   ]
  },
  {
   "cell_type": "markdown",
   "metadata": {},
   "source": [
    "Since the whole point on encrypting and then decrypting a message is to recover the original plaintext, the following must hold true to make our protocol <i>correct</i>:\n",
    "$$\n",
    "D(E(M))=M\n",
    "$$"
   ]
  },
  {
   "cell_type": "markdown",
   "metadata": {},
   "source": [
    "<h3>Algorithms and keys</h3>\n",
    "\n",
    "A cryptographic algorithm, also called a <b>cipher</b>, is the mathematical function used for encryption and decryption.\n",
    "A cryptographic key, denoted by $k$, is a string of bits used by an algorithm to transform plaintext into ciphertext or vice versa. The range of possible values of the keys is called <b>keyspace</b>.\n",
    "So the function now become:\n",
    "$$\n",
    "D_k(E_k(M))=M\n",
    "$$"
   ]
  },
  {
   "cell_type": "markdown",
   "metadata": {},
   "source": [
    "Some algorithms use a different encryption and decryption keys. That is, the encryption key $k$<sub>1</sub>, is different from decryption key $k$<sub>2</sub>:\n",
    "\n",
    "\n",
    "<center>$E$<sub>k1</sub>$(M)=C$</center>\n",
    "<center>$D$<sub>k2</sub>$(C)=M$</center>\n",
    "<center>$D$<sub>k2</sub>$E$<sub>k1</sub>$(M))=M$</center>\n",
    "\n",
    "<b>Important detail</b> is that the security of algorithms is based in the key (or keys) and none is based in the details of the algorithm. \n",
    "\n",
    "This actually means that algorithm can be published and analyzed!\n",
    "\n",
    "So that if Eva knows which algorithm Asja and Balvis use but have no information about their particular key - she has no chance read their secret message. "
   ]
  },
  {
   "cell_type": "markdown",
   "metadata": {},
   "source": [
    "<h3>Exclusive-or</h3>\n",
    "\n",
    "Exclusive-or operator <b>XOR</b> is a standard operation on bits:\n",
    "\n",
    "$$\n",
    "0⊕0=0\n",
    "$$\n",
    "$$\n",
    "0⊕1=1\n",
    "$$\n",
    "$$\n",
    "1⊕0=1\n",
    "$$\n",
    "$$\n",
    "1⊕1=0\n",
    "$$\n",
    "\n",
    "⊕ - is XOR in mathematical notation. Easy to mix up with tensor product ⊗, but those are completely different things.\n",
    "\n",
    "Also note that:\n",
    "$$\n",
    "a⊕a=0\n",
    "$$\n",
    "$$\n",
    "a⊕b⊕b=a\n",
    "$$"
   ]
  },
  {
   "cell_type": "markdown",
   "metadata": {},
   "source": [
    "<h3>Modulo 2 addition</h3>\n",
    "\n",
    "Another way of thinking about XOR is <b>mod2 addition</b> operation.\n",
    "The easiest example of modular arithmetic is the way we think about 12-hour clock, when we divide a day in two 12-hours periods.\n",
    "Simple example: If it is 10AM right now, then after 7 hours it will be 5PM. \n",
    "In usual way it should be 10+7=17, but we \"wrap\" this number around modulo 12 and get: (10+7)mod12=5, where 5 is a remainder. \n",
    "\n",
    "The result of XORing two bits is the same as the adding those two bits and applying mod2 operation.\n",
    "$$\n",
    "(0+1)mod2=1 → 0⊕1=1\n",
    "$$\n",
    "$$\n",
    "(1+1)mod2=0 → 1⊕1=0\n",
    "$$"
   ]
  },
  {
   "cell_type": "markdown",
   "metadata": {},
   "source": [
    "<h3> Task 1 </h3>\n",
    "\n",
    "Why XOR is valid operation for cryptography algorithms?\n",
    "\n",
    "<i>Answer: consider you have message 010110 and key 111011. You calculate message XOR key and get 101101. Now your initial string is encoded and there is no way to obtain initial message other than by applying same key again (recall a⊕b⊕b=a). When you XOR ciphertext with same key 101101⊕111011 the resulting string will be 010110.</i>"
   ]
  },
  {
   "cell_type": "markdown",
   "metadata": {},
   "source": [
    "<h3>One-Time Pad</h3>\n",
    "\n",
    "Believe it or not, these are are all ingredients needed to create an encryption scheme. \n",
    "\n",
    "We have two conditions to follow:\n",
    "1. Protocol must be <b>correct</b>. Balvis should be able to read the message Asja encoded. \n",
    "2. Protocol must be <b>secure</b>. Eavesdropper cannot gain any information about the message if he doesn't have the key."
   ]
  },
  {
   "cell_type": "markdown",
   "metadata": {},
   "source": [
    "<h3>Classical-Shannon secrecy</h3>\n",
    "\n",
    "Why XOR protocol is secure?\n",
    "\n",
    "The probability Eva getting a message M is independent of having seen a particular ciphertext e.\n",
    "\n",
    "$$\n",
    "P(M=m)=P(M=m|E=e)∀m∀e\n",
    "$$\n",
    "\n",
    "Which is equivalent to saying that message is independent from the ciphertext.\n",
    "\n",
    "$$\n",
    "P(M=m|E=e)=P(E=e)\n",
    "$$\n",
    "\n",
    "The security of described above protocol follows from the fact that assuming that our key is random, evenly distributed and unknown to Eva, for n=1:\n",
    "\n",
    "$$\n",
    "P=1/2 → k=0 → E=M⊕0\n",
    "$$\n",
    "$$\n",
    "P=1/2 → k=1 → E=M⊕1\n",
    "$$"
   ]
  },
  {
   "cell_type": "markdown",
   "metadata": {},
   "source": [
    "<h3> Task 2 </h3>\n",
    "\n",
    "Asja wants to send Balvis a message that contains information about their next meetup time - 9AM.\n",
    "\n",
    "Create ciphertext that Asja needs to send to Balvis.\n",
    "\n",
    "Generate random 24-bit string that Asja and Balvis uses as a pre-shared key.\n",
    "\n",
    "<i>Note: You will need to convert 9AM to a binary data. It is:001110010100000101001101</i>"
   ]
  },
  {
   "cell_type": "code",
   "execution_count": 1,
   "metadata": {},
   "outputs": [
    {
     "name": "stdout",
     "output_type": "stream",
     "text": [
      "Message = 0b1110010100000101001101\n",
      "Key = 0b10101001101000110110110\n",
      "Ciphertext = 0b11011011001000011111011\n"
     ]
    }
   ],
   "source": [
    "from random import randrange\n",
    "\n",
    "m='001110010100000101001101'\n",
    "\n",
    "#solution\n",
    "lst=[]\n",
    "i=0\n",
    "\n",
    "while i<23:\n",
    "    lst.append(randrange(2))\n",
    "    i=i+1\n",
    "    \n",
    "key=int(''.join(map(str, lst)), 2) #using bitwise operator to convert key no binary data format\n",
    "message=int(m ,2) #convert message to integer to apply xor\n",
    "\n",
    "#Encryption\n",
    "ciphertext=message^key #encrypt the message using generater key by applyting xor operator\n",
    "\n",
    "print('Message =', bin(message))\n",
    "print('Key =', bin(key))\n",
    "print('Ciphertext =', bin(ciphertext))"
   ]
  },
  {
   "cell_type": "code",
   "execution_count": 2,
   "metadata": {},
   "outputs": [
    {
     "name": "stdout",
     "output_type": "stream",
     "text": [
      "Decryption = 0b1110010100000101001101\n"
     ]
    }
   ],
   "source": [
    "#Balvis can decrypt the ciphertext by applying pre-shared secret key again\n",
    "\n",
    "decryption=ciphertext^key\n",
    "print('Decryption =', bin(decryption))"
   ]
  },
  {
   "cell_type": "markdown",
   "metadata": {},
   "source": [
    "If eavesdropper can't get access to the one-time pad <b>key</b> used to encrypt the message, this scheme is perfectly secure! \n",
    "\n",
    "By applying XOR given message is equally likely to correspond to any possible plaintext message of equal size.\n",
    "\n",
    "However, for encryption we used a key as long as the message size. And OTP security strictly rely on this. \n",
    "\n",
    "Can we do better and achieve perfect secrecy but with a smaller key?\n",
    "As Claude Shannon discovered a long time ago now, the answer is no, for the perfect secrecy, the key should be as long as the message."
   ]
  }
 ],
 "metadata": {
  "kernelspec": {
   "display_name": "Python 3",
   "language": "python",
   "name": "python3"
  },
  "language_info": {
   "codemirror_mode": {
    "name": "ipython",
    "version": 3
   },
   "file_extension": ".py",
   "mimetype": "text/x-python",
   "name": "python",
   "nbconvert_exporter": "python",
   "pygments_lexer": "ipython3",
   "version": "3.7.3"
  }
 },
 "nbformat": 4,
 "nbformat_minor": 2
}
