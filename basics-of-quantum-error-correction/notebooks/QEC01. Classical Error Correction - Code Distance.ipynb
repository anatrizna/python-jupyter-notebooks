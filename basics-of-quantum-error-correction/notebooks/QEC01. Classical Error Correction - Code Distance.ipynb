{
 "cells": [
  {
   "cell_type": "markdown",
   "metadata": {},
   "source": [
    "<table>\n",
    "    <tr>\n",
    "        <td  style=\"background-color:#ffffff;\" width=\"18%\"><img src=\"..\\images\\qworld.jpg\"  align=\"left\"></td>\n",
    "        <td style=\"background-color:#ffffff;\" width=\"*\"></td>\n",
    "        <td  style=\"background-color:#ffffff;vertical-align:text-top;\" width=\"21%\"><img src=\"..\\images\\qpoland.jpg\" align=\"right\"></td>  \n",
    "        <td  style=\"background-color:#ffffff;vertical-align:text-top;\" width=\"19%\" ><img src=\"..\\images\\qlatvia.jpg\" align=\"right\"></td>  \n",
    "    </tr>\n",
    "    <tr><td colspan=\"4\" align=\"right\" style=\"color:#777777;background-color:#ffffff;font-size:12px;\">\n",
    "        prepared by Anastasija Trizna and Oskar Słowik\n",
    "    </td></tr>\n",
    "    <tr><td colspan=\"4\" align=\"right\" style=\"color:#bbbbbb;background-color:#ffffff;font-size:11px;font-style:italic;\">\n",
    "        This cell contains some macros. If there is a problem with displaying mathematical formulas, please run this cell to load these macros.\n",
    "    </td></tr>\n",
    "</table>\n",
    "$ \\newcommand{\\bra}[1]{\\langle #1|} $\n",
    "$ \\newcommand{\\ket}[1]{|#1\\rangle} $\n",
    "$ \\newcommand{\\braket}[2]{\\langle #1|#2\\rangle} $\n",
    "$ \\newcommand{\\dot}[2]{ #1 \\cdot #2} $\n",
    "$ \\newcommand{\\biginner}[2]{\\left\\langle #1,#2\\right\\rangle} $\n",
    "$ \\newcommand{\\mymatrix}[2]{\\left( \\begin{array}{#1} #2\\end{array} \\right)} $\n",
    "$ \\newcommand{\\myvector}[1]{\\mymatrix{c}{#1}} $\n",
    "$ \\newcommand{\\myrvector}[1]{\\mymatrix{r}{#1}} $\n",
    "$ \\newcommand{\\mypar}[1]{\\left( #1 \\right)} $\n",
    "$ \\newcommand{\\mybigpar}[1]{ \\Big( #1 \\Big)} $\n",
    "$ \\newcommand{\\sqrttwo}{\\frac{1}{\\sqrt{2}}} $\n",
    "$ \\newcommand{\\dsqrttwo}{\\dfrac{1}{\\sqrt{2}}} $\n",
    "$ \\newcommand{\\onehalf}{\\frac{1}{2}} $\n",
    "$ \\newcommand{\\donehalf}{\\dfrac{1}{2}} $\n",
    "$ \\newcommand{\\hadamard}{ \\mymatrix{rr}{ \\sqrttwo & \\sqrttwo \\\\ \\sqrttwo & -\\sqrttwo }} $\n",
    "$ \\newcommand{\\vzero}{\\myvector{1\\\\0}} $\n",
    "$ \\newcommand{\\vone}{\\myvector{0\\\\1}} $\n",
    "$ \\newcommand{\\vhadamardzero}{\\myvector{ \\sqrttwo \\\\  \\sqrttwo } } $\n",
    "$ \\newcommand{\\vhadamardone}{ \\myrvector{ \\sqrttwo \\\\ -\\sqrttwo } } $\n",
    "$ \\newcommand{\\myarray}[2]{ \\begin{array}{#1}#2\\end{array}} $\n",
    "$ \\newcommand{\\X}{ \\mymatrix{cc}{0 & 1 \\\\ 1 & 0}  } $\n",
    "$ \\newcommand{\\Z}{ \\mymatrix{rr}{1 & 0 \\\\ 0 & -1}  } $\n",
    "$ \\newcommand{\\Htwo}{ \\mymatrix{rrrr}{ \\frac{1}{2} & \\frac{1}{2} & \\frac{1}{2} & \\frac{1}{2} \\\\ \\frac{1}{2} & -\\frac{1}{2} & \\frac{1}{2} & -\\frac{1}{2} \\\\ \\frac{1}{2} & \\frac{1}{2} & -\\frac{1}{2} & -\\frac{1}{2} \\\\ \\frac{1}{2} & -\\frac{1}{2} & -\\frac{1}{2} & \\frac{1}{2} } } $\n",
    "$ \\newcommand{\\CNOT}{ \\mymatrix{cccc}{1 & 0 & 0 & 0 \\\\ 0 & 1 & 0 & 0 \\\\ 0 & 0 & 0 & 1 \\\\ 0 & 0 & 1 & 0} } $\n",
    "$ \\newcommand{\\norm}[1]{ \\left\\lVert #1 \\right\\rVert } $"
   ]
  },
  {
   "cell_type": "markdown",
   "metadata": {},
   "source": [
    "<h3>Redundant encoding</h3>\n",
    "\n",
    "The simples example of classical error correction is redundant encoding, or <b>repetition code</b>.\n",
    "\n",
    "The idea behind three-bit repetiotion code is to repeat each bit of information three times. So, if you want to send one bit of information ($0$ or $1$) you will need to send:\n",
    "<center>$0 → 000$</center>\n",
    "<center>$1 → 111$</center>"
   ]
  },
  {
   "cell_type": "markdown",
   "metadata": {},
   "source": [
    "Using this encoding tactic, if we want to send <b>message</b> $0$, we would send <b>$000$ codeword</b>."
   ]
  },
  {
   "cell_type": "markdown",
   "metadata": {},
   "source": [
    "It is easy to see that if there is noise in the channel and our codeword is affected such that <b>one</b> bit gets flipped, the recepient will be able to recover initial message by <b>majority vote</b>:\n",
    "<center>1st bit flipped: $100 → 0$</center>\n",
    "<center>2nd bit flipped: $010 → 0$</center>\n",
    "<center>3rd bit flipped: $001 → 0$</center>"
   ]
  },
  {
   "cell_type": "markdown",
   "metadata": {},
   "source": [
    "However, if the codeword is affected by <b>two</b> bit-flip errors, the majority vote will lead to the incorrect message:\n",
    "<center>1st and 2nd bits flipped: $110 → 1$</center>\n",
    "<center>2nd and 3rd bits flipped: $011 → 1$</center>\n",
    "<center>3rd and 1st bits flipped: $101 → 1$</center>"
   ]
  },
  {
   "cell_type": "markdown",
   "metadata": {},
   "source": [
    "And if there are <b>three</b> bit-flip errors, our initial message becomes $111$. Which is the worst case, because $111$ represents another codeword, thus recepient will be unable to conclude about errors during message transmission. "
   ]
  },
  {
   "cell_type": "markdown",
   "metadata": {},
   "source": [
    "<h3>Code distance</h3>\n",
    "\n",
    "This leads to an importand aspect of error correction codes - the code distance, or <b>Hamming distance</b>, named after the American mathematician Richard Hamming.\n",
    "\n",
    "The distance of a code is defined as the minimum number of errors that will change one codeword to another.\n",
    "\n",
    "The Hamming distance can easily be found if w apply the XOR operation on the two words and count the number of $1$ in the result.\n",
    "\n",
    "<h3>Task 1</h3>\n",
    "\n",
    "What is the distance of three-bit repetition code?\n",
    "\n",
    "<i>Answer: 000⊕111=111 -> distance is 3"
   ]
  },
  {
   "cell_type": "markdown",
   "metadata": {},
   "source": [
    "The code distance $d$ is related to the number of errors the code can correct such that:\n",
    "<center>$d = 2t +1$</center>\n",
    "Where $t$ is number of errors code can correct. "
   ]
  },
  {
   "cell_type": "markdown",
   "metadata": {},
   "source": [
    "For three-bit repetition code:\n",
    "<li>$d=3$ - we have two codewords $000$ and $111$ and need three bits to be flipped to change one codeword to another.\n",
    "<li>$t=1$ - code corrects only one error. If there is more error - the mojority vote tactic leads to incorrect message.\n",
    "    \n",
    "<b>Three-bit repetition code is single-error correcting (SEC) code.</b>"
   ]
  },
  {
   "cell_type": "markdown",
   "metadata": {},
   "source": [
    "<h3>Minimum Hamming distance</h3>\n",
    "\n",
    "The minimum Hamming distance ($d$<sub>min</sub>) is the smallest distance between all possible pairs in a set of words.\n",
    "\n",
    "To find this value, we find the Hamming distances between all words and select the smallest one.\n",
    "\n",
    "In three-bit repetition code we have only two codewords - $000$ and $111$, the $d=3$ and $d$<sub>min</sub>$=3$.\n",
    "\n",
    "<h3>Task 2</h3>\n",
    "Consider a case where we have $4$ codewords and encode:\n",
    "$$\n",
    "00 → 0000\n",
    "$$\n",
    "$$\n",
    "11 → 1111\n",
    "$$\n",
    "$$\n",
    "01 → 0101\n",
    "$$\n",
    "$$\n",
    "10 → 1010\n",
    "$$\n",
    "\n",
    "Find $d$<sub>min</sub> for such code."
   ]
  },
  {
   "cell_type": "markdown",
   "metadata": {},
   "source": [
    "<i>Answer: First we need to find all distances and then pick the smallest one.</i>\n",
    "\n",
    "$d(0000,1111)=0000 ⊕ 1111 = 1111 → d=4$\\\n",
    "$d(1111,0101)=1111 ⊕ 0101 = 1010 → d=2$\\\n",
    "$d(0101,1010)=0101 ⊕ 1010 = 1111 → d=4$\\\n",
    "$d(1010,0000)=1010 ⊕ 0000 = 1010 → d=2$\\\n",
    "$d(1010,1111)=1010 ⊕ 1111 = 0101 → d=2$\\\n",
    "$d(0101,0000)=0101 ⊕ 0000 = 0101 → d=2$\n",
    "    \n",
    "$d$<sub>min</sub>$=2$"
   ]
  },
  {
   "cell_type": "markdown",
   "metadata": {},
   "source": [
    "<h3>[n, k ,d]</h3>\n",
    "\n",
    "Error correction codes are generally described in $[n, k, d]$ notation.\\\n",
    "$n$ - number of bits for codeword.\\\n",
    "$k$ - number of encoded bits for codeword.\\\n",
    "$d$ - code distance."
   ]
  },
  {
   "cell_type": "markdown",
   "metadata": {},
   "source": [
    "For three-bit repetition code we get $[3, 1, 3]$"
   ]
  },
  {
   "cell_type": "markdown",
   "metadata": {},
   "source": [
    "<h3>Error detection and error correction</h3>\n",
    "\n",
    "The code distance is very usefull and can be used to understand code boundaries.\n",
    "\n",
    "The code is <b>$k$ error detecting</b> iff the minimum distance between any two of its codewords is at least $d=k+1$.\\\n",
    "For three-bit repetition code:\n",
    "<li>$d=3 → k=3-1=2$\n",
    "<li>If two bit-flips occured, recepient will be able to say that there is an error in the bit string by looking at it, but will not be able to correct it."
   ]
  },
  {
   "cell_type": "markdown",
   "metadata": {},
   "source": [
    "The code is <b>$k$ error correcting</b> iff distance between any two of its codewords is at least $d=2k+1$.\\\n",
    "For three-bit repetition code:\n",
    "<li>$d=3 → k=\\frac{3-1}{{2}}=1$ \n",
    "<li>If one bit-flip occured, recepient will be able to sucessfully detect and correct an error."
   ]
  },
  {
   "cell_type": "markdown",
   "metadata": {},
   "source": [
    "Thus, the error correcting code with distance $d$ can <b>detect</b> at most $k=d-1$ errors and <b>correct</b> $k=\\frac{d-1}{{2}}$ errors."
   ]
  }
 ],
 "metadata": {
  "kernelspec": {
   "display_name": "Python 3",
   "language": "python",
   "name": "python3"
  },
  "language_info": {
   "codemirror_mode": {
    "name": "ipython",
    "version": 3
   },
   "file_extension": ".py",
   "mimetype": "text/x-python",
   "name": "python",
   "nbconvert_exporter": "python",
   "pygments_lexer": "ipython3",
   "version": "3.7.3"
  }
 },
 "nbformat": 4,
 "nbformat_minor": 2
}
