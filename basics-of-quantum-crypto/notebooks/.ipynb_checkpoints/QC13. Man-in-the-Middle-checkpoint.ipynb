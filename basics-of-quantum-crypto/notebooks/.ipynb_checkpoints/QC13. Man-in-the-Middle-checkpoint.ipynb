{
 "cells": [
  {
   "cell_type": "markdown",
   "metadata": {},
   "source": [
    "<table>\n",
    "    <tr>\n",
    "        <td  style=\"background-color:#ffffff;\" width=\"18%\"><img src=\"..\\images\\qworld.jpg\"  align=\"left\"></td>\n",
    "        <td style=\"background-color:#ffffff;\" width=\"*\"></td>\n",
    "        <td  style=\"background-color:#ffffff;vertical-align:text-top;\" width=\"21%\"><img src=\"..\\images\\qpoland.jpg\" align=\"right\"></td>  \n",
    "        <td  style=\"background-color:#ffffff;vertical-align:text-top;\" width=\"19%\" ><img src=\"..\\images\\qlatvia.jpg\" align=\"right\"></td>  \n",
    "    </tr>\n",
    "    <tr><td colspan=\"4\" align=\"right\" style=\"color:#777777;background-color:#ffffff;font-size:12px;\">\n",
    "        prepared by Anastasija Trizna\n",
    "    </td></tr>\n",
    "    <tr><td colspan=\"4\" align=\"right\" style=\"color:#bbbbbb;background-color:#ffffff;font-size:11px;font-style:italic;\">\n",
    "        This cell contains some macros. If there is a problem with displaying mathematical formulas, please run this cell to load these macros.\n",
    "    </td></tr>\n",
    "</table>\n",
    "$ \\newcommand{\\bra}[1]{\\langle #1|} $\n",
    "$ \\newcommand{\\ket}[1]{|#1\\rangle} $\n",
    "$ \\newcommand{\\braket}[2]{\\langle #1|#2\\rangle} $\n",
    "$ \\newcommand{\\dot}[2]{ #1 \\cdot #2} $\n",
    "$ \\newcommand{\\biginner}[2]{\\left\\langle #1,#2\\right\\rangle} $\n",
    "$ \\newcommand{\\mymatrix}[2]{\\left( \\begin{array}{#1} #2\\end{array} \\right)} $\n",
    "$ \\newcommand{\\myvector}[1]{\\mymatrix{c}{#1}} $\n",
    "$ \\newcommand{\\myrvector}[1]{\\mymatrix{r}{#1}} $\n",
    "$ \\newcommand{\\mypar}[1]{\\left( #1 \\right)} $\n",
    "$ \\newcommand{\\mybigpar}[1]{ \\Big( #1 \\Big)} $\n",
    "$ \\newcommand{\\sqrttwo}{\\frac{1}{\\sqrt{2}}} $\n",
    "$ \\newcommand{\\dsqrttwo}{\\dfrac{1}{\\sqrt{2}}} $\n",
    "$ \\newcommand{\\onehalf}{\\frac{1}{2}} $\n",
    "$ \\newcommand{\\donehalf}{\\dfrac{1}{2}} $\n",
    "$ \\newcommand{\\hadamard}{ \\mymatrix{rr}{ \\sqrttwo & \\sqrttwo \\\\ \\sqrttwo & -\\sqrttwo }} $\n",
    "$ \\newcommand{\\vzero}{\\myvector{1\\\\0}} $\n",
    "$ \\newcommand{\\vone}{\\myvector{0\\\\1}} $\n",
    "$ \\newcommand{\\vhadamardzero}{\\myvector{ \\sqrttwo \\\\  \\sqrttwo } } $\n",
    "$ \\newcommand{\\vhadamardone}{ \\myrvector{ \\sqrttwo \\\\ -\\sqrttwo } } $\n",
    "$ \\newcommand{\\myarray}[2]{ \\begin{array}{#1}#2\\end{array}} $\n",
    "$ \\newcommand{\\X}{ \\mymatrix{cc}{0 & 1 \\\\ 1 & 0}  } $\n",
    "$ \\newcommand{\\Z}{ \\mymatrix{rr}{1 & 0 \\\\ 0 & -1}  } $\n",
    "$ \\newcommand{\\Htwo}{ \\mymatrix{rrrr}{ \\frac{1}{2} & \\frac{1}{2} & \\frac{1}{2} & \\frac{1}{2} \\\\ \\frac{1}{2} & -\\frac{1}{2} & \\frac{1}{2} & -\\frac{1}{2} \\\\ \\frac{1}{2} & \\frac{1}{2} & -\\frac{1}{2} & -\\frac{1}{2} \\\\ \\frac{1}{2} & -\\frac{1}{2} & -\\frac{1}{2} & \\frac{1}{2} } } $\n",
    "$ \\newcommand{\\CNOT}{ \\mymatrix{cccc}{1 & 0 & 0 & 0 \\\\ 0 & 1 & 0 & 0 \\\\ 0 & 0 & 0 & 1 \\\\ 0 & 0 & 1 & 0} } $\n",
    "$ \\newcommand{\\norm}[1]{ \\left\\lVert #1 \\right\\rVert } $"
   ]
  },
  {
   "cell_type": "markdown",
   "metadata": {},
   "source": [
    "<h3>Quantum Eva"
   ]
  },
  {
   "cell_type": "markdown",
   "metadata": {},
   "source": [
    "Same as in classical cryptography, quantum cryptography security proves starts with introducing adversary - <b>Eva</b>."
   ]
  },
  {
   "cell_type": "markdown",
   "metadata": {},
   "source": [
    "And our quantum Eva is well-equiped! \n",
    "\n",
    "She has a powerful quantum computer with huge quantum memory to store qubits. \n",
    "\n",
    "She can intercept, store and resend qubits without revealing her presistance. \n",
    "\n",
    "She also can access classical channel Asja and Balvis uses and read all their messages."
   ]
  },
  {
   "cell_type": "markdown",
   "metadata": {},
   "source": [
    "Her only <b>limits</b> are:<ul>\n",
    "    <li>She cannot violate laws of physics.\n",
    "    <li>She cannot fake messages Asja and Balvis distribute during classical communication. \n",
    "\n",
    "Our classical channel is authenticated! And even if Eva will be able to break it but after Asja and Balvis ended QKD session - information in classical channel is no more relevant."
   ]
  },
  {
   "cell_type": "markdown",
   "metadata": {},
   "source": [
    "<h3>Black-hat discussion"
   ]
  },
  {
   "cell_type": "markdown",
   "metadata": {},
   "source": [
    "We will now pretend we are Eva and discuss an attack on BB84 protocol.\n",
    "\n",
    "Let's recap our BB84 noise-free protocol flow:\n",
    "\n",
    "1. Asja distributes quantum states $\\ket{x}$<sup>A</sup><sub>θ<sup>A</sup></sub>, Balvis measures states on a chosen basis $\\ket{x}$<sup>B</sup><sub>θ<sup>B</sup></sub>\n",
    "3. Balvis sends a receipt to Asja about received states $i$ and measurement bases θ<sup>B</sup>.\n",
    "4. Asja sends to Balvis θ<sup>A</sup>, they discard rounds where θ<sup>A</sup>≠θ<sup>B</sup>\n",
    "5. Asja randomly choses $n$ bits of remaining string:\n",
    "    - Asja tells Balvis which rounds are tested, they exchange $x$<sup>A</sup><sub>n</sub> and $x$<sup>B</sup><sub>n</sub>\n",
    "    - Asja and Balvis calculate QBER $𝛿$, if $𝛿$=0 they continue with final rounds, if $𝛿$≠0 they abort protocol.\n",
    "6. Asja choses extractor seed and sends it to Balvis, they generate $k$<sub>A</sub> = $Ext(x$<sup>A</sup><sub>Remain</sub>, $y)$ and $k$<sub>B</sub> = $Ext(x$<sup>B</sup><sub>Remain</sub>, $y)$"
   ]
  },
  {
   "cell_type": "markdown",
   "metadata": {},
   "source": [
    "<td style=\"background-color:#ffffff;\"><img src=\"..\\images\\protocol.png\" width=\"80%\" align=\"middle\"></td>"
   ]
  },
  {
   "cell_type": "markdown",
   "metadata": {},
   "source": [
    "Imagine that you are Eva and your goal is to hack BB84 protocol, such that at the end of QKD protocol you will have a copy of the key Asja and Balvis generated.\n",
    "\n",
    "<b>Do you have any idea?"
   ]
  },
  {
   "cell_type": "markdown",
   "metadata": {},
   "source": [
    "<h3>Burdensome authenticated channel</h3>\n",
    "\n",
    "You may wonder why do we need to keep classical authenticated channel between our legitimate users. Why don't we make BB84 to be fully quantum?"
   ]
  },
  {
   "cell_type": "markdown",
   "metadata": {},
   "source": [
    "<h3>Man-in-the-Middle attack</h3>\n",
    "\n",
    "If there is no authenticated classical channel, Eva can perform famous <b>Man-in-the-middle attack</b> (MITM). \n",
    "\n",
    "MITM is an attack where the attacker secretly alters the communications between two parties who believe that they are directly communicating with each other. \n",
    "\n",
    "Let's assume that there is no classical channel. How our protocol will change?"
   ]
  },
  {
   "cell_type": "markdown",
   "metadata": {},
   "source": [
    "<b>STEP 1: Asja-Eva</b>\n",
    "\n",
    "<li>Asja prepares random string and encode those in randomly picked bases  $θ$<sub>A</sub>.\n",
    "<li>Asja sends qubits to Balvis, but Eva intercepts those.\n",
    "<li>Eva plays Balvis role, measures qubits in randomly picked bases.\n",
    "<li>Eva then informs Asja, pretending she is Balvis, about bases she used $θ$<sub>E</sub>, encoded as $\\ket{0}$ when she used Z basis, or $\\ket{1}$ when she used X basis.\n",
    "<li>Asja thinks that she received information from Balvis and sends back $θ$<sub>A</sub> as a sequence of qubits. And of course, Eva intercepts those.\n",
    "<li>Eva then compare bases and informs Asja. "
   ]
  },
  {
   "cell_type": "markdown",
   "metadata": {},
   "source": [
    "Asja now shares key $k$<sub>AE</sub> with Eva.\n",
    "But Asja don't know about Eva presistance and believes that she has a secret key with Balvis. "
   ]
  },
  {
   "cell_type": "markdown",
   "metadata": {},
   "source": [
    "<b>STEP 2: Eva-Balvis</b>\n",
    "\n",
    "Eva starts playing Asjas' role to generate key with Balvis:\n",
    "\n",
    "<li>Eva prepares random string and encode those in randomly picked bases  $θ$<sub>E</sub>.\n",
    "<li>Eva sends qubits to Balvis.\n",
    "<li>Balvis measures qubits in randomly picked bases and sends to Asja $θ$<sub>B</sub> as a sequence of qubits. Eva intercepts those. \n",
    "<li>Eva sends to Balvis $θ$<sub>E</sub>.\n",
    "<li>Eva and Balvis removes from their key string bits, where they used different bases."
   ]
  },
  {
   "cell_type": "markdown",
   "metadata": {},
   "source": [
    "Eva and Balvis now share key $k$<sub>BE</sub>. "
   ]
  },
  {
   "cell_type": "markdown",
   "metadata": {},
   "source": [
    "<b>STEP 3: Asja-Eva-Balvis</b>\n",
    "\n",
    "Now, Asja and Eva share key $k$<sub>AE</sub>, while Eva and Balvis share key $k$<sub>BE</sub>. \n",
    "Eva can read <b>all</b> messages they exchange by intercepting and decoding, or send fake messages by encoding using keys she share with legitimate users."
   ]
  },
  {
   "cell_type": "markdown",
   "metadata": {},
   "source": [
    "<b>Classical authenticated channel helps users to authenticate their messages, thus secure their communication while exchanging measurement bases. Asja and Balvis can be 100% they talk to each other.</b>"
   ]
  }
 ],
 "metadata": {
  "kernelspec": {
   "display_name": "Python 3",
   "language": "python",
   "name": "python3"
  },
  "language_info": {
   "codemirror_mode": {
    "name": "ipython",
    "version": 3
   },
   "file_extension": ".py",
   "mimetype": "text/x-python",
   "name": "python",
   "nbconvert_exporter": "python",
   "pygments_lexer": "ipython3",
   "version": "3.7.3"
  }
 },
 "nbformat": 4,
 "nbformat_minor": 2
}
