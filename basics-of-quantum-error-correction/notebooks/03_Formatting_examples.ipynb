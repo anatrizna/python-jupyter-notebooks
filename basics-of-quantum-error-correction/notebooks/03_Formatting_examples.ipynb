{
 "cells": [
  {
   "cell_type": "markdown",
   "metadata": {},
   "source": [
    "<table>\n",
    "    <tr>\n",
    "        <td  style=\"background-color:#ffffff;\" width=\"18%\"><img src=\"..\\images\\qworld.jpg\"  align=\"left\"></td>\n",
    "        <td style=\"background-color:#ffffff;\" width=\"*\"></td>\n",
    "        <td  style=\"background-color:#ffffff;vertical-align:text-top;\" width=\"21%\"><img src=\"..\\images\\qpoland.jpg\" align=\"right\"></td>\n",
    "    </tr>\n",
    "    <tr><td colspan=\"4\" align=\"right\" style=\"color:#777777;background-color:#ffffff;font-size:12px;\">\n",
    "        prepared by Your-Name-Here\n",
    "    </td></tr>\n",
    "    <tr><td colspan=\"4\" align=\"right\" style=\"color:#bbbbbb;background-color:#ffffff;font-size:11px;font-style:italic;\">\n",
    "        This cell contains some macros. If there is a problem with displaying mathematical formulas, please run this cell to load these macros.\n",
    "    </td></tr>\n",
    "</table>\n",
    "$ \\newcommand{\\bra}[1]{\\langle #1|} $\n",
    "$ \\newcommand{\\ket}[1]{|#1\\rangle} $\n",
    "$ \\newcommand{\\braket}[2]{\\langle #1|#2\\rangle} $\n",
    "$ \\newcommand{\\dot}[2]{ #1 \\cdot #2} $\n",
    "$ \\newcommand{\\biginner}[2]{\\left\\langle #1,#2\\right\\rangle} $\n",
    "$ \\newcommand{\\mymatrix}[2]{\\left( \\begin{array}{#1} #2\\end{array} \\right)} $\n",
    "$ \\newcommand{\\myvector}[1]{\\mymatrix{c}{#1}} $\n",
    "$ \\newcommand{\\myrvector}[1]{\\mymatrix{r}{#1}} $\n",
    "$ \\newcommand{\\mypar}[1]{\\left( #1 \\right)} $\n",
    "$ \\newcommand{\\mybigpar}[1]{ \\Big( #1 \\Big)} $\n",
    "$ \\newcommand{\\sqrttwo}{\\frac{1}{\\sqrt{2}}} $\n",
    "$ \\newcommand{\\dsqrttwo}{\\dfrac{1}{\\sqrt{2}}} $\n",
    "$ \\newcommand{\\onehalf}{\\frac{1}{2}} $\n",
    "$ \\newcommand{\\donehalf}{\\dfrac{1}{2}} $\n",
    "$ \\newcommand{\\hadamard}{ \\mymatrix{rr}{ \\sqrttwo & \\sqrttwo \\\\ \\sqrttwo & -\\sqrttwo }} $\n",
    "$ \\newcommand{\\vzero}{\\myvector{1\\\\0}} $\n",
    "$ \\newcommand{\\vone}{\\myvector{0\\\\1}} $\n",
    "$ \\newcommand{\\vhadamardzero}{\\myvector{ \\sqrttwo \\\\  \\sqrttwo } } $\n",
    "$ \\newcommand{\\vhadamardone}{ \\myrvector{ \\sqrttwo \\\\ -\\sqrttwo } } $\n",
    "$ \\newcommand{\\myarray}[2]{ \\begin{array}{#1}#2\\end{array}} $\n",
    "$ \\newcommand{\\X}{ \\mymatrix{cc}{0 & 1 \\\\ 1 & 0}  } $\n",
    "$ \\newcommand{\\Z}{ \\mymatrix{rr}{1 & 0 \\\\ 0 & -1}  } $\n",
    "$ \\newcommand{\\Htwo}{ \\mymatrix{rrrr}{ \\frac{1}{2} & \\frac{1}{2} & \\frac{1}{2} & \\frac{1}{2} \\\\ \\frac{1}{2} & -\\frac{1}{2} & \\frac{1}{2} & -\\frac{1}{2} \\\\ \\frac{1}{2} & \\frac{1}{2} & -\\frac{1}{2} & -\\frac{1}{2} \\\\ \\frac{1}{2} & -\\frac{1}{2} & -\\frac{1}{2} & \\frac{1}{2} } } $\n",
    "$ \\newcommand{\\CNOT}{ \\mymatrix{cccc}{1 & 0 & 0 & 0 \\\\ 0 & 1 & 0 & 0 \\\\ 0 & 0 & 0 & 1 \\\\ 0 & 0 & 1 & 0} } $\n",
    "$ \\newcommand{\\norm}[1]{ \\left\\lVert #1 \\right\\rVert } $"
   ]
  },
  {
   "cell_type": "markdown",
   "metadata": {},
   "source": [
    "This notebook created with the aim to provide examples of Jupyter/LaTeX commands for easier training materials formatting.\\\n",
    "If you are confident in working with Jupyter/LaTeX you can skip this notebook."
   ]
  },
  {
   "cell_type": "markdown",
   "metadata": {},
   "source": [
    "<h3>Notebook header</h3>\n",
    "\n",
    "Very first notebook cell is a 'Markdown' type cell. At first sight, it contains QWorld and QCousine logos, and information about Author.\n",
    "\n",
    "But the major role of the header is to contain macros needed for formatting. You can see included macros by looking in the cell sourcecode and modify it further if your notebook needs any additional custom formula or sign. \n",
    "\n",
    "You can use header from this notebook as a template by simply copy-pasting it. Make sure you include it in every notebook!"
   ]
  },
  {
   "cell_type": "markdown",
   "metadata": {},
   "source": [
    "<h3>Text formatting</h3>\n",
    "\n",
    "<h4>I. Heading</h4>\n",
    "\n",
    "Change section heading size by using `<h2>Large</h2>`, `<h3>Medium</h3>`, `<h4>Small</h4>` commands.\\\n",
    "Examples:"
   ]
  },
  {
   "cell_type": "markdown",
   "metadata": {},
   "source": [
    "<h2>Large</h2> \n",
    "<h3>Medium</h3> \n",
    "<h4>Small</h4>"
   ]
  },
  {
   "cell_type": "markdown",
   "metadata": {},
   "source": [
    "<h4>II. New line</h4>\n",
    "\n",
    "To start text by new line add `\\` sign at the end of the sentence.\\\n",
    "Example:"
   ]
  },
  {
   "cell_type": "markdown",
   "metadata": {},
   "source": [
    "First line.\\\n",
    "Second line."
   ]
  },
  {
   "cell_type": "markdown",
   "metadata": {},
   "source": [
    "<h4>III. Text formating</h4>\n",
    "\n",
    "Commands for general text formating: `<b>bold</b>`, `<i>italic</i>`, `<u>underline</u>`, `<sub>subscript</sub>`, `<sup>superscript</sup>`\\\n",
    "Examples:"
   ]
  },
  {
   "cell_type": "markdown",
   "metadata": {},
   "source": [
    "<b>bold</b>, <i>italic</i>, <u>underline</u>, <sub>subscript</sub>, <sup>superscript</sup>"
   ]
  },
  {
   "cell_type": "markdown",
   "metadata": {},
   "source": [
    "<h4>IV. Table</h4>\n",
    "\n",
    "You can create a table with custom wight (modify % value) and lenght (include more `<th></th>` and `<td></td>` lines):\\\n",
    "`<table style=\"width:10%\">`\\\n",
    "  `<tr>`\\\n",
    "   `<th>Header</th>`\\\n",
    "   `</tr>`\\\n",
    "   `<tr>`\\\n",
    "   `<td>Text</td>`\\\n",
    " `</tr>`\\\n",
    "`</table>`\\\n",
    "Example:"
   ]
  },
  {
   "cell_type": "markdown",
   "metadata": {},
   "source": [
    "<table style=\"width:20%\">\n",
    "  <tr>\n",
    "   <th>Header1</th>\n",
    "   <th>Header2</th>\n",
    "   </tr>\n",
    "   <tr>\n",
    "   <td>Text1</td>\n",
    "   <td>Text2</td>\n",
    " </tr>\n",
    "</table>"
   ]
  },
  {
   "cell_type": "markdown",
   "metadata": {},
   "source": [
    "<h4>V. Bulleted list</h4>\n",
    "\n",
    "To draw visual attention to items you can use a bulleted list `<li>`.\\\n",
    "Example:"
   ]
  },
  {
   "cell_type": "markdown",
   "metadata": {},
   "source": [
    "<li>First\n",
    "<li>Second"
   ]
  },
  {
   "cell_type": "markdown",
   "metadata": {},
   "source": [
    "<h4>VI. Center text</h4>\n",
    "\n",
    "To to center a text use `<center>Target text here</center>` command.\\\n",
    "Example:"
   ]
  },
  {
   "cell_type": "markdown",
   "metadata": {},
   "source": [
    "<center>Target text here</center>"
   ]
  },
  {
   "cell_type": "markdown",
   "metadata": {},
   "source": [
    "<h3>Math formulas formatting</h3>"
   ]
  },
  {
   "cell_type": "markdown",
   "metadata": {},
   "source": [
    "<h4>I. Variable in text</h4>\n",
    "\n",
    "If you want to emphasise in text the name of your variable you can do it by surrounding it with $ signs.\\\n",
    "Example:"
   ]
  },
  {
   "cell_type": "markdown",
   "metadata": {},
   "source": [
    "$CNOT$"
   ]
  },
  {
   "cell_type": "markdown",
   "metadata": {},
   "source": [
    "<h4>II. Formula in text</h4>\n",
    "\n",
    "If you want to emphasise a formula in text you can do it by surrounding it with $$ signs. It will automatically center and change font of the formula.\\\n",
    "Example:"
   ]
  },
  {
   "cell_type": "markdown",
   "metadata": {},
   "source": [
    "$$\n",
    "{\\displaystyle i\\hbar {\\frac {d}{dt}}\\vert \\Psi (t)\\rangle ={\\hat {H}}\\vert \\Psi (t)\\rangle }\n",
    "$$"
   ]
  },
  {
   "cell_type": "markdown",
   "metadata": {},
   "source": [
    "<h4>III. Quantum notation</h4>\n",
    "\n",
    "Here is a list that covers some basic quantum notation and symbols you can find useful while preparing materials.\\\n",
    "Note that you need to surround commands with $ signs to display it correctly. \n",
    "\n",
    "<b>Name → Command → Result</b>"
   ]
  },
  {
   "cell_type": "markdown",
   "metadata": {},
   "source": [
    "Bra and ket → `$\\bra{0}$` and `$\\ket{1}$` → $\\bra{0}$ and $\\ket{1}$\\\n",
    "Tensor → `$\\bigotimes$` → $\\bigotimes$\\\n",
    "Psi → `$\\Psi$` → $\\Psi$ \\\n",
    "Phi → `$\\Phi$`→ $\\Phi$\\\n",
    "Theta → `$\\Theta$` → $\\Theta$\\\n",
    "Hamiltonian → `$\\hat{H}$` → $\\hat{H}$\\\n",
    "Vector → `$\\vec{V}$` → $\\vec{V}$"
   ]
  },
  {
   "cell_type": "markdown",
   "metadata": {},
   "source": [
    "Alpha → `$\\alpha$` → $\\alpha$\\\n",
    "Beta → `$\\beta$` → $\\beta$\\\n",
    "Gamma → `$\\gamma$` → $\\gamma$\\\n",
    "Delta → `$\\delta$` → $\\delta$"
   ]
  },
  {
   "cell_type": "markdown",
   "metadata": {},
   "source": [
    "Square root → `$\\sqrt{2}$` → $\\sqrt{2}$\\\n",
    "Onehalf  → `$\\onehalf$` → $\\onehalf$\\\n",
    "Custom faction → `$\\frac{1}{\\sqrt{2}}$` → $\\frac{1}{\\sqrt{2}}$\\\n",
    "Sum → `$\\sum_{lower}^{upper}$` → $\\sum_{lower}^{upper}$"
   ]
  },
  {
   "cell_type": "markdown",
   "metadata": {},
   "source": [
    "Hadamard matrix → `$\\hadamard$` → $\\hadamard$\\\n",
    "$\\ket{0}$ vector  → `$\\vzero$` → $\\vzero$\\\n",
    "$\\ket{1}$ vector  → `$\\vone$` → $\\vone$\\\n",
    "$X$ gate matrix → `$\\X$` → $\\X$\\\n",
    "$Z$ gate matrix → `$\\Z$` → $\\Z$\\\n",
    "$CNOT$ gate matrix → `$\\CNOT$` → $\\CNOT$\\\n",
    "Custom matrix → `$I=\\mymatrix{rr}{1&0\\\\0&1}$` → $I=\\mymatrix{rr}{1&0\\\\0&1}$\\\n",
    "Row vector → `$v = \\mypar{1~~-2~~0~~-5}$` → $v = \\mypar{1~~-2~~0~~-5}$\\\n",
    "Column vector → `$v =\\mymatrix{r}{1\\\\-2\\\\0\\\\5}$` → $v =\\mymatrix{r}{1\\\\-2\\\\0\\\\5}$"
   ]
  },
  {
   "cell_type": "markdown",
   "metadata": {},
   "source": [
    "Dots → `$\\cdots$` → $\\cdots$\\\n",
    "Multiply  → `$A \\cdot B$` → $A \\cdot B$\\\n",
    "Norm → `$\\norm{v}$` → $\\norm{v}$\\\n",
    "Iff → `$\\iff$` → $\\iff$\\\n",
    "Infinity → `$\\infty$` → $\\infty$"
   ]
  },
  {
   "cell_type": "markdown",
   "metadata": {},
   "source": [
    "<h3>Additional formating notes</h3>"
   ]
  },
  {
   "cell_type": "markdown",
   "metadata": {},
   "source": [
    "<li> If any formula requires an additional macros to display correctly, feel free to add it in your notebook header.\n",
    "<li> You can find more symbols according to your needs by searching in web for Latex Math command or ask in our QKitchen → General Slack channel.\n",
    "<li> There is no grammar auto-correction function in Jupyter notebooks.\n",
    "<li> Keep additional letters before notebook numbering, otherwise when you reach notebook #10 it will go on the top of your notebook list. Example: \"01.Notebook\" -> \"Q01.Notebook\", this way once you reach Q10 it will stay right on place."
   ]
  }
 ],
 "metadata": {
  "kernelspec": {
   "display_name": "Python 3",
   "language": "python",
   "name": "python3"
  },
  "language_info": {
   "codemirror_mode": {
    "name": "ipython",
    "version": 3
   },
   "file_extension": ".py",
   "mimetype": "text/x-python",
   "name": "python",
   "nbconvert_exporter": "python",
   "pygments_lexer": "ipython3",
   "version": "3.7.3"
  }
 },
 "nbformat": 4,
 "nbformat_minor": 2
}
